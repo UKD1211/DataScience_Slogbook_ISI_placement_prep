{
  "nbformat": 4,
  "nbformat_minor": 0,
  "metadata": {
    "colab": {
      "provenance": [],
      "authorship_tag": "ABX9TyP4aXEBHv7rI2vzFBFjQW87",
      "include_colab_link": true
    },
    "kernelspec": {
      "name": "python3",
      "display_name": "Python 3"
    },
    "language_info": {
      "name": "python"
    }
  },
  "cells": [
    {
      "cell_type": "markdown",
      "metadata": {
        "id": "view-in-github",
        "colab_type": "text"
      },
      "source": [
        "<a href=\"https://colab.research.google.com/github/UKD1211/DataScience_Slogbook_ISI_placement_prep/blob/main/Numpy_fundamentals.ipynb\" target=\"_parent\"><img src=\"https://colab.research.google.com/assets/colab-badge.svg\" alt=\"Open In Colab\"/></a>"
      ]
    },
    {
      "cell_type": "markdown",
      "source": [
        "### What is numpy?\n",
        "\n",
        "NumPy is the fundamental package for scientific computing in Python. It is a Python library that provides a multidimensional array object, various derived objects (such as masked arrays and matrices), and an assortment of routines for fast operations on arrays, including mathematical, logical, shape manipulation, sorting, selecting, I/O, discrete Fourier transforms, basic linear algebra, basic statistical operations, random simulation and much more.\n",
        "\n",
        "\n",
        "At the core of the NumPy package, is the ndarray object. This encapsulates n-dimensional arrays of homogeneous data types"
      ],
      "metadata": {
        "id": "41V2RbXWyG0g"
      }
    },
    {
      "cell_type": "markdown",
      "source": [
        "### Numpy Arrays Vs Python Sequences\n",
        "\n",
        "- NumPy arrays have a fixed size at creation, unlike Python lists (which can grow dynamically). Changing the size of an ndarray will create a new array and delete the original.\n",
        "\n",
        "- The elements in a NumPy array are all required to be of the same data type, and thus will be the same size in memory.\n",
        "\n",
        "- NumPy arrays facilitate advanced mathematical and other types of operations on large numbers of data. Typically, such operations are executed more efficiently and with less code than is possible using Python’s built-in sequences.\n",
        "\n",
        "- A growing plethora of scientific and mathematical Python-based packages are using NumPy arrays; though these typically support Python-sequence input, they convert such input to NumPy arrays prior to processing, and they often output NumPy arrays."
      ],
      "metadata": {
        "id": "46gNKJNGyKaH"
      }
    },
    {
      "cell_type": "markdown",
      "source": [
        "### Creating Numpy Arrays"
      ],
      "metadata": {
        "id": "LGKJdEEh0zy1"
      }
    },
    {
      "cell_type": "code",
      "source": [
        "#np.array\n",
        "import numpy as np\n",
        "\n",
        "a = np.array([1,2,3])\n",
        "print(a)\n",
        "\n",
        "type(a)   #vector"
      ],
      "metadata": {
        "colab": {
          "base_uri": "https://localhost:8080/"
        },
        "id": "Q7J1pLWC04C7",
        "outputId": "1755eb09-1e11-4d82-dd87-d344a52ea53f"
      },
      "execution_count": 4,
      "outputs": [
        {
          "output_type": "stream",
          "name": "stdout",
          "text": [
            "[1 2 3]\n"
          ]
        },
        {
          "output_type": "execute_result",
          "data": {
            "text/plain": [
              "numpy.ndarray"
            ]
          },
          "metadata": {},
          "execution_count": 4
        }
      ]
    },
    {
      "cell_type": "code",
      "source": [
        "#2D and 3D\n",
        "\n",
        "b = np.array([[1,2,3],[4,5,6]])\n",
        "print(b)   #matrix"
      ],
      "metadata": {
        "colab": {
          "base_uri": "https://localhost:8080/"
        },
        "id": "LigBshPE1Ind",
        "outputId": "955cdfc7-c080-4563-faaa-43bfde82c746"
      },
      "execution_count": 5,
      "outputs": [
        {
          "output_type": "stream",
          "name": "stdout",
          "text": [
            "[[1 2 3]\n",
            " [4 5 6]]\n"
          ]
        }
      ]
    },
    {
      "cell_type": "code",
      "source": [
        "# 3D\n",
        "\n",
        "c = np.array([[[1,2],[3,4]],[[5,6],[7,8]]])\n",
        "print(c)   #Tensors"
      ],
      "metadata": {
        "colab": {
          "base_uri": "https://localhost:8080/"
        },
        "id": "o25rLhTl1rJB",
        "outputId": "fcdb1767-44b1-4241-88fc-819cc68a6bf1"
      },
      "execution_count": 7,
      "outputs": [
        {
          "output_type": "stream",
          "name": "stdout",
          "text": [
            "[[[1 2]\n",
            "  [3 4]]\n",
            "\n",
            " [[5 6]\n",
            "  [7 8]]]\n"
          ]
        }
      ]
    },
    {
      "cell_type": "code",
      "source": [
        "#dtype\n",
        "\n",
        "np.array([1,2,3], dtype=float)"
      ],
      "metadata": {
        "colab": {
          "base_uri": "https://localhost:8080/"
        },
        "id": "WxozRXEa2KeE",
        "outputId": "a0dcbbc0-9aa2-4bfa-b552-f506c9e246fb"
      },
      "execution_count": 11,
      "outputs": [
        {
          "output_type": "execute_result",
          "data": {
            "text/plain": [
              "array([1., 2., 3.])"
            ]
          },
          "metadata": {},
          "execution_count": 11
        }
      ]
    },
    {
      "cell_type": "code",
      "source": [
        "#np.arange\n",
        "np.arange(1,11,2)"
      ],
      "metadata": {
        "colab": {
          "base_uri": "https://localhost:8080/"
        },
        "id": "_jFBAEqm2XX2",
        "outputId": "e7b14a29-8926-4e0a-eea5-71e89fe2c803"
      },
      "execution_count": 13,
      "outputs": [
        {
          "output_type": "execute_result",
          "data": {
            "text/plain": [
              "array([1, 3, 5, 7, 9])"
            ]
          },
          "metadata": {},
          "execution_count": 13
        }
      ]
    },
    {
      "cell_type": "code",
      "source": [
        "#with reshape\n",
        "\n",
        "np.arange(1,13).reshape(2,6)"
      ],
      "metadata": {
        "colab": {
          "base_uri": "https://localhost:8080/"
        },
        "id": "JljlHRY9AMO9",
        "outputId": "0b86ddde-ac4e-404c-fada-3ee969ff2b7d"
      },
      "execution_count": 18,
      "outputs": [
        {
          "output_type": "execute_result",
          "data": {
            "text/plain": [
              "array([[ 1,  2,  3,  4,  5,  6],\n",
              "       [ 7,  8,  9, 10, 11, 12]])"
            ]
          },
          "metadata": {},
          "execution_count": 18
        }
      ]
    },
    {
      "cell_type": "code",
      "source": [
        "#np.ones and np.zeros\n",
        "\n",
        "np.ones((3,4))    #in cases of deep learnning where i have to initialize the value , very fast"
      ],
      "metadata": {
        "colab": {
          "base_uri": "https://localhost:8080/"
        },
        "id": "y-ocz8pPAfSB",
        "outputId": "bada8fa8-7e8d-4d30-9753-80b647b962f3"
      },
      "execution_count": 20,
      "outputs": [
        {
          "output_type": "execute_result",
          "data": {
            "text/plain": [
              "array([[1., 1., 1., 1.],\n",
              "       [1., 1., 1., 1.],\n",
              "       [1., 1., 1., 1.]])"
            ]
          },
          "metadata": {},
          "execution_count": 20
        }
      ]
    },
    {
      "cell_type": "markdown",
      "source": [
        "![image.png](data:image/png;base64,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)"
      ],
      "metadata": {
        "id": "YDJDNNKfBeKx"
      }
    },
    {
      "cell_type": "code",
      "source": [
        "np.zeros((3,4))"
      ],
      "metadata": {
        "colab": {
          "base_uri": "https://localhost:8080/"
        },
        "id": "6OwehgwTBBJr",
        "outputId": "475beba3-3c4c-46c7-c3fe-dce96a06fdd5"
      },
      "execution_count": 21,
      "outputs": [
        {
          "output_type": "execute_result",
          "data": {
            "text/plain": [
              "array([[0., 0., 0., 0.],\n",
              "       [0., 0., 0., 0.],\n",
              "       [0., 0., 0., 0.]])"
            ]
          },
          "metadata": {},
          "execution_count": 21
        }
      ]
    },
    {
      "cell_type": "code",
      "source": [
        "# np.random\n",
        "\n",
        "np.random.random((3,4))"
      ],
      "metadata": {
        "colab": {
          "base_uri": "https://localhost:8080/"
        },
        "id": "ZRhwQlQkBsJr",
        "outputId": "f644a652-a541-4cc9-f4d2-393289e971a7"
      },
      "execution_count": 25,
      "outputs": [
        {
          "output_type": "execute_result",
          "data": {
            "text/plain": [
              "array([[0.62013062, 0.11831963, 0.40653952, 0.10195093],\n",
              "       [0.05675311, 0.79451784, 0.62506278, 0.79580366],\n",
              "       [0.50291564, 0.48419593, 0.68275753, 0.13805405]])"
            ]
          },
          "metadata": {},
          "execution_count": 25
        }
      ]
    },
    {
      "cell_type": "code",
      "source": [
        "# np.linspace   #linearly spaced\n",
        "\n",
        "c = np.linspace(-10,10,10)   #given range e equal distance e points generate\n",
        "c"
      ],
      "metadata": {
        "colab": {
          "base_uri": "https://localhost:8080/"
        },
        "id": "QsXXl5uNB1kN",
        "outputId": "840b0e77-9edb-49ff-b40e-ba72d5879cd0"
      },
      "execution_count": 27,
      "outputs": [
        {
          "output_type": "execute_result",
          "data": {
            "text/plain": [
              "array([-10.        ,  -7.77777778,  -5.55555556,  -3.33333333,\n",
              "        -1.11111111,   1.11111111,   3.33333333,   5.55555556,\n",
              "         7.77777778,  10.        ])"
            ]
          },
          "metadata": {},
          "execution_count": 27
        }
      ]
    },
    {
      "cell_type": "code",
      "source": [
        "# np.identity\n",
        "\n",
        "np.identity(3,dtype = int)   #for identity matrix"
      ],
      "metadata": {
        "colab": {
          "base_uri": "https://localhost:8080/"
        },
        "id": "WO-XrOViCO9h",
        "outputId": "a2ddb473-55ce-40d1-e2f5-d6848bf4e06d"
      },
      "execution_count": 30,
      "outputs": [
        {
          "output_type": "execute_result",
          "data": {
            "text/plain": [
              "array([[1, 0, 0],\n",
              "       [0, 1, 0],\n",
              "       [0, 0, 1]])"
            ]
          },
          "metadata": {},
          "execution_count": 30
        }
      ]
    },
    {
      "cell_type": "code",
      "source": [
        "np.arange(16).reshape(2,2,2,2)  #4D array"
      ],
      "metadata": {
        "colab": {
          "base_uri": "https://localhost:8080/"
        },
        "id": "QThRAhqPCwry",
        "outputId": "1a666592-bfc6-430e-cdc5-4459e04e8272"
      },
      "execution_count": 32,
      "outputs": [
        {
          "output_type": "execute_result",
          "data": {
            "text/plain": [
              "array([[[[ 0,  1],\n",
              "         [ 2,  3]],\n",
              "\n",
              "        [[ 4,  5],\n",
              "         [ 6,  7]]],\n",
              "\n",
              "\n",
              "       [[[ 8,  9],\n",
              "         [10, 11]],\n",
              "\n",
              "        [[12, 13],\n",
              "         [14, 15]]]])"
            ]
          },
          "metadata": {},
          "execution_count": 32
        }
      ]
    },
    {
      "cell_type": "code",
      "source": [],
      "metadata": {
        "id": "pKj3KK4RD_vJ"
      },
      "execution_count": null,
      "outputs": []
    }
  ]
}