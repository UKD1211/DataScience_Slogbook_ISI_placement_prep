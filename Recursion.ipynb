{
  "nbformat": 4,
  "nbformat_minor": 0,
  "metadata": {
    "colab": {
      "provenance": [],
      "authorship_tag": "ABX9TyPVLtJa0RZqDWjaRv+dPoVT",
      "include_colab_link": true
    },
    "kernelspec": {
      "name": "python3",
      "display_name": "Python 3"
    },
    "language_info": {
      "name": "python"
    }
  },
  "cells": [
    {
      "cell_type": "markdown",
      "metadata": {
        "id": "view-in-github",
        "colab_type": "text"
      },
      "source": [
        "<a href=\"https://colab.research.google.com/github/UKD1211/DataScience_Slogbook_ISI_placement_prep/blob/main/Recursion.ipynb\" target=\"_parent\"><img src=\"https://colab.research.google.com/assets/colab-badge.svg\" alt=\"Open In Colab\"/></a>"
      ]
    },
    {
      "cell_type": "markdown",
      "source": [
        "# **Recursion**"
      ],
      "metadata": {
        "id": "r0tb7gpMjyck"
      }
    },
    {
      "cell_type": "code",
      "source": [
        "# this is Iterative process\n",
        "\n",
        "def multiply(a,b):\n",
        "  sum = 0\n",
        "  for i in range(1,b+1):\n",
        "    sum = sum+a\n",
        "  return sum\n"
      ],
      "metadata": {
        "id": "0waQJI0Ej6Nh"
      },
      "execution_count": 1,
      "outputs": []
    },
    {
      "cell_type": "code",
      "source": [
        "multiply(5,6)"
      ],
      "metadata": {
        "colab": {
          "base_uri": "https://localhost:8080/"
        },
        "id": "cUj3DzkqefVL",
        "outputId": "adb1653a-5512-4edb-9d54-1075c4ee731e"
      },
      "execution_count": 3,
      "outputs": [
        {
          "output_type": "execute_result",
          "data": {
            "text/plain": [
              "30"
            ]
          },
          "metadata": {},
          "execution_count": 3
        }
      ]
    },
    {
      "cell_type": "code",
      "source": [
        "# what if in recursion?\n",
        "\n",
        "# here main is the base case\n",
        "\n",
        "# 3*4\n",
        "# 3+3*3\n",
        "# 3+3+2*3\n",
        "\n",
        "\n",
        "def mul(a,b):\n",
        "  if b==1:\n",
        "    return a\n",
        "  else:\n",
        "    return a + mul(a,b-1)\n",
        "\n",
        "print(mul(5,6))"
      ],
      "metadata": {
        "colab": {
          "base_uri": "https://localhost:8080/"
        },
        "id": "Vqg2NreAejmf",
        "outputId": "2a37881e-fc21-4409-f933-618b2226f1e8"
      },
      "execution_count": 4,
      "outputs": [
        {
          "output_type": "stream",
          "name": "stdout",
          "text": [
            "30\n"
          ]
        }
      ]
    },
    {
      "cell_type": "code",
      "source": [],
      "metadata": {
        "id": "GaqsisrYiRoF"
      },
      "execution_count": null,
      "outputs": []
    }
  ]
}