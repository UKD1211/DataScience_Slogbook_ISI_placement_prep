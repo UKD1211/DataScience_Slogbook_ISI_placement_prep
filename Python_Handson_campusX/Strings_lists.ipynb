{
  "nbformat": 4,
  "nbformat_minor": 0,
  "metadata": {
    "colab": {
      "provenance": [],
      "authorship_tag": "ABX9TyPb1v/BQeFzqWNZfUrE9dta",
      "include_colab_link": true
    },
    "kernelspec": {
      "name": "python3",
      "display_name": "Python 3"
    },
    "language_info": {
      "name": "python"
    }
  },
  "cells": [
    {
      "cell_type": "markdown",
      "metadata": {
        "id": "view-in-github",
        "colab_type": "text"
      },
      "source": [
        "<a href=\"https://colab.research.google.com/github/UKD1211/DataScience_Slogbook_ISI_placement_prep/blob/main/Strings_lists.ipynb\" target=\"_parent\"><img src=\"https://colab.research.google.com/assets/colab-badge.svg\" alt=\"Open In Colab\"/></a>"
      ]
    },
    {
      "cell_type": "markdown",
      "source": [
        "Strings are sequence of Characters\n",
        "\n",
        "In Python specifically, strings are a sequence of Unicode Characters\n",
        "\n",
        "- Creating Strings\n",
        "- Accessing Strings\n",
        "- Adding Chars to Strings\n",
        "- Editing Strings\n",
        "- Deleting Strings\n",
        "- Operations on Strings\n",
        "- String Functions"
      ],
      "metadata": {
        "id": "rAXduX0VIDu-"
      }
    },
    {
      "cell_type": "markdown",
      "source": [
        "# Creating Strings"
      ],
      "metadata": {
        "id": "t24zmTAKLcJU"
      }
    },
    {
      "cell_type": "code",
      "source": [
        "s = 'hello'\n",
        "s = \"hello\"\n",
        "s = '''hello'''\n",
        "s = \"\"\"hello\"\"\"\n",
        "s = str('hello')\n",
        "# for multi line strings here we use''''''\n",
        "print(s)"
      ],
      "metadata": {
        "colab": {
          "base_uri": "https://localhost:8080/"
        },
        "id": "OHfabZp9IcGm",
        "outputId": "45ff785d-5d31-4c88-9ebf-61d436b12c63"
      },
      "execution_count": null,
      "outputs": [
        {
          "output_type": "stream",
          "name": "stdout",
          "text": [
            "hello\n"
          ]
        }
      ]
    },
    {
      "cell_type": "code",
      "source": [
        "\"it's raining outside\""
      ],
      "metadata": {
        "colab": {
          "base_uri": "https://localhost:8080/",
          "height": 35
        },
        "id": "Rfs9l-9cLZPG",
        "outputId": "1614cb54-04cc-4c3b-b106-4c76e4d45d57"
      },
      "execution_count": null,
      "outputs": [
        {
          "output_type": "execute_result",
          "data": {
            "text/plain": [
              "\"it's raining outside\""
            ],
            "application/vnd.google.colaboratory.intrinsic+json": {
              "type": "string"
            }
          },
          "metadata": {},
          "execution_count": 4
        }
      ]
    },
    {
      "cell_type": "markdown",
      "source": [
        "# Accessing Substrings from String"
      ],
      "metadata": {
        "id": "U2rtMLxKMUiN"
      }
    },
    {
      "cell_type": "code",
      "source": [
        "#Positive indexing\n",
        "\n",
        "s = \"hello world\"\n",
        "print(s[0])\n",
        "print(s[6])"
      ],
      "metadata": {
        "colab": {
          "base_uri": "https://localhost:8080/"
        },
        "id": "KEclrRC5L1Uj",
        "outputId": "889b63ea-d76e-4f58-dc6c-a065531e01a2"
      },
      "execution_count": null,
      "outputs": [
        {
          "output_type": "stream",
          "name": "stdout",
          "text": [
            "h\n",
            "w\n"
          ]
        }
      ]
    },
    {
      "cell_type": "code",
      "source": [
        "#Negative indexing\n",
        "\n",
        "s = \"hello world\"\n",
        "print(s[-1])\n",
        "print(s[-2])    #by this we can get the length actuallyor last character of string"
      ],
      "metadata": {
        "colab": {
          "base_uri": "https://localhost:8080/"
        },
        "id": "ViyL-bhRMs8e",
        "outputId": "739cfafc-4e82-49c6-94d2-c675dae15a83"
      },
      "execution_count": null,
      "outputs": [
        {
          "output_type": "stream",
          "name": "stdout",
          "text": [
            "d\n",
            "l\n"
          ]
        }
      ]
    },
    {
      "cell_type": "code",
      "source": [
        "# Slicing\n",
        "\n",
        "s = \"hello world\"\n",
        "print(s[0:5])\n",
        "print(s[6:11])\n",
        "print(s[2:3])\n",
        "print(s[2:])\n",
        "print(s[:5])\n",
        "print(s[:])\n",
        "print(s[0:6:2])\n",
        "print(s[6:0:-1])"
      ],
      "metadata": {
        "colab": {
          "base_uri": "https://localhost:8080/"
        },
        "id": "nk8wMSTXNEH9",
        "outputId": "923d3b2d-3822-47e1-ee4f-049565984b3f"
      },
      "execution_count": null,
      "outputs": [
        {
          "output_type": "stream",
          "name": "stdout",
          "text": [
            "hello\n",
            "world\n",
            "l\n",
            "llo world\n",
            "hello\n",
            "hello world\n",
            "hlo\n",
            "w olle\n"
          ]
        }
      ]
    },
    {
      "cell_type": "code",
      "source": [
        "print(s[::-1])   #this is used to reverse the given strings"
      ],
      "metadata": {
        "colab": {
          "base_uri": "https://localhost:8080/"
        },
        "id": "os9HWGhMN6tr",
        "outputId": "2fb9fbbb-4698-46e0-ab8f-29dbe5e21d47"
      },
      "execution_count": null,
      "outputs": [
        {
          "output_type": "stream",
          "name": "stdout",
          "text": [
            "dlrow olleh\n"
          ]
        }
      ]
    },
    {
      "cell_type": "code",
      "source": [
        "print(s[-5:])"
      ],
      "metadata": {
        "colab": {
          "base_uri": "https://localhost:8080/"
        },
        "id": "IHHyPINIPDfl",
        "outputId": "1c07b528-c69e-431f-aa8c-518a8d9cd7f2"
      },
      "execution_count": null,
      "outputs": [
        {
          "output_type": "stream",
          "name": "stdout",
          "text": [
            "world\n"
          ]
        }
      ]
    },
    {
      "cell_type": "code",
      "source": [
        "print(s[-1:-6:-1])"
      ],
      "metadata": {
        "colab": {
          "base_uri": "https://localhost:8080/"
        },
        "id": "ALNp8JFUPnAf",
        "outputId": "6899c6d2-e9ae-42e4-aae1-6d7407fdfa1c"
      },
      "execution_count": null,
      "outputs": [
        {
          "output_type": "stream",
          "name": "stdout",
          "text": [
            "dlrow\n"
          ]
        }
      ]
    },
    {
      "cell_type": "markdown",
      "source": [
        "# Editing and Deleting"
      ],
      "metadata": {
        "id": "4dFrxDOq46_9"
      }
    },
    {
      "cell_type": "code",
      "source": [
        "s = 'uttam'\n",
        "s[0] = 'U'\n",
        "\n",
        "\n",
        "#Python Strings are immutable means u cant delete or edit the string here"
      ],
      "metadata": {
        "id": "MMwWzhSx5IOk",
        "outputId": "8e26d117-6d7d-4720-a208-0904d16cb30d",
        "colab": {
          "base_uri": "https://localhost:8080/",
          "height": 159
        }
      },
      "execution_count": null,
      "outputs": [
        {
          "output_type": "error",
          "ename": "TypeError",
          "evalue": "'str' object does not support item assignment",
          "traceback": [
            "\u001b[0;31m---------------------------------------------------------------------------\u001b[0m",
            "\u001b[0;31mTypeError\u001b[0m                                 Traceback (most recent call last)",
            "\u001b[0;32m/tmp/ipython-input-1-4113982176.py\u001b[0m in \u001b[0;36m<cell line: 0>\u001b[0;34m()\u001b[0m\n\u001b[1;32m      1\u001b[0m \u001b[0ms\u001b[0m \u001b[0;34m=\u001b[0m \u001b[0;34m'uttam'\u001b[0m\u001b[0;34m\u001b[0m\u001b[0;34m\u001b[0m\u001b[0m\n\u001b[0;32m----> 2\u001b[0;31m \u001b[0ms\u001b[0m\u001b[0;34m[\u001b[0m\u001b[0;36m0\u001b[0m\u001b[0;34m]\u001b[0m \u001b[0;34m=\u001b[0m \u001b[0;34m'U'\u001b[0m\u001b[0;34m\u001b[0m\u001b[0;34m\u001b[0m\u001b[0m\n\u001b[0m",
            "\u001b[0;31mTypeError\u001b[0m: 'str' object does not support item assignment"
          ]
        }
      ]
    },
    {
      "cell_type": "code",
      "source": [
        "s"
      ],
      "metadata": {
        "id": "nLAtUezN5Rv5",
        "outputId": "c09e993c-8a94-43c7-f52f-3f4398729df2",
        "colab": {
          "base_uri": "https://localhost:8080/",
          "height": 35
        }
      },
      "execution_count": null,
      "outputs": [
        {
          "output_type": "execute_result",
          "data": {
            "text/plain": [
              "'uttam'"
            ],
            "application/vnd.google.colaboratory.intrinsic+json": {
              "type": "string"
            }
          },
          "metadata": {},
          "execution_count": 2
        }
      ]
    },
    {
      "cell_type": "code",
      "source": [
        "del s"
      ],
      "metadata": {
        "id": "aGA0ZNwR88QS"
      },
      "execution_count": null,
      "outputs": []
    },
    {
      "cell_type": "code",
      "source": [
        "s"
      ],
      "metadata": {
        "id": "0CKstYAW9AT7",
        "outputId": "2752aca4-4629-4db5-db76-2c2e0d5e0315",
        "colab": {
          "base_uri": "https://localhost:8080/",
          "height": 141
        }
      },
      "execution_count": null,
      "outputs": [
        {
          "output_type": "error",
          "ename": "NameError",
          "evalue": "name 's' is not defined",
          "traceback": [
            "\u001b[0;31m---------------------------------------------------------------------------\u001b[0m",
            "\u001b[0;31mNameError\u001b[0m                                 Traceback (most recent call last)",
            "\u001b[0;32m/tmp/ipython-input-4-1028141915.py\u001b[0m in \u001b[0;36m<cell line: 0>\u001b[0;34m()\u001b[0m\n\u001b[0;32m----> 1\u001b[0;31m \u001b[0ms\u001b[0m\u001b[0;34m\u001b[0m\u001b[0;34m\u001b[0m\u001b[0m\n\u001b[0m",
            "\u001b[0;31mNameError\u001b[0m: name 's' is not defined"
          ]
        }
      ]
    },
    {
      "cell_type": "code",
      "source": [
        "s = 'hello world'\n",
        "del s[-1:-5:2]\n",
        "print(s)   # here again by using the slicing i want to del some parts in the strings but strings are immutable so no editing"
      ],
      "metadata": {
        "id": "Q4XVQ59m9BEC",
        "outputId": "62862f94-3534-4f4f-f61a-199f7e871f06",
        "colab": {
          "base_uri": "https://localhost:8080/",
          "height": 176
        }
      },
      "execution_count": null,
      "outputs": [
        {
          "output_type": "error",
          "ename": "TypeError",
          "evalue": "'str' object does not support item deletion",
          "traceback": [
            "\u001b[0;31m---------------------------------------------------------------------------\u001b[0m",
            "\u001b[0;31mTypeError\u001b[0m                                 Traceback (most recent call last)",
            "\u001b[0;32m/tmp/ipython-input-5-266792670.py\u001b[0m in \u001b[0;36m<cell line: 0>\u001b[0;34m()\u001b[0m\n\u001b[1;32m      1\u001b[0m \u001b[0ms\u001b[0m \u001b[0;34m=\u001b[0m \u001b[0;34m'hello world'\u001b[0m\u001b[0;34m\u001b[0m\u001b[0;34m\u001b[0m\u001b[0m\n\u001b[0;32m----> 2\u001b[0;31m \u001b[0;32mdel\u001b[0m \u001b[0ms\u001b[0m\u001b[0;34m[\u001b[0m\u001b[0;34m-\u001b[0m\u001b[0;36m1\u001b[0m\u001b[0;34m:\u001b[0m\u001b[0;34m-\u001b[0m\u001b[0;36m5\u001b[0m\u001b[0;34m:\u001b[0m\u001b[0;36m2\u001b[0m\u001b[0;34m]\u001b[0m\u001b[0;34m\u001b[0m\u001b[0;34m\u001b[0m\u001b[0m\n\u001b[0m\u001b[1;32m      3\u001b[0m \u001b[0mprint\u001b[0m\u001b[0;34m(\u001b[0m\u001b[0ms\u001b[0m\u001b[0;34m)\u001b[0m\u001b[0;34m\u001b[0m\u001b[0;34m\u001b[0m\u001b[0m\n",
            "\u001b[0;31mTypeError\u001b[0m: 'str' object does not support item deletion"
          ]
        }
      ]
    },
    {
      "cell_type": "markdown",
      "source": [
        "## Operations on Strings\n",
        "\n",
        "- Arithmetic Operations\n",
        "- Relational Operations\n",
        "- Logical Operations\n",
        "- Loops on Strings\n",
        "- Membership Operations"
      ],
      "metadata": {
        "id": "KJcg1Nyq-B-A"
      }
    },
    {
      "cell_type": "code",
      "source": [
        "print('delhi'+'mumbai')"
      ],
      "metadata": {
        "id": "9VJh9vGC-FOo",
        "outputId": "f35ba288-9deb-4749-b964-50fe57362d30",
        "colab": {
          "base_uri": "https://localhost:8080/"
        }
      },
      "execution_count": null,
      "outputs": [
        {
          "output_type": "stream",
          "name": "stdout",
          "text": [
            "delhimumbai\n"
          ]
        }
      ]
    },
    {
      "cell_type": "code",
      "source": [
        "print('delhi'*5)"
      ],
      "metadata": {
        "id": "N0dA-50S-Siv",
        "outputId": "263c49ec-d1c3-4ffa-b173-723e7e8f9682",
        "colab": {
          "base_uri": "https://localhost:8080/"
        }
      },
      "execution_count": null,
      "outputs": [
        {
          "output_type": "stream",
          "name": "stdout",
          "text": [
            "delhidelhidelhidelhidelhi\n"
          ]
        }
      ]
    },
    {
      "cell_type": "code",
      "source": [
        "print(\"*\"*50)"
      ],
      "metadata": {
        "id": "hlBd0e72-a3a",
        "outputId": "39e0ed58-ff83-41b7-c15a-a85468052604",
        "colab": {
          "base_uri": "https://localhost:8080/"
        }
      },
      "execution_count": null,
      "outputs": [
        {
          "output_type": "stream",
          "name": "stdout",
          "text": [
            "**************************************************\n"
          ]
        }
      ]
    },
    {
      "cell_type": "code",
      "source": [
        "'delhi' == 'mumbai'"
      ],
      "metadata": {
        "id": "gPnlQ_uW-jSB",
        "outputId": "d7b1b03f-329b-4b31-9158-48650f5939b8",
        "colab": {
          "base_uri": "https://localhost:8080/"
        }
      },
      "execution_count": null,
      "outputs": [
        {
          "output_type": "execute_result",
          "data": {
            "text/plain": [
              "False"
            ]
          },
          "metadata": {},
          "execution_count": 9
        }
      ]
    },
    {
      "cell_type": "code",
      "source": [
        "\"delhi\" != \"mumbai\""
      ],
      "metadata": {
        "id": "OiwYzsIw-qmS",
        "outputId": "52f813a5-7c14-4387-8696-3fe4229c1079",
        "colab": {
          "base_uri": "https://localhost:8080/"
        }
      },
      "execution_count": null,
      "outputs": [
        {
          "output_type": "execute_result",
          "data": {
            "text/plain": [
              "True"
            ]
          },
          "metadata": {},
          "execution_count": 10
        }
      ]
    },
    {
      "cell_type": "code",
      "source": [
        "'mumbai' > 'pune'  # logic = here in strings lexiographically compare (ascii value) like dictionary"
      ],
      "metadata": {
        "id": "X2OLs-BV-vK_",
        "outputId": "b3266d8f-daf6-4529-8934-e1d14cdcb598",
        "colab": {
          "base_uri": "https://localhost:8080/"
        }
      },
      "execution_count": null,
      "outputs": [
        {
          "output_type": "execute_result",
          "data": {
            "text/plain": [
              "False"
            ]
          },
          "metadata": {},
          "execution_count": 11
        }
      ]
    },
    {
      "cell_type": "code",
      "source": [
        "'Pune' > 'pune'"
      ],
      "metadata": {
        "id": "BdOv8b-5-xSZ",
        "outputId": "76df7dcb-5b10-40bb-bc85-e321f651cac3",
        "colab": {
          "base_uri": "https://localhost:8080/"
        }
      },
      "execution_count": null,
      "outputs": [
        {
          "output_type": "execute_result",
          "data": {
            "text/plain": [
              "False"
            ]
          },
          "metadata": {},
          "execution_count": 12
        }
      ]
    },
    {
      "cell_type": "code",
      "source": [
        "'hello' and 'world'"
      ],
      "metadata": {
        "id": "Ce7mGsc3_Q3v",
        "outputId": "eb987ab2-8c9c-4085-d258-b9fc0373329e",
        "colab": {
          "base_uri": "https://localhost:8080/",
          "height": 35
        }
      },
      "execution_count": null,
      "outputs": [
        {
          "output_type": "execute_result",
          "data": {
            "text/plain": [
              "'world'"
            ],
            "application/vnd.google.colaboratory.intrinsic+json": {
              "type": "string"
            }
          },
          "metadata": {},
          "execution_count": 13
        }
      ]
    },
    {
      "cell_type": "code",
      "source": [
        "'hello' or 'world'\n"
      ],
      "metadata": {
        "id": "8vRqqs-9_sKN",
        "outputId": "350715da-521d-4ed1-a5dc-e2fa194b127e",
        "colab": {
          "base_uri": "https://localhost:8080/",
          "height": 35
        }
      },
      "execution_count": null,
      "outputs": [
        {
          "output_type": "execute_result",
          "data": {
            "text/plain": [
              "'hello'"
            ],
            "application/vnd.google.colaboratory.intrinsic+json": {
              "type": "string"
            }
          },
          "metadata": {},
          "execution_count": 14
        }
      ]
    },
    {
      "cell_type": "code",
      "source": [
        "# in python string it '' as -> 0 and 'jjjkdlpwo' -> 1"
      ],
      "metadata": {
        "id": "qS2phfCz_2eQ"
      },
      "execution_count": null,
      "outputs": []
    },
    {
      "cell_type": "code",
      "source": [
        "'' and 'world'"
      ],
      "metadata": {
        "id": "OaP9UMVFAJXL",
        "outputId": "9929bc02-441e-4d89-9843-717025daf8b3",
        "colab": {
          "base_uri": "https://localhost:8080/",
          "height": 35
        }
      },
      "execution_count": null,
      "outputs": [
        {
          "output_type": "execute_result",
          "data": {
            "text/plain": [
              "''"
            ],
            "application/vnd.google.colaboratory.intrinsic+json": {
              "type": "string"
            }
          },
          "metadata": {},
          "execution_count": 16
        }
      ]
    },
    {
      "cell_type": "code",
      "source": [
        "'' or 'world'"
      ],
      "metadata": {
        "id": "uyNYcqNFAMAR",
        "outputId": "6fc18ef9-c9ea-4f20-b1b7-2889fd83664d",
        "colab": {
          "base_uri": "https://localhost:8080/",
          "height": 35
        }
      },
      "execution_count": null,
      "outputs": [
        {
          "output_type": "execute_result",
          "data": {
            "text/plain": [
              "'world'"
            ],
            "application/vnd.google.colaboratory.intrinsic+json": {
              "type": "string"
            }
          },
          "metadata": {},
          "execution_count": 17
        }
      ]
    },
    {
      "cell_type": "code",
      "source": [
        "'hello' or 'world'  #jaise hi python ko laga ki 1st wala true hai toh wo piche gaya hi nehi"
      ],
      "metadata": {
        "id": "AZ6of3yMARnW",
        "outputId": "1e8942ad-ad86-4455-b79f-c2bcd47c4cc1",
        "colab": {
          "base_uri": "https://localhost:8080/",
          "height": 35
        }
      },
      "execution_count": null,
      "outputs": [
        {
          "output_type": "execute_result",
          "data": {
            "text/plain": [
              "'hello'"
            ],
            "application/vnd.google.colaboratory.intrinsic+json": {
              "type": "string"
            }
          },
          "metadata": {},
          "execution_count": 18
        }
      ]
    },
    {
      "cell_type": "code",
      "source": [
        "not 'hello'"
      ],
      "metadata": {
        "id": "-Hu1QVh2AZy2",
        "outputId": "b15ffd3c-f976-46a2-bc8f-dbc706273e3d",
        "colab": {
          "base_uri": "https://localhost:8080/"
        }
      },
      "execution_count": null,
      "outputs": [
        {
          "output_type": "execute_result",
          "data": {
            "text/plain": [
              "False"
            ]
          },
          "metadata": {},
          "execution_count": 19
        }
      ]
    },
    {
      "cell_type": "code",
      "source": [
        "not ''"
      ],
      "metadata": {
        "id": "z5MTmgIjAran",
        "outputId": "8ada567e-ce02-48fe-93e5-8ee00a17b74d",
        "colab": {
          "base_uri": "https://localhost:8080/"
        }
      },
      "execution_count": null,
      "outputs": [
        {
          "output_type": "execute_result",
          "data": {
            "text/plain": [
              "True"
            ]
          },
          "metadata": {},
          "execution_count": 20
        }
      ]
    },
    {
      "cell_type": "code",
      "source": [
        "for i in 'hello':\n",
        "  print(i)\n"
      ],
      "metadata": {
        "id": "iYRxLDMJAs2W",
        "outputId": "ad7c33f0-8124-48c9-f37d-bc35486dcf08",
        "colab": {
          "base_uri": "https://localhost:8080/"
        }
      },
      "execution_count": null,
      "outputs": [
        {
          "output_type": "stream",
          "name": "stdout",
          "text": [
            "h\n",
            "e\n",
            "l\n",
            "l\n",
            "o\n"
          ]
        }
      ]
    },
    {
      "cell_type": "code",
      "source": [
        "for i in \"delhi\":\n",
        "  print(\"pune\")"
      ],
      "metadata": {
        "id": "s1XTzRsqBeX6",
        "outputId": "eab3b71f-da71-4702-a0cf-abe60107e88d",
        "colab": {
          "base_uri": "https://localhost:8080/"
        }
      },
      "execution_count": null,
      "outputs": [
        {
          "output_type": "stream",
          "name": "stdout",
          "text": [
            "pune\n",
            "pune\n",
            "pune\n",
            "pune\n",
            "pune\n"
          ]
        }
      ]
    },
    {
      "cell_type": "code",
      "source": [
        "'D' not in 'delhi'"
      ],
      "metadata": {
        "id": "t3OJ3RBOBsUt",
        "outputId": "4fd69065-ed82-4b62-f4d3-4c875df9b4e0",
        "colab": {
          "base_uri": "https://localhost:8080/"
        }
      },
      "execution_count": null,
      "outputs": [
        {
          "output_type": "execute_result",
          "data": {
            "text/plain": [
              "True"
            ]
          },
          "metadata": {},
          "execution_count": 23
        }
      ]
    },
    {
      "cell_type": "markdown",
      "source": [
        "## Common Functions\n",
        "- len\n",
        "- max\n",
        "- min\n",
        "- sorted"
      ],
      "metadata": {
        "id": "yHRe0VpW8-9g"
      }
    },
    {
      "cell_type": "code",
      "source": [
        "len('hello world')"
      ],
      "metadata": {
        "colab": {
          "base_uri": "https://localhost:8080/"
        },
        "id": "WBiXhfiv9ALI",
        "outputId": "c70dac36-940d-4fac-d71e-f923797cdf75"
      },
      "execution_count": 1,
      "outputs": [
        {
          "output_type": "execute_result",
          "data": {
            "text/plain": [
              "11"
            ]
          },
          "metadata": {},
          "execution_count": 1
        }
      ]
    },
    {
      "cell_type": "code",
      "source": [
        "max('hello world')"
      ],
      "metadata": {
        "colab": {
          "base_uri": "https://localhost:8080/",
          "height": 35
        },
        "id": "lA0y74Rj9Nn0",
        "outputId": "44d8421b-3cb9-4adc-ba49-ba180955690b"
      },
      "execution_count": 2,
      "outputs": [
        {
          "output_type": "execute_result",
          "data": {
            "text/plain": [
              "'w'"
            ],
            "application/vnd.google.colaboratory.intrinsic+json": {
              "type": "string"
            }
          },
          "metadata": {},
          "execution_count": 2
        }
      ]
    },
    {
      "cell_type": "code",
      "source": [
        "min('hello world')"
      ],
      "metadata": {
        "colab": {
          "base_uri": "https://localhost:8080/",
          "height": 35
        },
        "id": "Fdw6j7R49d0T",
        "outputId": "059baab5-0051-457f-a937-85ee12b6ede8"
      },
      "execution_count": 3,
      "outputs": [
        {
          "output_type": "execute_result",
          "data": {
            "text/plain": [
              "' '"
            ],
            "application/vnd.google.colaboratory.intrinsic+json": {
              "type": "string"
            }
          },
          "metadata": {},
          "execution_count": 3
        }
      ]
    },
    {
      "cell_type": "code",
      "source": [
        "sorted('hello world')"
      ],
      "metadata": {
        "colab": {
          "base_uri": "https://localhost:8080/"
        },
        "id": "Hw-O-uQm9hpL",
        "outputId": "be750e18-da13-4855-ad39-9201058a1c2e"
      },
      "execution_count": 4,
      "outputs": [
        {
          "output_type": "execute_result",
          "data": {
            "text/plain": [
              "[' ', 'd', 'e', 'h', 'l', 'l', 'l', 'o', 'o', 'r', 'w']"
            ]
          },
          "metadata": {},
          "execution_count": 4
        }
      ]
    },
    {
      "cell_type": "code",
      "source": [
        "sorted('hello world', reverse=True)"
      ],
      "metadata": {
        "colab": {
          "base_uri": "https://localhost:8080/"
        },
        "id": "yjO5Fnbr9oL2",
        "outputId": "ae384220-534e-4b4e-e02f-bb7defa8657a"
      },
      "execution_count": 5,
      "outputs": [
        {
          "output_type": "execute_result",
          "data": {
            "text/plain": [
              "['w', 'r', 'o', 'o', 'l', 'l', 'l', 'h', 'e', 'd', ' ']"
            ]
          },
          "metadata": {},
          "execution_count": 5
        }
      ]
    },
    {
      "cell_type": "code",
      "source": [],
      "metadata": {
        "id": "F25bYXSX9wF2"
      },
      "execution_count": null,
      "outputs": []
    },
    {
      "cell_type": "markdown",
      "source": [
        "## Capitalize/Title/Upper/Lower/Swapcase"
      ],
      "metadata": {
        "id": "rEUqtsk593XD"
      }
    },
    {
      "cell_type": "code",
      "source": [
        "# only strings\n",
        "\n",
        "s = 'hello world'\n",
        "s.capitalize()"
      ],
      "metadata": {
        "colab": {
          "base_uri": "https://localhost:8080/",
          "height": 35
        },
        "id": "IznPcTl-95VB",
        "outputId": "76808314-0a46-484b-df8a-957cff0424e1"
      },
      "execution_count": 6,
      "outputs": [
        {
          "output_type": "execute_result",
          "data": {
            "text/plain": [
              "'Hello world'"
            ],
            "application/vnd.google.colaboratory.intrinsic+json": {
              "type": "string"
            }
          },
          "metadata": {},
          "execution_count": 6
        }
      ]
    },
    {
      "cell_type": "code",
      "source": [
        "s.title()"
      ],
      "metadata": {
        "colab": {
          "base_uri": "https://localhost:8080/",
          "height": 35
        },
        "id": "K095TRmr-IQ-",
        "outputId": "8bd49b4e-c116-4d17-c74c-d6a222a1fc4d"
      },
      "execution_count": 7,
      "outputs": [
        {
          "output_type": "execute_result",
          "data": {
            "text/plain": [
              "'Hello World'"
            ],
            "application/vnd.google.colaboratory.intrinsic+json": {
              "type": "string"
            }
          },
          "metadata": {},
          "execution_count": 7
        }
      ]
    },
    {
      "cell_type": "code",
      "source": [
        "a = s.upper()\n",
        "a"
      ],
      "metadata": {
        "colab": {
          "base_uri": "https://localhost:8080/",
          "height": 35
        },
        "id": "ePYMcHVv-OIW",
        "outputId": "67461289-caa6-40ad-a671-fd6eb5c9bfa3"
      },
      "execution_count": 9,
      "outputs": [
        {
          "output_type": "execute_result",
          "data": {
            "text/plain": [
              "'HELLO WORLD'"
            ],
            "application/vnd.google.colaboratory.intrinsic+json": {
              "type": "string"
            }
          },
          "metadata": {},
          "execution_count": 9
        }
      ]
    },
    {
      "cell_type": "code",
      "source": [
        "a.lower()"
      ],
      "metadata": {
        "colab": {
          "base_uri": "https://localhost:8080/",
          "height": 35
        },
        "id": "LspCfc-v-VzQ",
        "outputId": "f9bf9ad5-9c2f-4114-aa51-39d126fdbf5b"
      },
      "execution_count": 10,
      "outputs": [
        {
          "output_type": "execute_result",
          "data": {
            "text/plain": [
              "'hello world'"
            ],
            "application/vnd.google.colaboratory.intrinsic+json": {
              "type": "string"
            }
          },
          "metadata": {},
          "execution_count": 10
        }
      ]
    },
    {
      "cell_type": "code",
      "source": [
        "'HellO wORLD'.swapcase()"
      ],
      "metadata": {
        "colab": {
          "base_uri": "https://localhost:8080/",
          "height": 35
        },
        "id": "3GBH6Vsb-bWX",
        "outputId": "f4345e93-4b95-419b-b738-3633842952e3"
      },
      "execution_count": 11,
      "outputs": [
        {
          "output_type": "execute_result",
          "data": {
            "text/plain": [
              "'hELLo World'"
            ],
            "application/vnd.google.colaboratory.intrinsic+json": {
              "type": "string"
            }
          },
          "metadata": {},
          "execution_count": 11
        }
      ]
    },
    {
      "cell_type": "code",
      "source": [],
      "metadata": {
        "id": "cYGXTlLR-h7U"
      },
      "execution_count": null,
      "outputs": []
    },
    {
      "cell_type": "markdown",
      "source": [
        "## Count/Find/Index"
      ],
      "metadata": {
        "id": "DwWURWFD-j23"
      }
    },
    {
      "cell_type": "code",
      "source": [
        "'my name is uttam'.count('i')"
      ],
      "metadata": {
        "colab": {
          "base_uri": "https://localhost:8080/"
        },
        "id": "qfkWWzcx-n8k",
        "outputId": "7ff45bbd-e6b5-4bf9-97cd-013ad49bb733"
      },
      "execution_count": 12,
      "outputs": [
        {
          "output_type": "execute_result",
          "data": {
            "text/plain": [
              "1"
            ]
          },
          "metadata": {},
          "execution_count": 12
        }
      ]
    },
    {
      "cell_type": "code",
      "source": [
        "'my name is uttam'.find('is')"
      ],
      "metadata": {
        "colab": {
          "base_uri": "https://localhost:8080/"
        },
        "id": "JIa0F94N-uJZ",
        "outputId": "a62ea87d-755c-44a1-ff04-d1fe14dba1cd"
      },
      "execution_count": 13,
      "outputs": [
        {
          "output_type": "execute_result",
          "data": {
            "text/plain": [
              "8"
            ]
          },
          "metadata": {},
          "execution_count": 13
        }
      ]
    },
    {
      "cell_type": "code",
      "source": [
        "'my name is uttam'.find('x')   #-1 is means it doesnot know where is the substring"
      ],
      "metadata": {
        "colab": {
          "base_uri": "https://localhost:8080/"
        },
        "id": "BM5Tsien-7Ux",
        "outputId": "c0b8389a-ff4d-4943-e921-7702ce4e1dfd"
      },
      "execution_count": 15,
      "outputs": [
        {
          "output_type": "execute_result",
          "data": {
            "text/plain": [
              "-1"
            ]
          },
          "metadata": {},
          "execution_count": 15
        }
      ]
    },
    {
      "cell_type": "code",
      "source": [
        "'my name is uttam'.index('x')"
      ],
      "metadata": {
        "colab": {
          "base_uri": "https://localhost:8080/",
          "height": 141
        },
        "id": "b2f1U3Wt-_ta",
        "outputId": "86885fb3-05b1-4b78-c15a-7a1b2a58a243"
      },
      "execution_count": 16,
      "outputs": [
        {
          "output_type": "error",
          "ename": "ValueError",
          "evalue": "substring not found",
          "traceback": [
            "\u001b[0;31m---------------------------------------------------------------------------\u001b[0m",
            "\u001b[0;31mValueError\u001b[0m                                Traceback (most recent call last)",
            "\u001b[0;32m/tmp/ipython-input-16-1314512206.py\u001b[0m in \u001b[0;36m<cell line: 0>\u001b[0;34m()\u001b[0m\n\u001b[0;32m----> 1\u001b[0;31m \u001b[0;34m'my name is uttam'\u001b[0m\u001b[0;34m.\u001b[0m\u001b[0mindex\u001b[0m\u001b[0;34m(\u001b[0m\u001b[0;34m'x'\u001b[0m\u001b[0;34m)\u001b[0m\u001b[0;34m\u001b[0m\u001b[0;34m\u001b[0m\u001b[0m\n\u001b[0m",
            "\u001b[0;31mValueError\u001b[0m: substring not found"
          ]
        }
      ]
    },
    {
      "cell_type": "code",
      "source": [],
      "metadata": {
        "id": "SXCjgHXQ_KKu"
      },
      "execution_count": null,
      "outputs": []
    },
    {
      "cell_type": "markdown",
      "source": [
        "## endswith/startswith"
      ],
      "metadata": {
        "id": "2l83FJLR_OdA"
      }
    },
    {
      "cell_type": "code",
      "source": [
        "'mu name is uttam'.endswith('tam')"
      ],
      "metadata": {
        "colab": {
          "base_uri": "https://localhost:8080/"
        },
        "id": "A9Df1XMT_PQt",
        "outputId": "7616f497-108b-4215-8fa1-e92fb3e7d9a5"
      },
      "execution_count": 17,
      "outputs": [
        {
          "output_type": "execute_result",
          "data": {
            "text/plain": [
              "True"
            ]
          },
          "metadata": {},
          "execution_count": 17
        }
      ]
    },
    {
      "cell_type": "code",
      "source": [
        "'my name is ukd'.startswith('d')"
      ],
      "metadata": {
        "colab": {
          "base_uri": "https://localhost:8080/"
        },
        "id": "D2m8ZcGc_Vjj",
        "outputId": "b507b7a1-1144-4262-a2c3-34bb18cae236"
      },
      "execution_count": 18,
      "outputs": [
        {
          "output_type": "execute_result",
          "data": {
            "text/plain": [
              "False"
            ]
          },
          "metadata": {},
          "execution_count": 18
        }
      ]
    },
    {
      "cell_type": "code",
      "source": [],
      "metadata": {
        "id": "l9eKiF5x_cff"
      },
      "execution_count": null,
      "outputs": []
    },
    {
      "cell_type": "markdown",
      "source": [
        "# format"
      ],
      "metadata": {
        "id": "ME_jDexo_n_c"
      }
    },
    {
      "cell_type": "code",
      "source": [
        "a = 'ukd'\n",
        "b = '22'"
      ],
      "metadata": {
        "id": "N7UjeQBn_v2U"
      },
      "execution_count": 19,
      "outputs": []
    },
    {
      "cell_type": "code",
      "source": [
        "print(f\"hello my name is {a}, my age is {b}\")"
      ],
      "metadata": {
        "colab": {
          "base_uri": "https://localhost:8080/"
        },
        "id": "u_ni-kIk_sGO",
        "outputId": "3146dbda-7344-4e0f-fd31-c90263448276"
      },
      "execution_count": 20,
      "outputs": [
        {
          "output_type": "stream",
          "name": "stdout",
          "text": [
            "hello my name is ukd, my age is 22\n"
          ]
        }
      ]
    },
    {
      "cell_type": "code",
      "source": [
        "name = 'nitish'\n",
        "gender = 'male'\n",
        "\n",
        "'Hi my name is {1} and I am a {0}'.format(gender,name)"
      ],
      "metadata": {
        "colab": {
          "base_uri": "https://localhost:8080/",
          "height": 35
        },
        "id": "Jv8VK98H_7a3",
        "outputId": "364121cd-84f7-495d-d885-8f87c14140f7"
      },
      "execution_count": 21,
      "outputs": [
        {
          "output_type": "execute_result",
          "data": {
            "text/plain": [
              "'Hi my name is nitish and I am a male'"
            ],
            "application/vnd.google.colaboratory.intrinsic+json": {
              "type": "string"
            }
          },
          "metadata": {},
          "execution_count": 21
        }
      ]
    },
    {
      "cell_type": "markdown",
      "source": [
        "## isalnum/ isalpha/ isdigit/ isidentifier"
      ],
      "metadata": {
        "id": "uO7Dv3kpBvZ-"
      }
    },
    {
      "cell_type": "code",
      "source": [
        "'nitish1234%'.isalnum()"
      ],
      "metadata": {
        "colab": {
          "base_uri": "https://localhost:8080/"
        },
        "id": "dYRKmowvBwjU",
        "outputId": "6bd22100-3bca-42d9-8fc4-636f03cd5e05"
      },
      "execution_count": 22,
      "outputs": [
        {
          "output_type": "execute_result",
          "data": {
            "text/plain": [
              "False"
            ]
          },
          "metadata": {},
          "execution_count": 22
        }
      ]
    },
    {
      "cell_type": "code",
      "source": [
        "'nitish'.isalpha()"
      ],
      "metadata": {
        "colab": {
          "base_uri": "https://localhost:8080/"
        },
        "id": "n0GRni-bByCg",
        "outputId": "113fe2a0-fcf7-4c6b-c9ed-b0ac120ce278"
      },
      "execution_count": 23,
      "outputs": [
        {
          "output_type": "execute_result",
          "data": {
            "text/plain": [
              "True"
            ]
          },
          "metadata": {},
          "execution_count": 23
        }
      ]
    },
    {
      "cell_type": "code",
      "source": [
        "'123abc'.isdigit()"
      ],
      "metadata": {
        "colab": {
          "base_uri": "https://localhost:8080/"
        },
        "id": "4GWARRqoB2Sb",
        "outputId": "0f9f7755-97c5-4aad-d4d3-dec15d525007"
      },
      "execution_count": 24,
      "outputs": [
        {
          "output_type": "execute_result",
          "data": {
            "text/plain": [
              "False"
            ]
          },
          "metadata": {},
          "execution_count": 24
        }
      ]
    },
    {
      "cell_type": "code",
      "source": [
        "'first-name'.isidentifier()"
      ],
      "metadata": {
        "colab": {
          "base_uri": "https://localhost:8080/"
        },
        "id": "iZnMgCaYB5OV",
        "outputId": "a8862e0b-f60e-4e5e-9e43-e88364a43b15"
      },
      "execution_count": 25,
      "outputs": [
        {
          "output_type": "execute_result",
          "data": {
            "text/plain": [
              "False"
            ]
          },
          "metadata": {},
          "execution_count": 25
        }
      ]
    },
    {
      "cell_type": "markdown",
      "source": [
        "# Split/Join"
      ],
      "metadata": {
        "id": "QKuCanq5B-cr"
      }
    },
    {
      "cell_type": "code",
      "source": [
        "'hi my name is ukd'.split()"
      ],
      "metadata": {
        "colab": {
          "base_uri": "https://localhost:8080/"
        },
        "id": "uFlm6XK8CCx-",
        "outputId": "8cfaa983-d26b-4289-d14e-f47009b9a5c4"
      },
      "execution_count": 26,
      "outputs": [
        {
          "output_type": "execute_result",
          "data": {
            "text/plain": [
              "['hi', 'my', 'name', 'is', 'ukd']"
            ]
          },
          "metadata": {},
          "execution_count": 26
        }
      ]
    },
    {
      "cell_type": "code",
      "source": [
        "'hi my name is ukd'.split('ukd')  #split the string in word by word"
      ],
      "metadata": {
        "colab": {
          "base_uri": "https://localhost:8080/"
        },
        "id": "ziY361gfCGr7",
        "outputId": "441e656c-c941-4049-d45f-1004d9a9b4ff"
      },
      "execution_count": 28,
      "outputs": [
        {
          "output_type": "execute_result",
          "data": {
            "text/plain": [
              "['hi my name is ', '']"
            ]
          },
          "metadata": {},
          "execution_count": 28
        }
      ]
    },
    {
      "cell_type": "code",
      "source": [
        "\" \".join(['hi', 'my', 'name', 'is', 'uttam'])"
      ],
      "metadata": {
        "colab": {
          "base_uri": "https://localhost:8080/",
          "height": 35
        },
        "id": "l4T02Y6JCZnS",
        "outputId": "2bf27aeb-8b42-4dc5-dd31-cac4aeab58a3"
      },
      "execution_count": 32,
      "outputs": [
        {
          "output_type": "execute_result",
          "data": {
            "text/plain": [
              "'hi my name is uttam'"
            ],
            "application/vnd.google.colaboratory.intrinsic+json": {
              "type": "string"
            }
          },
          "metadata": {},
          "execution_count": 32
        }
      ]
    },
    {
      "cell_type": "markdown",
      "source": [
        "# Replace"
      ],
      "metadata": {
        "id": "sGC9d0u-DVMm"
      }
    },
    {
      "cell_type": "code",
      "source": [
        "'hi my name is uttam'.replace('uttam','ukd')   #it not actually changes in the original one new forms in memory"
      ],
      "metadata": {
        "colab": {
          "base_uri": "https://localhost:8080/",
          "height": 35
        },
        "id": "oD-B1jZ5C15M",
        "outputId": "cf06a80c-07e5-4b14-b3ba-8004373bfc1d"
      },
      "execution_count": 33,
      "outputs": [
        {
          "output_type": "execute_result",
          "data": {
            "text/plain": [
              "'hi my name is ukd'"
            ],
            "application/vnd.google.colaboratory.intrinsic+json": {
              "type": "string"
            }
          },
          "metadata": {},
          "execution_count": 33
        }
      ]
    },
    {
      "cell_type": "markdown",
      "source": [
        "# Strip"
      ],
      "metadata": {
        "id": "sGvtD8AjD1WS"
      }
    },
    {
      "cell_type": "code",
      "source": [
        "\"my name is ukd               \".strip()  #it will remove unwanted sapces in trailing , like in end or start"
      ],
      "metadata": {
        "colab": {
          "base_uri": "https://localhost:8080/",
          "height": 35
        },
        "id": "gSH8bSzwD5Lx",
        "outputId": "952c3e41-7382-47fd-a7d6-ce1b519fde03"
      },
      "execution_count": 36,
      "outputs": [
        {
          "output_type": "execute_result",
          "data": {
            "text/plain": [
              "'my name is ukd'"
            ],
            "application/vnd.google.colaboratory.intrinsic+json": {
              "type": "string"
            }
          },
          "metadata": {},
          "execution_count": 36
        }
      ]
    },
    {
      "cell_type": "markdown",
      "source": [
        "## Example Programs"
      ],
      "metadata": {
        "id": "Rx7MOeDDMdZu"
      }
    },
    {
      "cell_type": "code",
      "source": [
        "# Find the length of a given string without using the len() function\n",
        "\n",
        "string_inp = str(input(\"give me a string\"))\n",
        "counter = 0\n",
        "\n",
        "for i in string_inp:\n",
        "  counter += 1\n",
        "\n",
        "print(counter)\n",
        ""
      ],
      "metadata": {
        "id": "-dtAsB_DMe9-",
        "outputId": "6f530c6f-2274-4e1e-8fb6-3040b2bf64f5",
        "colab": {
          "base_uri": "https://localhost:8080/"
        }
      },
      "execution_count": 39,
      "outputs": [
        {
          "output_type": "stream",
          "name": "stdout",
          "text": [
            "give me a stringukd is my name\n",
            "14\n"
          ]
        }
      ]
    },
    {
      "cell_type": "code",
      "source": [
        "# Extract username from a given email.\n",
        "# Eg if the email is nitish24singh@gmail.com\n",
        "# then the username should be nitish24singh\n",
        "\n",
        "email = str(input(\"give ur email here\"))\n",
        "for i in email:\n",
        "  if i == \"@\":\n",
        "    break\n",
        "  username = i\n",
        "  print(username, end=\"\")"
      ],
      "metadata": {
        "id": "hp2iDtMmNIsD",
        "outputId": "fb58a24c-6082-413e-9e56-dc29a8c560f5",
        "colab": {
          "base_uri": "https://localhost:8080/"
        }
      },
      "execution_count": 50,
      "outputs": [
        {
          "output_type": "stream",
          "name": "stdout",
          "text": [
            "give ur email heresoumya@gmail.com\n",
            "soumya"
          ]
        }
      ]
    },
    {
      "cell_type": "code",
      "source": [
        "s = input('enter the email')\n",
        "\n",
        "pos = s.index('@')\n",
        "print(s[0:pos])\n",
        "\n"
      ],
      "metadata": {
        "id": "lUvFW2MSPUR6",
        "outputId": "8c7b17a0-8765-4888-e6ba-2f97d795665f",
        "colab": {
          "base_uri": "https://localhost:8080/"
        }
      },
      "execution_count": 49,
      "outputs": [
        {
          "output_type": "stream",
          "name": "stdout",
          "text": [
            "enter the emailukd1211@gail.com\n",
            "ukd1211\n"
          ]
        }
      ]
    },
    {
      "cell_type": "code",
      "source": [
        "# Count the frequency of a particular character in a provided string.\n",
        "# Eg 'hello how are you' is the string, the frequency of h in this string is 2.\n",
        "\n",
        "str_inp = str(input(\"give me the string here\"))\n",
        "char = str(input(\"give me the char\"))\n",
        "str_inp.count(char)"
      ],
      "metadata": {
        "id": "56zO_RL7RYCE",
        "outputId": "8c7f6a81-e993-48f2-c83c-9b0f38d3dc6d",
        "colab": {
          "base_uri": "https://localhost:8080/"
        }
      },
      "execution_count": 51,
      "outputs": [
        {
          "name": "stdout",
          "output_type": "stream",
          "text": [
            "give me the string hereuttam dutta\n",
            "give me the charu\n"
          ]
        },
        {
          "output_type": "execute_result",
          "data": {
            "text/plain": [
              "2"
            ]
          },
          "metadata": {},
          "execution_count": 51
        }
      ]
    },
    {
      "cell_type": "code",
      "source": [
        "s = input('enter the email')\n",
        "term = input('what would like to search for')\n",
        "\n",
        "counter = 0\n",
        "for i in s:\n",
        "  if i == term:\n",
        "    counter += 1\n",
        "\n",
        "print('frequency',counter)"
      ],
      "metadata": {
        "id": "T32qtzBFTFoF"
      },
      "execution_count": null,
      "outputs": []
    },
    {
      "cell_type": "code",
      "source": [
        "# Write a program which can remove a particular character from a string.\n",
        "\n",
        "str_inp = str(input(\"give me a string\"))\n",
        "char = str(input(\"you want to remove\"))\n",
        "\n",
        "for i in str_inp:\n",
        "  if i == char:\n",
        "    continue\n",
        "  print(i,end=\"\")"
      ],
      "metadata": {
        "id": "kniK4xdOTliG",
        "outputId": "85393d55-7028-4a34-d268-b1a7c5fb8304",
        "colab": {
          "base_uri": "https://localhost:8080/"
        }
      },
      "execution_count": 57,
      "outputs": [
        {
          "output_type": "stream",
          "name": "stdout",
          "text": [
            "give me a stringsoumayan\n",
            "you want to removea\n",
            "soumyn"
          ]
        }
      ]
    },
    {
      "cell_type": "code",
      "source": [
        "# Write a program that can check whether a given string is palindrome or not.\n",
        "# abba\n",
        "# malayalam\n",
        "\n",
        "str_inp = str(input(\"a string here\"))\n",
        "str_rev = str_inp[::-1]\n",
        "if str_inp == str_rev:\n",
        "  print(\"palindrome\")\n",
        "else:\n",
        "  print(\"not palindrome\")"
      ],
      "metadata": {
        "id": "Lml9vh1oUUd7",
        "outputId": "7a3dee76-be35-4a2c-e781-db379ba3a616",
        "colab": {
          "base_uri": "https://localhost:8080/"
        }
      },
      "execution_count": 58,
      "outputs": [
        {
          "output_type": "stream",
          "name": "stdout",
          "text": [
            "a string hereabba\n",
            "palindrome\n"
          ]
        }
      ]
    },
    {
      "cell_type": "code",
      "source": [
        "s = input('enter the string')\n",
        "flag = True\n",
        "for i in range(0,len(s)//2):\n",
        "  if s[i] != s[len(s) - i -1]:\n",
        "    flag = False\n",
        "    print('Not a Palindrome')\n",
        "    break\n",
        "\n",
        "if flag:\n",
        "  print('Palindrome')\n"
      ],
      "metadata": {
        "id": "dKpdHgxLecc0"
      },
      "execution_count": null,
      "outputs": []
    },
    {
      "cell_type": "code",
      "source": [
        "# Write a program to count the number of words in a string without split()\n",
        "\n",
        "# if i can use split then\n",
        "\n",
        "str_np = str(input(\"give me a string here\"))\n",
        "counter = 0\n",
        "list1 = str_np.split()\n",
        "for i in list1:\n",
        "  # print(i)\n",
        "  counter += 1\n",
        "print(counter)"
      ],
      "metadata": {
        "id": "CQm-IYzofTcf",
        "outputId": "f44c2162-f444-49f9-8c6f-d645cde318a6",
        "colab": {
          "base_uri": "https://localhost:8080/"
        }
      },
      "execution_count": 63,
      "outputs": [
        {
          "output_type": "stream",
          "name": "stdout",
          "text": [
            "give me a string hereukd me my name\n",
            "4\n"
          ]
        }
      ]
    },
    {
      "cell_type": "code",
      "source": [
        "# if not\n",
        "\n",
        "str_np = str(input(\"give me a string\"))\n",
        "counter = 0\n",
        "for i in str_np:    #wrong\n",
        "  if i == \" \":\n",
        "    counter += 1\n",
        "print(counter)"
      ],
      "metadata": {
        "id": "wME7yB4Bgoj0",
        "outputId": "fc934ca4-ed1b-43ce-db1c-7f1cf19859b9",
        "colab": {
          "base_uri": "https://localhost:8080/"
        }
      },
      "execution_count": 70,
      "outputs": [
        {
          "output_type": "stream",
          "name": "stdout",
          "text": [
            "give me a stringukd\n",
            "0\n"
          ]
        }
      ]
    },
    {
      "cell_type": "code",
      "source": [
        "s = input('enter the string')\n",
        "L = []\n",
        "temp = ''\n",
        "for i in s:\n",
        "\n",
        "  if i != ' ':\n",
        "    temp = temp + i\n",
        "  else:\n",
        "    L.append(temp)\n",
        "    temp = ''\n",
        "\n",
        "L.append(temp)\n",
        "print(L)\n"
      ],
      "metadata": {
        "id": "zTCidEYMiJPC"
      },
      "execution_count": 69,
      "outputs": []
    },
    {
      "cell_type": "code",
      "source": [
        "# Write a python program to convert a string to title case without using the title()\n",
        "\n",
        "str_inp = str(input(\"give a string\"))\n",
        "list2 = []\n",
        "list1 = str_inp.split()\n",
        "for i in list1:\n",
        "  list2.append(i.capitalize())\n",
        "\n",
        "str2 = \" \".join(list2)\n",
        "print(str2)"
      ],
      "metadata": {
        "id": "lqlULT-Pk9UE",
        "outputId": "69517612-8b6a-4756-fcbe-43133b2d11e3",
        "colab": {
          "base_uri": "https://localhost:8080/"
        }
      },
      "execution_count": 74,
      "outputs": [
        {
          "output_type": "stream",
          "name": "stdout",
          "text": [
            "give a stringukd dutta\n",
            "Ukd Dutta\n"
          ]
        }
      ]
    },
    {
      "cell_type": "code",
      "source": [
        "# Write a program that can convert an integer to string.\n",
        "\n",
        "\n",
        "number = int(input('enter the number'))\n",
        "\n",
        "digits = '0123456789'\n",
        "result = ''\n",
        "while number != 0:\n",
        "  result = digits[number % 10] + result\n",
        "  number = number//10\n",
        "\n",
        "print(result)\n",
        "print(type(result))\n",
        "type(result)"
      ],
      "metadata": {
        "id": "nCCH73-fmz2N",
        "outputId": "1aaad8c9-a727-451c-d88e-6e69a67190ce",
        "colab": {
          "base_uri": "https://localhost:8080/"
        }
      },
      "execution_count": 76,
      "outputs": [
        {
          "output_type": "stream",
          "name": "stdout",
          "text": [
            "enter the number222\n",
            "222\n",
            "<class 'str'>\n"
          ]
        },
        {
          "output_type": "execute_result",
          "data": {
            "text/plain": [
              "str"
            ]
          },
          "metadata": {},
          "execution_count": 76
        }
      ]
    },
    {
      "cell_type": "code",
      "source": [],
      "metadata": {
        "id": "Z4XdWmnWpJx3"
      },
      "execution_count": null,
      "outputs": []
    }
  ]
}