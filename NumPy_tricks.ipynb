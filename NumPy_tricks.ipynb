{
  "nbformat": 4,
  "nbformat_minor": 0,
  "metadata": {
    "colab": {
      "provenance": [],
      "authorship_tag": "ABX9TyNlU69KxWC6u0HpMCf1OyS9",
      "include_colab_link": true
    },
    "kernelspec": {
      "name": "python3",
      "display_name": "Python 3"
    },
    "language_info": {
      "name": "python"
    }
  },
  "cells": [
    {
      "cell_type": "markdown",
      "metadata": {
        "id": "view-in-github",
        "colab_type": "text"
      },
      "source": [
        "<a href=\"https://colab.research.google.com/github/UKD1211/DataScience_Slogbook_ISI_placement_prep/blob/main/NumPy_tricks.ipynb\" target=\"_parent\"><img src=\"https://colab.research.google.com/assets/colab-badge.svg\" alt=\"Open In Colab\"/></a>"
      ]
    },
    {
      "cell_type": "code",
      "execution_count": 1,
      "metadata": {
        "id": "mBudkRN3Z5BQ"
      },
      "outputs": [],
      "source": [
        "#  np.sort -> return a sorted copy of array"
      ]
    },
    {
      "cell_type": "code",
      "source": [
        "import numpy as np\n",
        "a = np.random.randint(1,100,15)\n",
        "a"
      ],
      "metadata": {
        "colab": {
          "base_uri": "https://localhost:8080/"
        },
        "id": "NjZHGwKvbggM",
        "outputId": "d7a498c8-f68f-4854-cc36-e62c97f05a24"
      },
      "execution_count": 3,
      "outputs": [
        {
          "output_type": "execute_result",
          "data": {
            "text/plain": [
              "array([22, 94, 50,  5,  1, 55, 98,  9, 22, 50, 16,  5, 36, 58, 25])"
            ]
          },
          "metadata": {},
          "execution_count": 3
        }
      ]
    },
    {
      "cell_type": "code",
      "source": [
        "np.sort(a)"
      ],
      "metadata": {
        "colab": {
          "base_uri": "https://localhost:8080/"
        },
        "id": "wxwerQ1ObqdT",
        "outputId": "fe3a8edd-20d8-4aa5-fe75-4dfe287ca0bf"
      },
      "execution_count": 4,
      "outputs": [
        {
          "output_type": "execute_result",
          "data": {
            "text/plain": [
              "array([ 1,  5,  5,  9, 16, 22, 22, 25, 36, 50, 50, 55, 58, 94, 98])"
            ]
          },
          "metadata": {},
          "execution_count": 4
        }
      ]
    },
    {
      "cell_type": "code",
      "source": [
        "a = np.random.randint(1,100,24).reshape(6,4)\n",
        "a"
      ],
      "metadata": {
        "colab": {
          "base_uri": "https://localhost:8080/"
        },
        "id": "rBoMO_ufbvUg",
        "outputId": "b7a4dec8-688f-41c4-f4a6-9d13b27266e1"
      },
      "execution_count": 8,
      "outputs": [
        {
          "output_type": "execute_result",
          "data": {
            "text/plain": [
              "array([[53, 93, 45, 68],\n",
              "       [72, 46,  8, 69],\n",
              "       [59, 59, 93, 40],\n",
              "       [44, 88, 51, 29],\n",
              "       [98, 34,  7, 30],\n",
              "       [61, 38, 21, 96]])"
            ]
          },
          "metadata": {},
          "execution_count": 8
        }
      ]
    },
    {
      "cell_type": "code",
      "source": [
        "np.sort(a, axis=0)"
      ],
      "metadata": {
        "colab": {
          "base_uri": "https://localhost:8080/"
        },
        "id": "boXwK9I0cgt1",
        "outputId": "ec6eeb06-9aa2-4653-acce-208f4d146f14"
      },
      "execution_count": 9,
      "outputs": [
        {
          "output_type": "execute_result",
          "data": {
            "text/plain": [
              "array([[44, 34,  7, 29],\n",
              "       [53, 38,  8, 30],\n",
              "       [59, 46, 21, 40],\n",
              "       [61, 59, 45, 68],\n",
              "       [72, 88, 51, 69],\n",
              "       [98, 93, 93, 96]])"
            ]
          },
          "metadata": {},
          "execution_count": 9
        }
      ]
    },
    {
      "cell_type": "code",
      "source": [
        "np.sort(a,axis=1)"
      ],
      "metadata": {
        "colab": {
          "base_uri": "https://localhost:8080/"
        },
        "id": "SP2EJ-mlclJ8",
        "outputId": "74bbbbab-23cc-4659-dd4a-f98d00a74e2e"
      },
      "execution_count": 11,
      "outputs": [
        {
          "output_type": "execute_result",
          "data": {
            "text/plain": [
              "array([[45, 53, 68, 93],\n",
              "       [ 8, 46, 69, 72],\n",
              "       [40, 59, 59, 93],\n",
              "       [29, 44, 51, 88],\n",
              "       [ 7, 30, 34, 98],\n",
              "       [21, 38, 61, 96]])"
            ]
          },
          "metadata": {},
          "execution_count": 11
        }
      ]
    },
    {
      "cell_type": "code",
      "source": [
        "np.sort(a)[::-1] #descending order"
      ],
      "metadata": {
        "colab": {
          "base_uri": "https://localhost:8080/"
        },
        "id": "rlbBgCrTcoaD",
        "outputId": "e7149cbb-89aa-4584-e94c-5e9366a6b997"
      },
      "execution_count": 13,
      "outputs": [
        {
          "output_type": "execute_result",
          "data": {
            "text/plain": [
              "array([[21, 38, 61, 96],\n",
              "       [ 7, 30, 34, 98],\n",
              "       [29, 44, 51, 88],\n",
              "       [40, 59, 59, 93],\n",
              "       [ 8, 46, 69, 72],\n",
              "       [45, 53, 68, 93]])"
            ]
          },
          "metadata": {},
          "execution_count": 13
        }
      ]
    },
    {
      "cell_type": "code",
      "source": [
        "# np.append -> the numpy append values along the mentioned axis at the end of the array"
      ],
      "metadata": {
        "id": "a-Rim02vdEZB"
      },
      "execution_count": 14,
      "outputs": []
    },
    {
      "cell_type": "code",
      "source": [
        "a = np.random.randint(10,100,12)"
      ],
      "metadata": {
        "id": "SqVP_l8FdZlV"
      },
      "execution_count": 15,
      "outputs": []
    },
    {
      "cell_type": "code",
      "source": [
        "a"
      ],
      "metadata": {
        "colab": {
          "base_uri": "https://localhost:8080/"
        },
        "id": "eOwCdIO4dhPm",
        "outputId": "338163ba-0fd2-445e-e646-771913957f63"
      },
      "execution_count": 16,
      "outputs": [
        {
          "output_type": "execute_result",
          "data": {
            "text/plain": [
              "array([64, 24, 83, 78, 30, 45, 16, 14, 31, 85, 90, 76])"
            ]
          },
          "metadata": {},
          "execution_count": 16
        }
      ]
    },
    {
      "cell_type": "code",
      "source": [
        "np.append(a,200)"
      ],
      "metadata": {
        "colab": {
          "base_uri": "https://localhost:8080/"
        },
        "id": "BpV1BV59dhux",
        "outputId": "441af651-d408-45d1-e922-8400ca8e4d89"
      },
      "execution_count": 17,
      "outputs": [
        {
          "output_type": "execute_result",
          "data": {
            "text/plain": [
              "array([ 64,  24,  83,  78,  30,  45,  16,  14,  31,  85,  90,  76, 200])"
            ]
          },
          "metadata": {},
          "execution_count": 17
        }
      ]
    },
    {
      "cell_type": "code",
      "source": [
        "b = np.random.randint(10,100,16).reshape(4,4)"
      ],
      "metadata": {
        "id": "s0DWkayOdnd9"
      },
      "execution_count": 18,
      "outputs": []
    },
    {
      "cell_type": "code",
      "source": [
        "b"
      ],
      "metadata": {
        "colab": {
          "base_uri": "https://localhost:8080/"
        },
        "id": "fN0Z633hdyQ8",
        "outputId": "ff7a8fd1-37a0-43ee-e0c2-3785206737a4"
      },
      "execution_count": 19,
      "outputs": [
        {
          "output_type": "execute_result",
          "data": {
            "text/plain": [
              "array([[72, 39, 33, 26],\n",
              "       [95, 99, 80, 62],\n",
              "       [37, 40, 84, 53],\n",
              "       [31, 33, 31, 85]])"
            ]
          },
          "metadata": {},
          "execution_count": 19
        }
      ]
    },
    {
      "cell_type": "code",
      "source": [
        "np.append(b,np.ones((b.shape[0],1)),axis=1)"
      ],
      "metadata": {
        "colab": {
          "base_uri": "https://localhost:8080/"
        },
        "id": "5zTrcwU9dytD",
        "outputId": "f1469fcf-8e92-4e0d-f784-4612925aa5a3"
      },
      "execution_count": 21,
      "outputs": [
        {
          "output_type": "execute_result",
          "data": {
            "text/plain": [
              "array([[72., 39., 33., 26.,  1.],\n",
              "       [95., 99., 80., 62.,  1.],\n",
              "       [37., 40., 84., 53.,  1.],\n",
              "       [31., 33., 31., 85.,  1.]])"
            ]
          },
          "metadata": {},
          "execution_count": 21
        }
      ]
    },
    {
      "cell_type": "code",
      "source": [
        "# np.concatenate-> concatenate a seq of arrays in 2D arrays"
      ],
      "metadata": {
        "id": "cnArHsZVebWk"
      },
      "execution_count": 22,
      "outputs": []
    },
    {
      "cell_type": "code",
      "source": [
        "c = np.arange(6).reshape(2,3)\n",
        "d = np.arange(6,12).reshape(2,3)"
      ],
      "metadata": {
        "id": "SSUomvP6fCbF"
      },
      "execution_count": 23,
      "outputs": []
    },
    {
      "cell_type": "code",
      "source": [
        "print(c)\n",
        "print(d)"
      ],
      "metadata": {
        "colab": {
          "base_uri": "https://localhost:8080/"
        },
        "id": "LXYNRmpDfHqM",
        "outputId": "2d228ca4-b893-46e5-d53d-d954a8e8118d"
      },
      "execution_count": 25,
      "outputs": [
        {
          "output_type": "stream",
          "name": "stdout",
          "text": [
            "[[0 1 2]\n",
            " [3 4 5]]\n",
            "[[ 6  7  8]\n",
            " [ 9 10 11]]\n"
          ]
        }
      ]
    },
    {
      "cell_type": "code",
      "source": [
        "np.concatenate((c,d),axis=0)"
      ],
      "metadata": {
        "colab": {
          "base_uri": "https://localhost:8080/"
        },
        "id": "-gS12u_bfR3W",
        "outputId": "287a2585-b26e-46e5-da4a-7165393c8dbd"
      },
      "execution_count": 26,
      "outputs": [
        {
          "output_type": "execute_result",
          "data": {
            "text/plain": [
              "array([[ 0,  1,  2],\n",
              "       [ 3,  4,  5],\n",
              "       [ 6,  7,  8],\n",
              "       [ 9, 10, 11]])"
            ]
          },
          "metadata": {},
          "execution_count": 26
        }
      ]
    },
    {
      "cell_type": "code",
      "source": [
        "# np.unique\n",
        "# -> we can get the unique values form array\n",
        "\n",
        "e = np.array([1,1,3,3,2,1,3,1,133,13,11,45])\n",
        "np.unique(e)"
      ],
      "metadata": {
        "colab": {
          "base_uri": "https://localhost:8080/"
        },
        "id": "YjjtT0VXfWdU",
        "outputId": "618e5a06-65d6-4161-8aec-b296d9f36686"
      },
      "execution_count": 27,
      "outputs": [
        {
          "output_type": "execute_result",
          "data": {
            "text/plain": [
              "array([  1,   2,   3,  11,  13,  45, 133])"
            ]
          },
          "metadata": {},
          "execution_count": 27
        }
      ]
    },
    {
      "cell_type": "code",
      "source": [
        "list(e).count(1)\n"
      ],
      "metadata": {
        "colab": {
          "base_uri": "https://localhost:8080/"
        },
        "id": "HDMN2dEspOHa",
        "outputId": "d94da472-7af9-411f-a1e1-be351d4ada69"
      },
      "execution_count": 30,
      "outputs": [
        {
          "output_type": "execute_result",
          "data": {
            "text/plain": [
              "4"
            ]
          },
          "metadata": {},
          "execution_count": 30
        }
      ]
    },
    {
      "cell_type": "code",
      "source": [
        "# np.expand_dims\n",
        "# -> we can get the expanded dimensions of  an array\n",
        "a"
      ],
      "metadata": {
        "colab": {
          "base_uri": "https://localhost:8080/"
        },
        "id": "xMwU2eVVpfQ2",
        "outputId": "a1c1bf7c-f5d3-4659-d2d6-496e2a14c2f8"
      },
      "execution_count": 31,
      "outputs": [
        {
          "output_type": "execute_result",
          "data": {
            "text/plain": [
              "array([64, 24, 83, 78, 30, 45, 16, 14, 31, 85, 90, 76])"
            ]
          },
          "metadata": {},
          "execution_count": 31
        }
      ]
    },
    {
      "cell_type": "code",
      "source": [
        "b = np.expand_dims(a, axis=1)  #row vector and for column vectors"
      ],
      "metadata": {
        "id": "_IQ3CLF7p23O"
      },
      "execution_count": 34,
      "outputs": []
    },
    {
      "cell_type": "code",
      "source": [
        "b"
      ],
      "metadata": {
        "colab": {
          "base_uri": "https://localhost:8080/"
        },
        "id": "tKrz0ElzqGN6",
        "outputId": "50d31bb7-9dd7-4f66-9299-f48fec910546"
      },
      "execution_count": 35,
      "outputs": [
        {
          "output_type": "execute_result",
          "data": {
            "text/plain": [
              "array([[64],\n",
              "       [24],\n",
              "       [83],\n",
              "       [78],\n",
              "       [30],\n",
              "       [45],\n",
              "       [16],\n",
              "       [14],\n",
              "       [31],\n",
              "       [85],\n",
              "       [90],\n",
              "       [76]])"
            ]
          },
          "metadata": {},
          "execution_count": 35
        }
      ]
    },
    {
      "cell_type": "code",
      "source": [
        "b.shape"
      ],
      "metadata": {
        "colab": {
          "base_uri": "https://localhost:8080/"
        },
        "id": "JPjWx0CGqZDB",
        "outputId": "ae468e13-1f1f-4d02-80f9-c18b18b488d5"
      },
      "execution_count": 37,
      "outputs": [
        {
          "output_type": "execute_result",
          "data": {
            "text/plain": [
              "(12, 1)"
            ]
          },
          "metadata": {},
          "execution_count": 37
        }
      ]
    },
    {
      "cell_type": "code",
      "source": [],
      "metadata": {
        "id": "SEzjNsx5qbT7"
      },
      "execution_count": null,
      "outputs": []
    },
    {
      "cell_type": "markdown",
      "source": [
        "![image.png](data:image/png;base64,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)"
      ],
      "metadata": {
        "id": "OSirTSWKq0ic"
      }
    },
    {
      "cell_type": "code",
      "source": [
        "# np.where\n",
        "# -> this function returns the indices of elements in an input array where the given condition is satisfied"
      ],
      "metadata": {
        "id": "Iz9u9kGMq3E4"
      },
      "execution_count": 38,
      "outputs": []
    },
    {
      "cell_type": "code",
      "source": [
        "a"
      ],
      "metadata": {
        "colab": {
          "base_uri": "https://localhost:8080/"
        },
        "id": "A_sNyHFirb68",
        "outputId": "788cb9c9-2312-4e5e-988c-95f579134b9e"
      },
      "execution_count": 39,
      "outputs": [
        {
          "output_type": "execute_result",
          "data": {
            "text/plain": [
              "array([64, 24, 83, 78, 30, 45, 16, 14, 31, 85, 90, 76])"
            ]
          },
          "metadata": {},
          "execution_count": 39
        }
      ]
    },
    {
      "cell_type": "code",
      "source": [
        "a>20"
      ],
      "metadata": {
        "colab": {
          "base_uri": "https://localhost:8080/"
        },
        "id": "2PyLmCp_rdB1",
        "outputId": "3d9a5c98-2e23-423b-d7f8-c2795ab7eeec"
      },
      "execution_count": 40,
      "outputs": [
        {
          "output_type": "execute_result",
          "data": {
            "text/plain": [
              "array([ True,  True,  True,  True,  True,  True, False, False,  True,\n",
              "        True,  True,  True])"
            ]
          },
          "metadata": {},
          "execution_count": 40
        }
      ]
    },
    {
      "cell_type": "code",
      "source": [
        "a[a>20]"
      ],
      "metadata": {
        "colab": {
          "base_uri": "https://localhost:8080/"
        },
        "id": "UXAZ71y0rkhD",
        "outputId": "54a73cf4-b569-478b-d8b6-e7bce80b3a79"
      },
      "execution_count": 41,
      "outputs": [
        {
          "output_type": "execute_result",
          "data": {
            "text/plain": [
              "array([64, 24, 83, 78, 30, 45, 31, 85, 90, 76])"
            ]
          },
          "metadata": {},
          "execution_count": 41
        }
      ]
    },
    {
      "cell_type": "code",
      "source": [
        "# we want the index postion of those elements whose values are >50\n",
        "\n",
        "np.where(a>50)"
      ],
      "metadata": {
        "colab": {
          "base_uri": "https://localhost:8080/"
        },
        "id": "rvw7n6oyrpV_",
        "outputId": "b5307f23-dda8-4d63-a364-d6bc195855f5"
      },
      "execution_count": 42,
      "outputs": [
        {
          "output_type": "execute_result",
          "data": {
            "text/plain": [
              "(array([ 0,  2,  3,  9, 10, 11]),)"
            ]
          },
          "metadata": {},
          "execution_count": 42
        }
      ]
    },
    {
      "cell_type": "code",
      "source": [
        "# V.V.I"
      ],
      "metadata": {
        "id": "k0qZbNnzrywY"
      },
      "execution_count": 43,
      "outputs": []
    },
    {
      "cell_type": "code",
      "source": [
        "# replace all values > 50 by 0\n",
        "# np.where(condition,true,false)\n",
        "np.where(a>50,0,a)"
      ],
      "metadata": {
        "colab": {
          "base_uri": "https://localhost:8080/"
        },
        "id": "5ImvpzU6r_Xp",
        "outputId": "44f2106b-5e5c-43b0-c9a7-db1f8ed97d4f"
      },
      "execution_count": 44,
      "outputs": [
        {
          "output_type": "execute_result",
          "data": {
            "text/plain": [
              "array([ 0, 24,  0,  0, 30, 45, 16, 14, 31,  0,  0,  0])"
            ]
          },
          "metadata": {},
          "execution_count": 44
        }
      ]
    },
    {
      "cell_type": "code",
      "source": [
        "np.where(a%2==0,0,a)"
      ],
      "metadata": {
        "colab": {
          "base_uri": "https://localhost:8080/"
        },
        "id": "XT7F4kwPsOrz",
        "outputId": "58021f35-d2b5-46c6-97ec-67668ec0392d"
      },
      "execution_count": 45,
      "outputs": [
        {
          "output_type": "execute_result",
          "data": {
            "text/plain": [
              "array([ 0,  0, 83,  0,  0, 45,  0,  0, 31, 85,  0,  0])"
            ]
          },
          "metadata": {},
          "execution_count": 45
        }
      ]
    },
    {
      "cell_type": "code",
      "source": [],
      "metadata": {
        "id": "efA7DdyRsjHU"
      },
      "execution_count": null,
      "outputs": []
    }
  ]
}