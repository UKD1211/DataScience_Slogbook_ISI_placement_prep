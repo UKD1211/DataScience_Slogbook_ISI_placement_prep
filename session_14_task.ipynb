{
  "nbformat": 4,
  "nbformat_minor": 0,
  "metadata": {
    "colab": {
      "provenance": [],
      "include_colab_link": true
    },
    "kernelspec": {
      "name": "python3",
      "display_name": "Python 3"
    },
    "language_info": {
      "name": "python"
    }
  },
  "cells": [
    {
      "cell_type": "markdown",
      "metadata": {
        "id": "view-in-github",
        "colab_type": "text"
      },
      "source": [
        "<a href=\"https://colab.research.google.com/github/UKD1211/DataScience_Slogbook_ISI_placement_prep/blob/main/session_14_task.ipynb\" target=\"_parent\"><img src=\"https://colab.research.google.com/assets/colab-badge.svg\" alt=\"Open In Colab\"/></a>"
      ]
    },
    {
      "cell_type": "markdown",
      "source": [
        "###`Q-1:` Find the nearest element in the array to a given integer.\n",
        "```\n",
        "Ex:-\n",
        "a=23 and array - [10 17 24 31 38 45 52 59].\n",
        "Nearest element is 24\n",
        "```\n",
        "Hint: Read about this function `argmin()`"
      ],
      "metadata": {
        "id": "1uamk9vAix0o"
      }
    },
    {
      "cell_type": "code",
      "source": [
        "# normal way\n",
        "def nearest(l:list,a:int):\n",
        "  L = []\n",
        "  for i in l:\n",
        "    L.append(abs(i-a))\n",
        "  new_L =  list(zip(l,L))\n",
        "  return min(new_L,key = lambda x:x[1])[0]\n",
        "\n",
        "nearest([10,17,24,31,38,45,52,59], 23)"
      ],
      "metadata": {
        "id": "ddkpbpR6iySZ",
        "outputId": "f91973f8-a3f7-43ba-d6f2-f2c737b097c4",
        "colab": {
          "base_uri": "https://localhost:8080/"
        }
      },
      "execution_count": null,
      "outputs": [
        {
          "output_type": "execute_result",
          "data": {
            "text/plain": [
              "24"
            ]
          },
          "metadata": {},
          "execution_count": 13
        }
      ]
    },
    {
      "cell_type": "code",
      "source": [
        "# numpy version\n",
        "import numpy as np\n",
        "def nearest(arr:np.ndarray,a:int):\n",
        "  x = abs(arr - a)\n",
        "  return print(arr[np.argmin(x)])\n",
        "nearest(np.array([10,17,24,31,38,45,52,59]), 23)"
      ],
      "metadata": {
        "id": "ZfbV22CewKov",
        "outputId": "ccc032ac-d0f9-443d-b54b-9f651f67287b",
        "colab": {
          "base_uri": "https://localhost:8080/"
        }
      },
      "execution_count": null,
      "outputs": [
        {
          "output_type": "stream",
          "name": "stdout",
          "text": [
            "24\n"
          ]
        }
      ]
    },
    {
      "cell_type": "markdown",
      "source": [
        "###`Q-2:` Replace multiples of 3 or 5 as 0 in the given array.\n",
        "```\n",
        "arr=[1 2 3 4 5 6 7 9]\n",
        "\n",
        "result-> [1 2 0 4 0 0 7 0]\n",
        "```"
      ],
      "metadata": {
        "id": "Y1QkHyPpizyp"
      }
    },
    {
      "cell_type": "code",
      "source": [
        "# code here"
      ],
      "metadata": {
        "id": "JjtxMlhWi25l"
      },
      "execution_count": null,
      "outputs": []
    },
    {
      "cell_type": "code",
      "source": [
        "import numpy as np\n",
        "def replace(arr:np.ndarray):\n",
        "  arr[(arr%3==0) | (arr%5==0)] = 0\n",
        "  return print(arr)\n",
        "replace(np.array([1,2,3,4,5,6,7,9]))"
      ],
      "metadata": {
        "id": "1ICCV2zdwJ25",
        "outputId": "796a8546-52f2-4850-e82a-70d5ea88e1a7",
        "colab": {
          "base_uri": "https://localhost:8080/"
        }
      },
      "execution_count": null,
      "outputs": [
        {
          "output_type": "stream",
          "name": "stdout",
          "text": [
            "[1 2 0 4 0 0 7 0]\n"
          ]
        }
      ]
    },
    {
      "cell_type": "markdown",
      "source": [
        "###`Q-3:` Use Fancy Indexing.\n",
        "1. Double the array elements at  given indexes\n",
        "```\n",
        "arr = np.arrange(10)\n",
        "indexes = [0,3,4,9]\n",
        "```\n",
        "Result -> `[ 0  1  2  6  8  5  6  7  8 18]`\n",
        "\n",
        "2. Using a given array make a different array as in below example\n",
        "```\n",
        "array = [1,2,3]\n",
        "result array -> [1 1 1 2 2 2 3 3 3]\n",
        "```\n",
        "* Internal-repetion should be as length of the array.\n",
        "\n",
        "Hint:\n",
        "```\n",
        "if a is an array\n",
        "a = [2,4]\n",
        "a[[1,1,0,1]] will result in-> [4 4 2 4]\n",
        "```"
      ],
      "metadata": {
        "id": "Pi_dZSwTi4OI"
      }
    },
    {
      "cell_type": "code",
      "source": [
        "# normal way\n",
        "\n",
        "def  helo(L:list,index_l:list):\n",
        "    for i in index_l:\n",
        "        L[i] = L[i]*2\n",
        "    return L\n",
        "print(helo([0,1,2,3,4,5,6,7,8,9],[0,3,4,9]))"
      ],
      "metadata": {
        "id": "SHYuyuovi66N",
        "outputId": "9507a7e1-b801-4048-d319-30f2165b59c8",
        "colab": {
          "base_uri": "https://localhost:8080/"
        }
      },
      "execution_count": null,
      "outputs": [
        {
          "output_type": "stream",
          "name": "stdout",
          "text": [
            "[0, 1, 2, 6, 8, 5, 6, 7, 8, 18]\n"
          ]
        }
      ]
    },
    {
      "cell_type": "code",
      "source": [
        "# numpy way\n",
        "arr = np.arange(10)\n",
        "indexes = [0,3,4,9]\n",
        "arr[indexes] = arr[indexes]*2\n",
        "print(arr)"
      ],
      "metadata": {
        "id": "I4Hq2w_ZE-iy",
        "outputId": "fe78a73d-97aa-4a5a-b796-d54c3ebe7baa",
        "colab": {
          "base_uri": "https://localhost:8080/"
        }
      },
      "execution_count": null,
      "outputs": [
        {
          "output_type": "stream",
          "name": "stdout",
          "text": [
            "[ 0  1  2  6  8  5  6  7  8 18]\n"
          ]
        }
      ]
    },
    {
      "cell_type": "code",
      "source": [
        "import numpy as np\n",
        "def repeating(arr:np.ndarray):\n",
        "  return np.repeat(arr,len(arr))\n",
        "print(repeating(np.array([1,2,3])))"
      ],
      "metadata": {
        "id": "v7JYeMxFI5Yd",
        "outputId": "4975f7d7-f9bc-4384-fa15-29e2aac8468c",
        "colab": {
          "base_uri": "https://localhost:8080/"
        }
      },
      "execution_count": null,
      "outputs": [
        {
          "output_type": "stream",
          "name": "stdout",
          "text": [
            "[1 1 1 2 2 2 3 3 3]\n"
          ]
        }
      ]
    },
    {
      "cell_type": "code",
      "source": [
        "import numpy as np\n",
        "a = np.array([2, 4])\n",
        "indexes = [1, 1, 0, 1]\n",
        "\n",
        "print(a[indexes])\n"
      ],
      "metadata": {
        "id": "AYKK4HAHKtFD",
        "outputId": "1d869904-3e83-4ea0-aaab-ba826d139ecf",
        "colab": {
          "base_uri": "https://localhost:8080/"
        }
      },
      "execution_count": null,
      "outputs": [
        {
          "output_type": "stream",
          "name": "stdout",
          "text": [
            "[4 4 2 4]\n"
          ]
        }
      ]
    },
    {
      "cell_type": "code",
      "source": [
        "# normal way -> easy\n",
        "def lol(L:list,index_l:list):\n",
        "  new_l = []\n",
        "  for i in index_l:\n",
        "    new_l.append(L[i])\n",
        "  return new_l\n",
        "lol([2,4],[1,1,0,1])"
      ],
      "metadata": {
        "id": "ZWzcXHF9OPrj",
        "outputId": "8101751d-fce3-46ef-e1df-e8690c774139",
        "colab": {
          "base_uri": "https://localhost:8080/"
        }
      },
      "execution_count": null,
      "outputs": [
        {
          "output_type": "execute_result",
          "data": {
            "text/plain": [
              "[4, 4, 2, 4]"
            ]
          },
          "metadata": {},
          "execution_count": 10
        }
      ]
    },
    {
      "cell_type": "markdown",
      "source": [
        "###`Q-4:` Your are given an array which is havig some nan value. You job is to fill those nan values with most common element in the array.\n",
        "```\n",
        "arr=np.array([[1,2,np.nan],[4,2,6],[np.nan,np.nan,5]])\n",
        "\n",
        "```"
      ],
      "metadata": {
        "id": "UDehG0tFi89i"
      }
    },
    {
      "cell_type": "code",
      "source": [
        "arr=np.array([[1,2,np.nan],[4,2,6],[np.nan,np.nan,5]])\n",
        "def fill_with_mode(arr):\n",
        "    flat_no_nan = arr[~np.isnan(arr)].astype(int)\n",
        "    mode_val = np.bincount(flat_no_nan).argmax()\n",
        "    return np.where(np.isnan(arr), mode_val, arr)\n",
        "fill_with_mode(arr)"
      ],
      "metadata": {
        "id": "YH13A6w9jEyu",
        "outputId": "d500520e-218e-4b1c-fdee-2a93cfed1c93",
        "colab": {
          "base_uri": "https://localhost:8080/"
        }
      },
      "execution_count": null,
      "outputs": [
        {
          "output_type": "execute_result",
          "data": {
            "text/plain": [
              "array([[1., 2., 2.],\n",
              "       [4., 2., 6.],\n",
              "       [2., 2., 5.]])"
            ]
          },
          "metadata": {},
          "execution_count": 28
        }
      ]
    },
    {
      "cell_type": "markdown",
      "source": [
        "### `Q-5:` Write a NumPy program\n",
        "\n",
        "- to find the missing data in a given array. Return a boolean matrix.\n",
        "- also try to fill those missing values with 0. For that, you can use `np.nan_to_num(a)`\n",
        "\n",
        "```python\n",
        "import numpy as np\n",
        "\n",
        "np.array([[3, 2, np.nan, 1],\n",
        "          [10, 12, 10, 9],\n",
        "          [5, np.nan, 1, np.nan]])\n",
        "```"
      ],
      "metadata": {
        "id": "Tk2JnioUjJ_t"
      }
    },
    {
      "cell_type": "code",
      "source": [
        "import numpy as np\n",
        "arr  = np.array([[3, 2, np.nan, 1],\n",
        "          [10, 12, 10, 9],\n",
        "          [5, np.nan, 1, np.nan]])\n",
        "print(np.isnan(arr))\n",
        "arr[np.isnan(arr)] = 0\n",
        "print(arr)"
      ],
      "metadata": {
        "id": "nPEBTQJ_jJZe",
        "colab": {
          "base_uri": "https://localhost:8080/"
        },
        "outputId": "a5581a30-6776-489e-df76-c7022a1ecb34"
      },
      "execution_count": 11,
      "outputs": [
        {
          "output_type": "stream",
          "name": "stdout",
          "text": [
            "[[False False  True False]\n",
            " [False False False False]\n",
            " [False  True False  True]]\n",
            "[[ 3.  2.  0.  1.]\n",
            " [10. 12. 10.  9.]\n",
            " [ 5.  0.  1.  0.]]\n"
          ]
        }
      ]
    },
    {
      "cell_type": "code",
      "source": [
        "np.nan_to_num(arr, nan=0).astype('int')"
      ],
      "metadata": {
        "colab": {
          "base_uri": "https://localhost:8080/"
        },
        "id": "GlYCmOmoWIdC",
        "outputId": "60954a29-0736-4171-c96f-080e0b221d7b"
      },
      "execution_count": 14,
      "outputs": [
        {
          "output_type": "execute_result",
          "data": {
            "text/plain": [
              "array([[ 3,  2,  0,  1],\n",
              "       [10, 12, 10,  9],\n",
              "       [ 5,  0,  1,  0]])"
            ]
          },
          "metadata": {},
          "execution_count": 14
        }
      ]
    },
    {
      "cell_type": "markdown",
      "source": [
        "###`Q-6:` Given two arrays, X and Y, construct the Cauchy matrix C.\n",
        "`Cij =1/(xi - yj)`\n",
        "\n",
        "http://en.wikipedia.org/wiki/Cauchy_matrix\n",
        "```\n",
        "x = numpy.array([1,2,3,4]).reshape((-1, 1)\n",
        "y = numpy.array([5,6,7])\n",
        "```"
      ],
      "metadata": {
        "id": "FFUnZtG7jNBH"
      }
    },
    {
      "cell_type": "code",
      "source": [
        "x = np.array([1,2,3,4]).reshape(-1,1)\n",
        "y = np.array([5,6,7])\n",
        "c = 1/(x - y)\n",
        "c"
      ],
      "metadata": {
        "id": "pQXHa38TjVEh",
        "colab": {
          "base_uri": "https://localhost:8080/"
        },
        "outputId": "42d1c6c3-60b0-4cda-a5b7-2c0b4db97339"
      },
      "execution_count": 20,
      "outputs": [
        {
          "output_type": "execute_result",
          "data": {
            "text/plain": [
              "array([[-0.25      , -0.2       , -0.16666667],\n",
              "       [-0.33333333, -0.25      , -0.2       ],\n",
              "       [-0.5       , -0.33333333, -0.25      ],\n",
              "       [-1.        , -0.5       , -0.33333333]])"
            ]
          },
          "metadata": {},
          "execution_count": 20
        }
      ]
    },
    {
      "cell_type": "markdown",
      "source": [
        "###`Q-7:` Plot this below equation.\n",
        "\n",
        "$$\\large y = \\frac{e^x - e^{-x}}{e^x + e^{-x}}$$\n",
        "\n",
        "**Note: This equation is called tanh activation function. In deep learning, many times this function is used. If you find some difference between the sigmoid function and this tanh function, note that to your notebook.**"
      ],
      "metadata": {
        "id": "EbkHZCF1jWNc"
      }
    },
    {
      "cell_type": "code",
      "source": [
        "import numpy as np\n",
        "import matplotlib.pyplot as plt\n",
        "\n",
        "def activation(arr:np.ndarray):\n",
        "  y = (np.exp(arr) - np.exp((-1)*arr))/(np.exp(arr) + np.exp((-1)*arr))\n",
        "  return y\n",
        "\n",
        "x = np.linspace(-10, 10, 100) # Generate x values\n",
        "y = activation(x) # Calculate y values\n",
        "\n",
        "plt.plot(x, y) # Plot the function\n",
        "plt.title(\"Tanh Activation Function\")\n",
        "plt.xlabel(\"x\")\n",
        "plt.ylabel(\"y\")\n",
        "plt.grid(True)\n",
        "plt.show()"
      ],
      "metadata": {
        "id": "n6OcN--FjbLC",
        "colab": {
          "base_uri": "https://localhost:8080/",
          "height": 472
        },
        "outputId": "2e59c071-0b1c-40af-96fb-29d2e959cc77"
      },
      "execution_count": 26,
      "outputs": [
        {
          "output_type": "display_data",
          "data": {
            "text/plain": [
              "<Figure size 640x480 with 1 Axes>"
            ],
            "image/png": "[encoded data removed]"
          },
          "metadata": {}
        }
      ]
    },
    {
      "cell_type": "markdown",
      "source": [
        "### `Q-8:` Plot the below equation.\n",
        "\n",
        "$$\\large y = \\sqrt{36 - (x - 4)^2} + 2$$\n",
        "\n",
        "The range of x should be between -2 to 10. $x ∈ [-2, 10]$\n",
        "\n"
      ],
      "metadata": {
        "id": "xujS-pu4jciH"
      }
    },
    {
      "cell_type": "code",
      "source": [
        "import matplotlib.pyplot as plt\n",
        "x = np.linspace(-2,10,50)\n",
        "def distance(x:np.ndarray):\n",
        "  y = (36 - (x-4)**2)**0.5 + 2\n",
        "  return y\n",
        "z = distance(x)\n",
        "plt.plot(x,z)"
      ],
      "metadata": {
        "id": "7CagwKP_jhIQ",
        "colab": {
          "base_uri": "https://localhost:8080/",
          "height": 447
        },
        "outputId": "9b0b7d0c-42ad-4c5a-a715-5f7b7d9b3f70"
      },
      "execution_count": 30,
      "outputs": [
        {
          "output_type": "execute_result",
          "data": {
            "text/plain": [
              "[<matplotlib.lines.Line2D at 0x7e10c3f40770>]"
            ]
          },
          "metadata": {},
          "execution_count": 30
        },
        {
          "output_type": "display_data",
          "data": {
            "text/plain": [
              "<Figure size 640x480 with 1 Axes>"
            ],
            "image/png": "[encoded data removed]"
          },
          "metadata": {}
        }
      ]
    },
    {
      "cell_type": "markdown",
      "source": [
        "### `Q-9:` Write a program implement Boradcasting Rule to check if two array can be added or not.\n",
        "Given tuples of shapes.\n",
        "```\n",
        "shape of a- (3,2,2)\n",
        "shape of b- (2,2)\n",
        "\n",
        "check_broadcast(a, b) -> return Boolean (True if can broadcasted, False other wise.)\n",
        "```"
      ],
      "metadata": {
        "id": "Jf14pxCfjiX1"
      }
    },
    {
      "cell_type": "code",
      "source": [
        "import numpy as np\n",
        "\n",
        "def can_broadcast(shape1, shape2):\n",
        "    # Step 1: Pad the smaller shape\n",
        "    len1, len2 = len(shape1), len(shape2)\n",
        "    if len1 < len2:\n",
        "        shape1 = (1,) * (len2 - len1) + shape1\n",
        "    else:\n",
        "        shape2 = (1,) * (len1 - len2) + shape2\n",
        "\n",
        "    # Step 2: Check dimension by dimension\n",
        "    for a, b in zip(shape1, shape2):\n",
        "        if a != b and a != 1 and b != 1:\n",
        "            return False\n",
        "    return True\n",
        "\n",
        "# --- Examples ---\n",
        "print(can_broadcast((3,2,2), (2,2)))   # ✅ True\n",
        "print(can_broadcast((4,5), (1,5)))     # ✅ True\n",
        "print(can_broadcast((4,5), (3,5)))     # ❌ False\n",
        "print(can_broadcast((2,3,4), (2,4)))   # ❌ False\n"
      ],
      "metadata": {
        "id": "qSKGG0Yajlc8",
        "colab": {
          "base_uri": "https://localhost:8080/"
        },
        "outputId": "8809fa6c-85b9-4d7a-8288-215fd0b1d752"
      },
      "execution_count": 6,
      "outputs": [
        {
          "output_type": "stream",
          "name": "stdout",
          "text": [
            "True\n",
            "True\n",
            "False\n",
            "False\n"
          ]
        }
      ]
    },
    {
      "cell_type": "code",
      "source": [],
      "metadata": {
        "id": "3ytbI4dbQc6Q"
      },
      "execution_count": null,
      "outputs": []
    }
  ]
}