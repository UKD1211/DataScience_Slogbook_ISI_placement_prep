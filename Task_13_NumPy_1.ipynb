{
  "nbformat": 4,
  "nbformat_minor": 0,
  "metadata": {
    "colab": {
      "provenance": [],
      "include_colab_link": true
    },
    "kernelspec": {
      "name": "python3",
      "display_name": "Python 3"
    },
    "language_info": {
      "name": "python"
    }
  },
  "cells": [
    {
      "cell_type": "markdown",
      "metadata": {
        "id": "view-in-github",
        "colab_type": "text"
      },
      "source": [
        "<a href=\"https://colab.research.google.com/github/UKD1211/DataScience_Slogbook_ISI_placement_prep/blob/main/Task_13_NumPy_1.ipynb\" target=\"_parent\"><img src=\"https://colab.research.google.com/assets/colab-badge.svg\" alt=\"Open In Colab\"/></a>"
      ]
    },
    {
      "cell_type": "markdown",
      "source": [
        "**Note: In Data Science googling is a very important skill. If you find some difficulties to solve the problem, google it and try to find some clues to solve.**"
      ],
      "metadata": {
        "id": "6WdKdPGx-tnY"
      }
    },
    {
      "cell_type": "code",
      "source": [
        "import numpy as np"
      ],
      "metadata": {
        "id": "-J4F1ysN4mLk"
      },
      "execution_count": null,
      "outputs": []
    },
    {
      "cell_type": "markdown",
      "source": [
        "###`Q-1` Create a null vector of size 10 but the fifth value which is 1.\n",
        "\n"
      ],
      "metadata": {
        "id": "a_K8IH-C6HDK"
      }
    },
    {
      "cell_type": "code",
      "source": [
        "a = np.zeros((1,10), dtype = int) #2d\n",
        "a[:,[4]]  = 1\n",
        "a"
      ],
      "metadata": {
        "id": "sTF03KsZ6QUI",
        "colab": {
          "base_uri": "https://localhost:8080/"
        },
        "outputId": "70cea5e3-623c-4823-b452-b12101666237"
      },
      "execution_count": null,
      "outputs": [
        {
          "output_type": "execute_result",
          "data": {
            "text/plain": [
              "array([[0, 0, 0, 0, 1, 0, 0, 0, 0, 0]])"
            ]
          },
          "metadata": {},
          "execution_count": 12
        }
      ]
    },
    {
      "cell_type": "code",
      "source": [
        "a = np.zeros(10, dtype = int) #1d\n",
        "a[4] = 1\n",
        "a"
      ],
      "metadata": {
        "colab": {
          "base_uri": "https://localhost:8080/"
        },
        "id": "gxxmDeHMia1T",
        "outputId": "28a93b3c-df1b-445c-8753-459eea64a1e1"
      },
      "execution_count": null,
      "outputs": [
        {
          "output_type": "execute_result",
          "data": {
            "text/plain": [
              "array([0, 0, 0, 0, 1, 0, 0, 0, 0, 0])"
            ]
          },
          "metadata": {},
          "execution_count": 14
        }
      ]
    },
    {
      "cell_type": "markdown",
      "source": [
        "###`Q-2` Ask user to input two numbers a, b. Write a program to generate a random array of shape (a, b) and print the array and avg of the array."
      ],
      "metadata": {
        "id": "TEiG25rS6S1i"
      }
    },
    {
      "cell_type": "code",
      "source": [
        "import numpy as np\n",
        "def shaped(a,b):\n",
        "  return np.random.random((a,b))*100\n",
        "print(shaped(2,2))"
      ],
      "metadata": {
        "id": "ihwn4oOH6Vh7",
        "colab": {
          "base_uri": "https://localhost:8080/"
        },
        "outputId": "bf6786db-ba5b-4c69-9d4a-96e53c123645"
      },
      "execution_count": null,
      "outputs": [
        {
          "output_type": "stream",
          "name": "stdout",
          "text": [
            "[[56.99846696 65.76326069]\n",
            " [29.81765021 31.67972245]]\n"
          ]
        }
      ]
    },
    {
      "cell_type": "code",
      "source": [
        "import numpy as np\n",
        "a,b = int(input(\"give 1 numbers\")), int(input(\"give 2 numbers\"))\n",
        "x = np.random.random((a,b))\n",
        "print(x)\n",
        "print(np.mean(x))"
      ],
      "metadata": {
        "colab": {
          "base_uri": "https://localhost:8080/"
        },
        "id": "dlEHAo2Hjxt8",
        "outputId": "bb294677-66b3-4276-b032-ca211076e52b"
      },
      "execution_count": null,
      "outputs": [
        {
          "output_type": "stream",
          "name": "stdout",
          "text": [
            "give 1 numbers2\n",
            "give 2 numbers2\n",
            "[[0.9623195  0.47402666]\n",
            " [0.74624406 0.6729996 ]]\n",
            "0.7138974559757876\n"
          ]
        }
      ]
    },
    {
      "cell_type": "markdown",
      "source": [
        "###`Q-3`Write a function to create a 2d array with 1 on the border and 0 inside. Take 2-D array shape as (a,b) as parameter to function.\n",
        "\n",
        "Eg.-\n",
        "```\n",
        "[[1,1,1,1],\n",
        "[1,0,0,1],\n",
        "[1,0,0,1],\n",
        "[1,1,1,1]]\n",
        "```"
      ],
      "metadata": {
        "id": "2iEeybS06ZSq"
      }
    },
    {
      "cell_type": "code",
      "source": [
        "def twoD(a,b):\n",
        "  return np.ones((a,b), dtype = int)\n",
        "twoD(4,4)"
      ],
      "metadata": {
        "colab": {
          "base_uri": "https://localhost:8080/"
        },
        "id": "ikqM2Cwljw1S",
        "outputId": "157f0230-41ac-4a70-9ee6-ac219cef7119"
      },
      "execution_count": null,
      "outputs": [
        {
          "output_type": "execute_result",
          "data": {
            "text/plain": [
              "array([[1, 1, 1, 1],\n",
              "       [1, 1, 1, 1],\n",
              "       [1, 1, 1, 1],\n",
              "       [1, 1, 1, 1]])"
            ]
          },
          "metadata": {},
          "execution_count": 6
        }
      ]
    },
    {
      "cell_type": "code",
      "source": [
        "def towD(a,b):\n",
        "  x = np.ones((a,b), dtype = int)\n",
        "  x[a-(a-1):(a-1), b-(b-1):(b-1)] = 0\n",
        "  return x\n",
        "towD(4,4)"
      ],
      "metadata": {
        "id": "gEKndkDU6ZSs",
        "colab": {
          "base_uri": "https://localhost:8080/"
        },
        "outputId": "d20c9c42-f86b-4914-e4c8-cfdf24184804"
      },
      "execution_count": null,
      "outputs": [
        {
          "output_type": "execute_result",
          "data": {
            "text/plain": [
              "array([[1, 1, 1, 1],\n",
              "       [1, 0, 0, 1],\n",
              "       [1, 0, 0, 1],\n",
              "       [1, 1, 1, 1]])"
            ]
          },
          "metadata": {},
          "execution_count": 7
        }
      ]
    },
    {
      "cell_type": "code",
      "source": [
        "def towD(a,b):\n",
        "  x = np.ones((a,b), dtype = int)\n",
        "  x[1:-1, 1:-1] = 0\n",
        "  return x\n",
        "towD(4,4)"
      ],
      "metadata": {
        "colab": {
          "base_uri": "https://localhost:8080/"
        },
        "id": "j0ddmtUkNttv",
        "outputId": "3f723ee7-2c6f-4ada-fb7b-9be7a70ef473"
      },
      "execution_count": null,
      "outputs": [
        {
          "output_type": "execute_result",
          "data": {
            "text/plain": [
              "array([[1, 1, 1, 1],\n",
              "       [1, 0, 0, 1],\n",
              "       [1, 0, 0, 1],\n",
              "       [1, 1, 1, 1]])"
            ]
          },
          "metadata": {},
          "execution_count": 8
        }
      ]
    },
    {
      "cell_type": "markdown",
      "source": [
        "###`Q-4` Create a vector of size 10 with values ranging from 0 to 1, both excluded.\n"
      ],
      "metadata": {
        "id": "QRJicQ8j6ZlE"
      }
    },
    {
      "cell_type": "code",
      "source": [
        "a = np.linspace(0,1,12)\n",
        "b = a[1:-1]\n",
        "b"
      ],
      "metadata": {
        "id": "eC4XLhDq6ZlF",
        "colab": {
          "base_uri": "https://localhost:8080/"
        },
        "outputId": "1a1193eb-3a25-41ae-80fa-f1c289f44a80"
      },
      "execution_count": null,
      "outputs": [
        {
          "output_type": "execute_result",
          "data": {
            "text/plain": [
              "array([0.09090909, 0.18181818, 0.27272727, 0.36363636, 0.45454545,\n",
              "       0.54545455, 0.63636364, 0.72727273, 0.81818182, 0.90909091])"
            ]
          },
          "metadata": {},
          "execution_count": 15
        }
      ]
    },
    {
      "cell_type": "markdown",
      "source": [
        "###`Q-5` Can you create a identity mattrix of shape (3,4). If yes write code for it."
      ],
      "metadata": {
        "id": "vb4jK4yQ6Zs2"
      }
    },
    {
      "cell_type": "code",
      "source": [
        "np.identity(3 , dtype = int)"
      ],
      "metadata": {
        "id": "DTV_AbMS6Zs4",
        "colab": {
          "base_uri": "https://localhost:8080/"
        },
        "outputId": "8b7abaeb-a5c9-4303-9d29-80306441962e"
      },
      "execution_count": null,
      "outputs": [
        {
          "output_type": "execute_result",
          "data": {
            "text/plain": [
              "array([[1, 0, 0],\n",
              "       [0, 1, 0],\n",
              "       [0, 0, 1]])"
            ]
          },
          "metadata": {},
          "execution_count": 17
        }
      ]
    },
    {
      "cell_type": "code",
      "source": [
        "#  by np.eye we can make it as it will take the 1 at the principle diagonals\n",
        "np.eye(3,4 ,dtype = int)"
      ],
      "metadata": {
        "id": "g_lL7LXLRJFL",
        "outputId": "0610fe4a-c2bf-4840-afe5-84c10f32ab08",
        "colab": {
          "base_uri": "https://localhost:8080/"
        }
      },
      "execution_count": null,
      "outputs": [
        {
          "output_type": "execute_result",
          "data": {
            "text/plain": [
              "array([[1, 0, 0, 0],\n",
              "       [0, 1, 0, 0],\n",
              "       [0, 0, 1, 0]])"
            ]
          },
          "metadata": {},
          "execution_count": 19
        }
      ]
    },
    {
      "cell_type": "markdown",
      "source": [
        "###`Q-6:` Create a 5x5 matrix with row values ranging from 0 to 4."
      ],
      "metadata": {
        "id": "QtjAFm5PEntK"
      }
    },
    {
      "cell_type": "code",
      "source": [
        "import numpy as np\n",
        "a = np.linspace(0,4,25,dtype = int)\n",
        "a.reshape(5,5)"
      ],
      "metadata": {
        "id": "z2WGxRjvEuRS",
        "outputId": "51cf6a21-2181-4c43-cba5-5241ea102547",
        "colab": {
          "base_uri": "https://localhost:8080/"
        }
      },
      "execution_count": 8,
      "outputs": [
        {
          "output_type": "execute_result",
          "data": {
            "text/plain": [
              "array([[0, 0, 0, 0, 0],\n",
              "       [0, 1, 1, 1, 1],\n",
              "       [1, 1, 2, 2, 2],\n",
              "       [2, 2, 2, 3, 3],\n",
              "       [3, 3, 3, 3, 4]])"
            ]
          },
          "metadata": {},
          "execution_count": 8
        }
      ]
    },
    {
      "cell_type": "code",
      "source": [
        "a = np.arange(0,5)\n",
        "np.vstack([a]*5)"
      ],
      "metadata": {
        "id": "f3XouRHJtb5y",
        "outputId": "66d4a37c-58fa-4d89-f8fd-0c3d0a76f89e",
        "colab": {
          "base_uri": "https://localhost:8080/"
        }
      },
      "execution_count": 12,
      "outputs": [
        {
          "output_type": "execute_result",
          "data": {
            "text/plain": [
              "array([[0, 1, 2, 3, 4],\n",
              "       [0, 1, 2, 3, 4],\n",
              "       [0, 1, 2, 3, 4],\n",
              "       [0, 1, 2, 3, 4],\n",
              "       [0, 1, 2, 3, 4]])"
            ]
          },
          "metadata": {},
          "execution_count": 12
        }
      ]
    },
    {
      "cell_type": "markdown",
      "source": [
        "###`Q-7:`  Consider a random integer (in range 1 to 100) vector with shape `(10,2)` representing coordinates, and coordinates of a point as array is given. Create an array of distance of each point in the random vectros from the given point. Distance array should be interger type.\n",
        "\n",
        "```\n",
        "point = np.array([2,3])\n",
        "```\n"
      ],
      "metadata": {
        "id": "KPpvxKjVHnyx"
      }
    },
    {
      "cell_type": "code",
      "source": [
        "a = np.random.randint(1,100,20)\n",
        "x = a.reshape(10,2)\n",
        "x"
      ],
      "metadata": {
        "id": "X7KGnWLNIM6f",
        "outputId": "e65bbf9d-6da4-4778-af8e-e154a930ec01",
        "colab": {
          "base_uri": "https://localhost:8080/"
        }
      },
      "execution_count": 21,
      "outputs": [
        {
          "output_type": "execute_result",
          "data": {
            "text/plain": [
              "array([[85, 76],\n",
              "       [45, 48],\n",
              "       [44, 16],\n",
              "       [98, 50],\n",
              "       [ 5,  7],\n",
              "       [16, 20],\n",
              "       [18, 11],\n",
              "       [50, 32],\n",
              "       [17, 63],\n",
              "       [ 6,  9]])"
            ]
          },
          "metadata": {},
          "execution_count": 21
        }
      ]
    },
    {
      "cell_type": "code",
      "source": [
        "def disArray(l:list):\n",
        "  L=[]\n",
        "  for i in x:\n",
        "    L.append(((i[0]-l[0])**2 + (i[1] - l[1])**2)**0.5)\n",
        "  return np.array(L ,dtype=int)\n",
        "disArray([2,3])"
      ],
      "metadata": {
        "id": "F4fj0p3hz34p",
        "outputId": "59ae16c4-b7bf-4a67-e26a-67919ebbe5e1",
        "colab": {
          "base_uri": "https://localhost:8080/"
        }
      },
      "execution_count": 27,
      "outputs": [
        {
          "output_type": "execute_result",
          "data": {
            "text/plain": [
              "array([110,  62,  43, 106,   5,  22,  17,  56,  61,   7])"
            ]
          },
          "metadata": {},
          "execution_count": 27
        }
      ]
    },
    {
      "cell_type": "markdown",
      "source": [
        "###`Q-8:` Consider a (6,7,8) shape array, what is the index (x,y,z) of the 100th element?"
      ],
      "metadata": {
        "id": "tajOFJlCDwTr"
      }
    },
    {
      "cell_type": "code",
      "source": [
        "56*6\n"
      ],
      "metadata": {
        "id": "DUAyByi9z3JY",
        "outputId": "2b61f352-2f70-4700-b498-26cbd80589f0",
        "colab": {
          "base_uri": "https://localhost:8080/"
        }
      },
      "execution_count": 28,
      "outputs": [
        {
          "output_type": "execute_result",
          "data": {
            "text/plain": [
              "336"
            ]
          },
          "metadata": {},
          "execution_count": 28
        }
      ]
    },
    {
      "cell_type": "code",
      "source": [
        "a = np.arange(0,336).reshape(6,7,8)\n",
        "a[1,[5],[4]]"
      ],
      "metadata": {
        "id": "qH4oxvs0D3Ra",
        "outputId": "1931cd57-0ca4-4a2b-eaf7-fb400cf15c35",
        "colab": {
          "base_uri": "https://localhost:8080/"
        }
      },
      "execution_count": 32,
      "outputs": [
        {
          "output_type": "execute_result",
          "data": {
            "text/plain": [
              "array([100])"
            ]
          },
          "metadata": {},
          "execution_count": 32
        }
      ]
    },
    {
      "cell_type": "code",
      "source": [
        "import numpy as np\n",
        "\n",
        "a = np.arange(336).reshape(6,7,8)\n",
        "\n",
        "# Convert flat index -> 3D index\n",
        "index = np.unravel_index(100, a.shape)\n",
        "print(index)       # (1, 5, 4)\n",
        "\n",
        "# Verify\n",
        "print(a[index])    # 100\n"
      ],
      "metadata": {
        "id": "JW7EJv4W4OsF",
        "outputId": "5496473e-50e6-473d-fadc-b08ad04ae065",
        "colab": {
          "base_uri": "https://localhost:8080/"
        }
      },
      "execution_count": 33,
      "outputs": [
        {
          "output_type": "stream",
          "name": "stdout",
          "text": [
            "(np.int64(1), np.int64(5), np.int64(4))\n",
            "100\n"
          ]
        }
      ]
    },
    {
      "cell_type": "markdown",
      "source": [
        "### `Q-9:` Arrays\n",
        "\n",
        "You are given a space separated list of numbers. Your task is to print a reversed NumPy array with the element type float.\n",
        "\n"
      ],
      "metadata": {
        "id": "9LxBAbT2Pw33"
      }
    },
    {
      "cell_type": "markdown",
      "source": [
        "**Input Format:**\n",
        "\n",
        "A single line of input containing space separated numbers.\n",
        "\n",
        "**Output Format:**\n",
        "\n",
        "Print the reverse NumPy array with type float.\n",
        "\n",
        "**Example 1:**\n",
        "\n",
        "Input:\n",
        "\n",
        "```bash\n",
        "1 2 3 4 -8 -10\n",
        "```\n",
        "\n",
        "Output:\n",
        "\n",
        "```bash\n",
        "[-10.  -8.   4.   3.   2.   1.]\n",
        "```"
      ],
      "metadata": {
        "id": "JJpqVms2Nq7L"
      }
    },
    {
      "cell_type": "code",
      "source": [
        "strings = \"1 2 3 4 -8 -10\"\n",
        "\n",
        "def rev(strings:str):\n",
        "  new_l = []\n",
        "  lol_l = []\n",
        "  l = strings.split()                #useless way\n",
        "  for i in l:\n",
        "    new_l.append(int(i))\n",
        "\n",
        "  for i in range(1,len(new_l)+1):\n",
        "    lol_l.append(new_l[-i])\n",
        "  return \" \".join(map(str,lol_l))\n",
        "rev(strings)"
      ],
      "metadata": {
        "id": "7iQyg6ChNl3j",
        "outputId": "20e9202c-790f-469d-daba-0ab06eed0eb7",
        "colab": {
          "base_uri": "https://localhost:8080/",
          "height": 35
        }
      },
      "execution_count": 38,
      "outputs": [
        {
          "output_type": "execute_result",
          "data": {
            "text/plain": [
              "'-10 -8 4 3 2 1'"
            ],
            "application/vnd.google.colaboratory.intrinsic+json": {
              "type": "string"
            }
          },
          "metadata": {},
          "execution_count": 38
        }
      ]
    },
    {
      "cell_type": "code",
      "source": [
        "strings = \"1 2 3 4 -8 -10\"\n",
        "\n",
        "import numpy as np\n",
        "arr = np.array(strings.split() ,float)\n",
        "print(arr[::-1])\n"
      ],
      "metadata": {
        "id": "otkI4RTXCe94",
        "outputId": "20b854d8-15dc-4f93-da96-836235b0f89c",
        "colab": {
          "base_uri": "https://localhost:8080/"
        }
      },
      "execution_count": 42,
      "outputs": [
        {
          "output_type": "stream",
          "name": "stdout",
          "text": [
            "[-10.  -8.   4.   3.   2.   1.]\n"
          ]
        }
      ]
    },
    {
      "cell_type": "markdown",
      "source": [
        "### `Q-10:` Elements count\n",
        "\n",
        "Count the number of elements of a numpy array.\n",
        "\n"
      ],
      "metadata": {
        "id": "TPxD7jM8Sjz9"
      }
    },
    {
      "cell_type": "markdown",
      "source": [
        "**Example 1:**\n",
        "\n",
        "Input:\n",
        "```bash\n",
        "np.array([])\n",
        "```\n",
        "\n",
        "Output:\n",
        "```bash\n",
        "elements_count :  0\n",
        "```\n",
        "\n",
        "**Example 2:**\n",
        "\n",
        "Input:\n",
        "```bash\n",
        "np.array([1, 2])\n",
        "```\n",
        "\n",
        "Output:\n",
        "```bash\n",
        "elements_count :  2\n",
        "```"
      ],
      "metadata": {
        "id": "oHTiTz_jNkAU"
      }
    },
    {
      "cell_type": "code",
      "source": [
        "a = np.array([1,2,3,4,1,1,3,1,1,2,1,1,5])\n",
        "a\n",
        "count = 0\n",
        "for i in a:\n",
        "  count += 1\n",
        "print(count)"
      ],
      "metadata": {
        "id": "RG0H2I-TNeGN",
        "outputId": "4a9ad242-f1af-4403-d732-c0f9e1ee08c9",
        "colab": {
          "base_uri": "https://localhost:8080/"
        }
      },
      "execution_count": 51,
      "outputs": [
        {
          "output_type": "stream",
          "name": "stdout",
          "text": [
            "13\n"
          ]
        }
      ]
    },
    {
      "cell_type": "code",
      "source": [
        "def count(arr:list):\n",
        "  count = 0\n",
        "  for i in arr:\n",
        "    count += 1\n",
        "  return count\n",
        "count([1,2,3,4,1,1,3,1,1,2,1,1,5])"
      ],
      "metadata": {
        "id": "atGrdZa5D9zh",
        "outputId": "b9541094-0580-4657-89de-d338ed9cd02d",
        "colab": {
          "base_uri": "https://localhost:8080/"
        }
      },
      "execution_count": 52,
      "outputs": [
        {
          "output_type": "execute_result",
          "data": {
            "text/plain": [
              "13"
            ]
          },
          "metadata": {},
          "execution_count": 52
        }
      ]
    },
    {
      "cell_type": "code",
      "source": [
        "a.size\n"
      ],
      "metadata": {
        "id": "QbzUS4Z1ENFX",
        "outputId": "836bc1b8-ec06-4e40-d464-708e36e1b714",
        "colab": {
          "base_uri": "https://localhost:8080/"
        }
      },
      "execution_count": 57,
      "outputs": [
        {
          "output_type": "execute_result",
          "data": {
            "text/plain": [
              "13"
            ]
          },
          "metadata": {},
          "execution_count": 57
        }
      ]
    },
    {
      "cell_type": "markdown",
      "source": [
        "### `Q-11:` Softmax function\n",
        "\n",
        "Create a Python function to calculate the Softmax of the given numpy 1D array. The function only accepts the numpy 1D array, otherwise raise error.\n",
        "\n",
        "$$\\Large \\sigma(\\vec z)_i = \\frac{e^{z_i}}{\\sum_{j=i}^{K}{e^{z_j}}}$$\n",
        "\n",
        "https://en.wikipedia.org/wiki/Softmax_function\n",
        "\n"
      ],
      "metadata": {
        "id": "pwgPz-3l5ic5"
      }
    },
    {
      "cell_type": "markdown",
      "source": [
        "**Example 1:**\n",
        "\n",
        "Input:\n",
        "```bash\n",
        "[86.03331084 37.7285648  48.64908087 87.16563062 38.40852563 37.20006318]\n",
        "```\n",
        "\n",
        "Output:\n",
        "```bash\n",
        "[2.43733249e-01, 2.56112115e-22, 1.41628284e-17, 7.56266751e-01,\n",
        "       5.05514197e-22, 1.50974911e-22]\n",
        "```\n",
        "\n",
        "**Example 2:**\n",
        "\n",
        "Input:\n",
        "```bash\n",
        "[33.17344305 45.61961654 82.05405781 80.9647098  68.82830233 91.52064278]\n",
        "```\n",
        "\n",
        "Output:\n",
        "```bash\n",
        "[4.57181035e-26, 1.16249923e-20, 7.73872596e-05, 2.60358426e-05,\n",
        "       1.39571531e-10, 9.99896577e-01]\n",
        "```"
      ],
      "metadata": {
        "id": "eZ3WJt6UM1ul"
      }
    },
    {
      "cell_type": "code",
      "source": [
        "#Code here"
      ],
      "metadata": {
        "id": "VNzj05lkNaNi"
      },
      "execution_count": null,
      "outputs": []
    },
    {
      "cell_type": "markdown",
      "source": [
        "### `Q-12:` Vertical stack\n",
        "\n",
        "Write a python function that accepts infinite number of numpy arrays and do the vertical stack to them. Then return that new array as result. The function only accepts the numpy array, otherwise raise error.\n",
        "\n"
      ],
      "metadata": {
        "id": "k4JWSwWu_HXg"
      }
    },
    {
      "cell_type": "markdown",
      "source": [
        "**Example 1:**\n",
        "\n",
        "Input:\n",
        "```bash\n",
        "a= [[0 1 2 3 4]\n",
        " [5 6 7 8 9]]\n",
        "\n",
        "b= [[1 1 1 1 1]\n",
        " [1 1 1 1 1]]\n",
        "```\n",
        "\n",
        "Output:\n",
        "\n",
        "```bash\n",
        "[[0 1 2 3 4]\n",
        " [5 6 7 8 9]\n",
        " [1 1 1 1 1]\n",
        " [1 1 1 1 1]]\n",
        "```\n",
        "\n",
        "**Example 2:**\n",
        "\n",
        "Input:\n",
        "```bash\n",
        "a= [[0 1 2 3 4]\n",
        " [5 6 7 8 9]]\n",
        "\n",
        "b= [[1 1 1 1 1]\n",
        " [1 1 1 1 1]]\n",
        "\n",
        "c= [[0.10117373 0.1677244  0.73764059 0.83166097 0.48985695]\n",
        " [0.44581567 0.13502419 0.55692335 0.16479622 0.61193593]]\n",
        "```\n",
        "\n",
        "Output:\n",
        "```bash\n",
        "[[0.         1.         2.         3.         4.        ]\n",
        " [5.         6.         7.         8.         9.        ]\n",
        " [1.         1.         1.         1.         1.        ]\n",
        " [1.         1.         1.         1.         1.        ]\n",
        " [0.10117373 0.1677244  0.73764059 0.83166097 0.48985695]\n",
        " [0.44581567 0.13502419 0.55692335 0.16479622 0.61193593]]\n",
        "```"
      ],
      "metadata": {
        "id": "XhhV3mraNAWr"
      }
    },
    {
      "cell_type": "code",
      "source": [
        "import numpy as np\n",
        "\n",
        "def vstacking(*args):\n",
        "    return np.vstack(args)\n",
        "\n",
        "result = vstacking(\n",
        "    [[0, 1, 2, 3, 4],\n",
        "     [5, 6, 7, 8, 9]],\n",
        "    [[1, 1, 1, 1, 1],\n",
        "     [1, 1, 1, 1, 1]]\n",
        ")\n",
        "\n",
        "print(result)\n"
      ],
      "metadata": {
        "id": "dhtnbSj6NP8z",
        "outputId": "dead840e-d286-4ade-efda-3eb330beb781",
        "colab": {
          "base_uri": "https://localhost:8080/"
        }
      },
      "execution_count": 59,
      "outputs": [
        {
          "output_type": "stream",
          "name": "stdout",
          "text": [
            "[[0 1 2 3 4]\n",
            " [5 6 7 8 9]\n",
            " [1 1 1 1 1]\n",
            " [1 1 1 1 1]]\n"
          ]
        }
      ]
    },
    {
      "cell_type": "markdown",
      "source": [
        "### `Q-13:` Dates\n",
        "\n",
        "Create a python function named **date_array** that accepts two dates as string format and returns a numpy array of dates between those 2 dates. The function only accept 2 strings, otherwise raise error. The date format should be like this only: `2022-12-6`. The end date should be included and for simplicity, choose dates from a same year.\n",
        "\n"
      ],
      "metadata": {
        "id": "3mk8T6CuC2DP"
      }
    },
    {
      "cell_type": "markdown",
      "source": [
        "**Example 1:**\n",
        "\n",
        "Input:\n",
        "```bash\n",
        "date_array(start = '2020-09-15', end = '2020-09-25')\n",
        "```\n",
        "\n",
        "Output:\n",
        "```bash\n",
        "['2020-09-15', '2020-09-16', '2020-09-17', '2020-09-18',\n",
        " '2020-09-19', '2020-09-20', '2020-09-21', '2020-09-22',\n",
        " '2020-09-23', '2020-09-24', '2020-09-25']\n",
        "```\n",
        "\n",
        "**Example 2:**\n",
        "\n",
        "Input:\n",
        "```bash\n",
        "date_array(start = '2022-12-01', end = '2022-12-06')\n",
        "```\n",
        "\n",
        "Output:\n",
        "```bash\n",
        "['2022-12-01', '2022-12-02', '2022-12-03', '2022-12-04', '2022-12-05', '2022-12-06']\n",
        "```\n",
        "\n",
        "**Example 3:**\n",
        "\n",
        "Input:\n",
        "```bash\n",
        "date_array(start = '2020-11-25', end = '2020-11-30')\n",
        "```\n",
        "\n",
        "Output:\n",
        "```bash\n",
        "['2020-11-25', '2020-11-26', '2020-11-27', '2020-11-28',\n",
        " '2020-11-29', '2020-11-30']\n",
        "```"
      ],
      "metadata": {
        "id": "E3IgjnTTNFEk"
      }
    },
    {
      "cell_type": "code",
      "source": [
        "#Code here"
      ],
      "metadata": {
        "id": "Yj5PBfQQNTnL"
      },
      "execution_count": null,
      "outputs": []
    },
    {
      "cell_type": "markdown",
      "source": [
        "###`Q-14:` Subtract the mean of each row from a matrix."
      ],
      "metadata": {
        "id": "bcEp0wTWQijK"
      }
    },
    {
      "cell_type": "code",
      "source": [
        "#code here"
      ],
      "metadata": {
        "id": "rpILVGcgQzMo"
      },
      "execution_count": null,
      "outputs": []
    },
    {
      "cell_type": "markdown",
      "source": [
        "###`Q-15:` Swap column-1 of array with column-2 in the array."
      ],
      "metadata": {
        "id": "A-dMVlPPSBTT"
      }
    },
    {
      "cell_type": "code",
      "source": [
        "#Code here"
      ],
      "metadata": {
        "id": "3RtngM9-Q6S7"
      },
      "execution_count": null,
      "outputs": []
    },
    {
      "cell_type": "code",
      "source": [],
      "metadata": {
        "id": "ueoMV_LlSnGU"
      },
      "execution_count": null,
      "outputs": []
    },
    {
      "cell_type": "markdown",
      "source": [
        "###`Q-16:` Replace odd elements in arrays with -1."
      ],
      "metadata": {
        "id": "cB4VMexvS6Zi"
      }
    },
    {
      "cell_type": "code",
      "source": [
        "#Code here"
      ],
      "metadata": {
        "id": "Bt83nXEVS5O4"
      },
      "execution_count": null,
      "outputs": []
    },
    {
      "cell_type": "code",
      "source": [],
      "metadata": {
        "id": "1ZlvMaXLVyoW"
      },
      "execution_count": null,
      "outputs": []
    },
    {
      "cell_type": "markdown",
      "source": [
        "###`Q-17:` Given two arrays of same shape make an array of max out of two arrays. (Numpy way)\n",
        "```\n",
        "a=np.array([6,3,1,5,8])\n",
        "b=np.array([3,2,1,7,2])\n",
        "\n",
        "Result-> [6 3 1 7 8]\n",
        "```"
      ],
      "metadata": {
        "id": "kf_qvmBxWIT_"
      }
    },
    {
      "cell_type": "code",
      "source": [
        "#Code here"
      ],
      "metadata": {
        "id": "TB9ZvF-EZSfu"
      },
      "execution_count": null,
      "outputs": []
    },
    {
      "cell_type": "code",
      "source": [],
      "metadata": {
        "id": "D7ad-A6jZzCL"
      },
      "execution_count": null,
      "outputs": []
    },
    {
      "cell_type": "markdown",
      "source": [
        "###`Q-18` Answer below asked questions on given array:\n",
        "1. Fetch Every alternate column of the array\n",
        "2. Normalise the given array\n",
        "\n",
        "https://en.wikipedia.org/wiki/Normalization_(statistics)\n",
        "\n",
        "There are different form of normalisation for this question use below formula.\n",
        "\n",
        "$$\\large X_{normalized} = \\frac{X - X_{min}}{X_{max} - X_{min}}$$\n",
        "\n",
        "```python\n",
        "arr1=np.random.randint(low=1, high=10000, size=40).reshape(8,5)\n",
        "```\n"
      ],
      "metadata": {
        "id": "iOQLUIeGc3zA"
      }
    },
    {
      "cell_type": "code",
      "source": [
        "# Given\n",
        "arr1=np.random.randint(low=1, high=10000, size=40).reshape(8,5)\n",
        "arr1"
      ],
      "metadata": {
        "colab": {
          "base_uri": "https://localhost:8080/"
        },
        "id": "vjSm18k3d_1p",
        "outputId": "83d23b61-d2ae-41bc-e91e-0e0722667521"
      },
      "execution_count": null,
      "outputs": [
        {
          "output_type": "execute_result",
          "data": {
            "text/plain": [
              "array([[2939, 1694, 6680, 8865, 2684],\n",
              "       [4066, 4573,  327, 6525,  851],\n",
              "       [5997, 7481, 2315, 5863, 9615],\n",
              "       [7821, 1225, 9138, 1114, 4885],\n",
              "       [7715, 8046, 9105, 3935, 3182],\n",
              "       [8842, 4836, 2705, 3751, 3800],\n",
              "       [4132, 1400, 7844, 9471, 7526],\n",
              "       [2749, 2624, 6900, 1576, 7515]])"
            ]
          },
          "metadata": {},
          "execution_count": 34
        }
      ]
    },
    {
      "cell_type": "code",
      "source": [
        "#Code here"
      ],
      "metadata": {
        "id": "d7u8DB47eBfQ"
      },
      "execution_count": null,
      "outputs": []
    },
    {
      "cell_type": "markdown",
      "source": [
        "###`Q-19:` Write a function which will accept 2 arguments.\n",
        "First: A 1D numpy array arr\n",
        "\n",
        "Second: An integer n {Please make sure n<=len(arr)}\n",
        "\n",
        "Output: The output should be the nth largest item out of the array\n",
        "```\n",
        "# Example1 : arr=(12,34,40,7,1,0) and n=3, the output should be 12\n",
        "# Example2 : arr=(12,34,40,7,1,0) and n=1, the output should be 40\n",
        "```"
      ],
      "metadata": {
        "id": "jCzsVEKLgGNo"
      }
    },
    {
      "cell_type": "code",
      "source": [
        "def largest(L:list,n):\n",
        "  if n > len(L):\n",
        "    return \"give a proper n in the range of list\"\n",
        "  new_l = sorted(L, reverse = True)\n",
        "  return new_l[n-1]\n",
        "largest([12,34,40,7,1,0],1)"
      ],
      "metadata": {
        "id": "J4AzkDk7gXSG",
        "outputId": "3f36a91e-6e3e-46b2-efc4-845e9ed28b3e",
        "colab": {
          "base_uri": "https://localhost:8080/"
        }
      },
      "execution_count": 76,
      "outputs": [
        {
          "output_type": "execute_result",
          "data": {
            "text/plain": [
              "40"
            ]
          },
          "metadata": {},
          "execution_count": 76
        }
      ]
    },
    {
      "cell_type": "code",
      "source": [
        "import numpy as np\n",
        "def largest(a:np.ndarray,n):\n",
        "  x = np.sort(a)\n",
        "  return x[-n]\n",
        "\n",
        "largest(np.array([12,34,40,7,1,0]),1)"
      ],
      "metadata": {
        "id": "mc4LZYKoMTmi",
        "outputId": "c7550a71-74c5-4384-c356-51072efab55d",
        "colab": {
          "base_uri": "https://localhost:8080/"
        }
      },
      "execution_count": 79,
      "outputs": [
        {
          "output_type": "execute_result",
          "data": {
            "text/plain": [
              "np.int64(40)"
            ]
          },
          "metadata": {},
          "execution_count": 79
        }
      ]
    },
    {
      "cell_type": "markdown",
      "source": [
        "###`Q-20:` Create the following pattern without hardcoding. Use only numpy functions and the below input array a.\n",
        "```\n",
        "# Input: a = np.array([1,2,3])\n",
        "# Output: array([1, 1, 1, 2, 2, 2, 3, 3, 3, 1, 2, 3, 1, 2, 3, 1, 2, 3])\n",
        "```"
      ],
      "metadata": {
        "id": "ja0xPCgjhBsg"
      }
    },
    {
      "cell_type": "code",
      "source": [
        "a = np.array([1,2,3])\n",
        "x = np.hstack([a]*3)\n",
        "y = np.array([1,1,1,2,2,2,3,3,3])\n",
        "np.concatenate([y,x])"
      ],
      "metadata": {
        "id": "CndS8TTNhG0F",
        "outputId": "1e4f8a8c-b37a-409b-bdd6-512b0f75ca79",
        "colab": {
          "base_uri": "https://localhost:8080/"
        }
      },
      "execution_count": 71,
      "outputs": [
        {
          "output_type": "execute_result",
          "data": {
            "text/plain": [
              "array([1, 1, 1, 2, 2, 2, 3, 3, 3, 1, 2, 3, 1, 2, 3, 1, 2, 3])"
            ]
          },
          "metadata": {},
          "execution_count": 71
        }
      ]
    },
    {
      "cell_type": "code",
      "source": [
        "a = np.array([1,2,3])\n",
        "x = np.repeat(a,3)\n",
        "y = np.tile(a,3)\n",
        "np.concat([x,y])"
      ],
      "metadata": {
        "id": "3rv8FpSNIdV1",
        "outputId": "0fb52207-db10-4a59-efd1-cafdc14299bc",
        "colab": {
          "base_uri": "https://localhost:8080/"
        }
      },
      "execution_count": 72,
      "outputs": [
        {
          "output_type": "execute_result",
          "data": {
            "text/plain": [
              "array([1, 1, 1, 2, 2, 2, 3, 3, 3, 1, 2, 3, 1, 2, 3, 1, 2, 3])"
            ]
          },
          "metadata": {},
          "execution_count": 72
        }
      ]
    },
    {
      "cell_type": "markdown",
      "source": [
        "![image.png](data:image/png;base64,iVBORw0KGgoAAAANSUhEUgAAAtUAAACpCAYAAADkzMH4AAAAAXNSR0IArs4c6QAAAARnQU1BAACxjwv8YQUAAAAJcEhZcwAADsMAAA7DAcdvqGQAAD1kSURBVHhe7d17WFTV3gfwL3JRmURQUARvqChqYqAWqIUeRF4qEZJKXzVIKfWcJD2AJ9My881MIC9ZHksJU09oEl4qQiTBCwgaExdFQQZvmAoqiDPc4f3jMPthb24DAyr5/TzPPD6utfZae+/Ze89vFmut0bGysqoBERERERG1WidpAhERERERtQyDaiIiIiIiLTGoJiIiIiLSEoNqIiIiIiItMagmIiIiItISg2oiIiIiIi0xqCYiIiIi0hKDaiIiIiIiLTGoJiIiIiLSEoNqIiIiIiItMagmIiIiItISg2oiIiIiIi0xqCYiIiIi0hKDaiIiIiIiLTGoJiIiIiLSEoNqIiIiIiItMagmIiIiItISg2oiIiIiIi0xqCYiIiIi0hKDaiIiIiIiLTGoJiIiIiLSEoNqLS1yMsPkEcbSZCIiIiJ6gjCo1tLf3Uwx1qanNJmIiIiIniAMqrWwc05fdDHohOqaGmnWX8K6detw8eJFLF26VJrV5jw9PZGeno7du3dLsx46mUyGAwcO4Ny5c/Dz85NmNyg6Ohrp6enw9PSUZhEREdETgEF1Kz3dpwvGPP0UOum0fUAtk8mwcuVKnDhxAtnZ2VAoFFAoFMjJycGOHTukxamN9erVC7q6utJkIiIiokYxqG6lla5m0FUH1G0YV8tkMvz73//Gm2++CSMjI5w7dw5RUVHIyMjArVu30KlT279ln376KU6cOAF3d3dp1hMpNzcX06ZNw8iRI7F582ZpNhEREVE9bR+hPQF8xppglFWX/568Gh3UVOhIi7TanDlzMGbMGFy8eBFeXl7w8PDAP/7xD7i7u2P8+PF48803pZtorV+/fjA2NmbvLBEREVErMahuhYVTTKELHehU//f/NZVtF1RbWVmhS5cuSEtLQ3Z2tjSbiIiIiB5DDKpb6GNnM/TQ1UGncgBlQE1lDWoqpaVa7+7du6isrMTgwYMhk8mk2fXY2dkhNDQUaWlpyMnJQU5ODtLS0rBjxw5YW1tLi4ssXboUFy9exPjx4yGTyRASEgKFQoHo6GhROV1dXWzatAkZGRlQKBTIzMzEzp0769Uvk8kQHBwMuVyOnJwcZGdn4/jx45g/f76onKasra3xyy+/IDs7Gzt27BDOR3PtTJo0CcnJyUhJScGLL74oqRXYtGkTsrOzsWbNGmmWYPfu3Q1OPHzttdcQFRUljHVPTU3FJ598Ah2dhr9YLV++HElJScJ7k5SUhOXLl4vKqMfQnz59Wqg3IyMDGzZsEI7ZysoKP//8M86fP6/x5EkiIiJ6eHRNTEw+kiZSw2xMO+Nj1z7QrQJ0KgGdKh3odAJMOhnCtlcXTBrcHSN6d0N2QSlKK6ukm2vk9u3beO655zBq1Ci4urriwYMHuHDhgrQYUBs8BgUFYdSoUbh27RpOnTqFS5cuoWfPnnj66acxbtw4JCcn4+7du9JNAQDdunVDRUUFOnfuDJlMht9++w1paWlIS0tDQkICpkyZguHDh8PCwgKDBg3CiRMnkJWVhT59+mDo0KHo0aMHoqKigDpjwV1cXPDnn3/i5MmTuH79OoYMGYKJEyeiqqoKZ8+ele6CYPjw4Zg8eTJu3bqFH3/8EdbW1vi///s/jBo1CgkJCXjnnXegVCo1amf//v1wcHDAsGHDcPfuXcTFxQnt2NraYv78+aisrMTXX3+Ny5cvi/ZD7ZVXXoG5uTmOHTsmnP/Zs2fjvffeg6mpKVJSUnDmzBmUlpbCyckJPXr0QFVVlah8cHAwZs2ahQcPHiA+Ph7Z2dno378/HB0dYWpqKuzXO++8g3nz5kGpVOL48ePIysqChYUFRo0ahV69euHo0aMwMTHBiy++CBMTE5w9exZJSUmi/SUiIqJHiz3VLbDMsTd0y4CaUp3/vpRA9V1gcPcSeI7sgtee7oqFIyylm7VIdnY2VqxYgdTUVAwaNAjr16/H4cOH6/WYAoCvry/Mzc0RGRmJqVOnYsmSJfDz88PUqVORkJAAa2trvPHGG9LNBDExMVi2bBlu3bqFyspKREdHw9/fH0FBQUIZfX19GBgYYNmyZfDz84Ofnx+++OILlJSUYPTo0bC1tQUAvP3223j22WeRlJSE6dOnY8mSJViwYAHWr1+PioqKBnuMGyOTyfDhhx9izJgxSExMxN///ncolUqgBe0cO3YMpaWlsLe3F/X4T5gwAWZmZkhPTxcF282xsrLCnDlz0LlzZ+zYsQOzZs2Cv78/Zs2ahW3btqGqSvwlaubMmZgyZQoUCgW8vb2FcxcYGIiCggJMnjxZOHdlZWX46aefMHXqVKHcl19+ifLycmH/c3Nz8dJLL2HEiBGcPElERPQYYlCtoddtjDChV1fUlEL8Kq5BTSFQU1iD6kJ9rEm4iXsl5dLNW0Qul+OVV17B8uXLoVAoMGLECKxfvx5btmwRAkRnZ2cMGzYMN2/exJ49e0TbK5VKHDx4ECUlJRg7dqworzVOnTolCkDj4+ORn58PPT09YX8mTJiAiooKREdHCwEwABw4cAC3b9+GqakpHB0dhfTG6OjoICgoCA4ODkhKSkJgYKCoPk3biYyMRF5eHvr27QtnZ2fR9uoe5ZYYO3Ys+vXrh0uXLmHr1q2ivB07diAvL0+Uph5So+6hVouLi4NCoYCJiQkGDx4MAPjqq68QEBAgOp7MzEwUFRVBJpMJwTcRERE9vhhUa6hXV10k31DhTJ4KZ/8srR9clwKX82XYe/6KdNNW27dvH1xdXbFq1Srk5+fDzc0NGzduBAAYGRmhS5cuuHXrFuRyuXRT5OXl4cGDB+jevTvGjRsnzdZYRUUFbt68KUrLzc1FeXk5unXrBnNzc6B2KImhoSE++ugjYV1thUKB9PR0DB48WFS2KTY2NnBxccH58+fx0Ucf1Wtb03aUSiWSk5Px1FNPYcKECUDtcJmhQ4ciLy8PkZGRonqb07dvX+jr6yM3N1cU/KL2S0x1de2s1Vo9evSArq4ufH19RfupUCjg6OgIAwMDDBw4UCg/c+ZM7Ny5E7GxsUhNTcW3336r0fkiIiKixwODag19Ib+HuVHXMOfXa5j9yxVUl0D0qlR1xz9PNDz2WVu7d+/G+++/j9u3b2PMmDEtGkrRFqQBY2OKi4vxyy+/IDIyst7r0KFDjY5frqu4uBilpaWwsLDAM888I80GWtBObGws7t27hzFjxsDKygrjx49H9+7dkZycXC8w1lRZWZk0qVFlZWWIjY2tt4+RkZE4ePAgMjIyIJPJsHPnTnzyyScYM2YMKisrcebMGURHR+PevXvSKomIiOgxxaC6ler2UFeX6uLQlXKcv1coLdZm4uLicPXqVejr66Nz5864f/8+SktL0bt3b9jZ2UmLw9LSEk899RQKCgpw5swZaXabKysrg66uLpKTk+Hv71/vtWLFigZ71KWuX7+OnTt34qmnnsLSpUvh4uIiym9JO3FxcUhPT4e5uTmef/55ODo6oqioCLGxsaI6NaFSqVBVVQUrKytpFqysrGBgYCBKU6lU0NPTQ25ubr199Pf3x7JlyxATEwM3NzfY2dnh0qVL8PT0hKurK3x9ffHDDz+goqJCVCcRERE9vhhUt1LdoLq0whifpp+XFmmVDz74AOvXr6/3p/9Jkyahf//+KCkpwb179xAbGwuFQgFzc3PMnj1bVFYmk2H69Ono2rWrRoEsaick9uvXT5qssdTUVHTp0gWurq6iiYGtERwcjJ9++glmZmZYvXo1Jk2aJOS1tJ2zZ89CV1cXrq6uGDBgQIsnKKqlpaWhsLAQ1tbW9c73G2+8AUtL8QRVuVyOyspKODk51Vt6sC4LCwsYGBigoKBANPZavaIIERERdQwMqlupulQH1aU6qKwwxKrUPBRXaDc5UU0mk8HLywtHjx7FL7/8gi+//BIHDhzAF198AVNTUxw/flwICrdu3Yr8/Hx4enriyJEj2LhxIzZv3owjR47A0dERp0+fxvr166VN1JOXlwd9fX14enpi48aNCA0NlRZp1nfffYesrCw4ODjgyJEj2Lx5M0JCQrB9+3YkJCRg7dq10k2aFBgYiIMHD8LMzAxr164VAuuWtvPrr78iLy8PY8aMQU1NTYsnKKolJibixIkTMDQ0xPLlyxEaGoqQkBAcOnQI06ZNQ2Gh+K8U3333Hc6ePYshQ4YgPDwcW7duRUhICLZu3Ypjx47h22+/BWqD9fv372Ps2LEIDw9HSEgI9u/fDy8vL5SUlAj1cZ1qIiKixxuD6laqKfnvS1Eiw8+3225y4t69e3H48GGoVCpYW1vDzc0NNjY2uHXrFkJCQhAQECCUjYuLwz//+U8kJSXB0tIS7u7ueOmll6Cnp4fw8HAsXLhQo7HD27dvh1wuR9++fTFt2jQYGRlJizRLvRRgfHw8unfvjpdffhkeHh5wcHDA7du3cfLkSekmzVq1ahUSEhLQu3dvrFmzBpMmTWpxO7m5uUhMTISenh7y8/Nx6tQpUX5L/Otf/0JoaCiUSiWcnJzg7u4OY2NjbN26td74Z6VSKXwx6NSpE6ZOnQpPT084OTmhvLxc+GIUFxeHbdu24e7duxg3bhw8PDxgZmaGb775RqP3joiIiB4POlZWVjXSRGreHyNs0Km3MTySzkOhui/NpsfImjVrMHPmTISHh+ODDz6QZhMRERFpjT3VrVSlq4f/XCthQP2Ys7KygqOjozAOnYiIiKg9MKhupV/LK7Ex95w0mR4z//M//wNLS8tWT1AkIiIi0gSHf9BfUmhoKKqrqzFu3DioVCosX76cQTURERG1G/ZU019Snz59MHnyZKhUKnz++ecMqImIiKhdsaeaiIiIiEhL7KkmIiIiItISg2oiIiIiIi0xqCYiIiIi0hKDaiIiIiIiLTGoJiIiIiLSEoNqIiIiIiItMagmIiIiItISg2oiIiIiIi0xqCYiIiIi0hKDaiIiIiIiLTGoJiIiIiLSEoNqIiIiIiItMagmIiIiItISg2oiIiIiIi0xqCYiIiIi0pKOlZVVjTSRHm8ymQxGRkbo3LkzdHR0pNlELVZTU4OysjLcv38fSqVSmk1ED5k2z3nez0SPBoPqDqZHjx7o3r27NJmozRQVFeHu3bvSZCJ6SNryOc/7mejh4fCPDkQmk7XZg5aoMd27d4dMJpMmE9FD0NbPed7PRA8Pg+oOxMjISJpE1C54rRE9Gu1x77VHnURUH4PqDqRz587SJKJ2wWuNAMDR0REJCQmIjo6WZrWL3bt3Iz09HZ6entKsJ0Z73HutrXPBggXIyMjA4cOHYWVlJc0mIgkG1R1ISyerELUWrzWiR6M97r3W1tmaSZJETzIG1UQtYGdnh7179yIoKEia9dgKCAjA4cOH4eLiIs2idjJ58mT8+uuvCA0NlWbRE8jW1hY//PADDh48KM16LLz77rs4deoU/Pz8ROmbN2/GyJEjMW3aNOTm5oryiKg+BtX0RAsKCmpRwLl48WIYGhriyJEj0qzHVmxsLFQqFXx9fWFnZyfNpnZgbGwMS0tLGBgYSLPoCSSTyWBpaYkuXbpIsx4Lffr0gampKXR1daVZRNQCDKqJNBQUFARLS0tEREQgJiZGmv3Yksvl2L59OwwNDbF48WJpNhEREbUBBtVamDFjBg4cOIC0tDQcOHAAM2bMkBahvwgXFxfY2NggLS0NYWFh0uzHXkxMDOLj4zFgwAAEBARIsx8b69atw8WLF7Fy5UocPHgQ2dnZSEhIgKOjIwDAwcEBERERyMzMhEKhQGZmJiIiIuDg4CDUUXdynYeHB6KiopCdnY2cnBzI5XIEBwfXW2JMJpMhODgYcrkcOTk5yM7OxvHjxzF//nxROXNzc3z++edISUlBTk4OcnJykJKSgpUrVwploqOjERISAplMhvHjx0OhUODixYtYunQpAGD+/PmIj49Hdna2cAyaXlPLly9HUlKS0HZSUhKWL18uKiOTybBy5UqcPn1aaCMjIwMbNmyod9wAsHDhQtH+ZGdn48cff4Stra2o3GuvvYbY2FjhXCYmJtY7P43R9Pw2RpPjVl87y5Ytw86dO5GZmSns5+zZs2FtbS2kKxQKyOVy0fumpum+qidVvvHGG9i1a5dQb0ZGBj799FPhXO/evRt79uyBubk5rK2toVAooFAosG7dOlF9j4KnpyfS09Px2muvQV9fH4sXL4ZCoRDuOXX+7t27hW0e9nlW3/Pnzp0Trs/ffvsNkydPFpUjehzompiYfCRNpObNmDEDq1atgomJCQDAxMQEkyZNwu3bt5GZmSkt3ibUbUm5uLhg06ZNsLS0hKenJ9577z14e3vj1VdfRUFBARQKBVDb0+rr6wsA+Oyzz+Dr6wtvb2+MGjWqxT2v6jbt7e0xevRorFmzBt7e3vD29kavXr2QkJAglLWzs8OmTZuwaNEieHt7Y/bs2dDT08Mff/whqqu5/VcLCgoSyjS2/wEBAaJ9qluXuj1fX1/06dMH+vr6mDhxYoNl1RYtWgRTU1P85z//qbc/ak212dZaes4AoKSkBPb29rC0tEROTg5u3rwpLSJSWFgoTWoxR0dHTJw4ERkZGdKsBk2ZMgXDhw/HgAEDkJWVBW9vb2zatAnXr1/HpEmTsH79egwcOBB//PEHkpOTUV5ejtGjR8PBwQGpqam4efMm+vXrB1dXV3Tq1AkTJ05EVVUVEhIScOXKFVhaWsLW1hZ9+vQRhvDIZDL8+9//houLC/7880+cPHkS169fx5AhQ4Ttz549CwBYuXIlXnnlFeTl5eHUqVO4du0aBg4ciGeeeQZ6enpISkpCnz59cO/ePfTt2xdXrlxBfHw8MjMzcfr0aUydOlUIro8dO4YLFy7AwMAAhoaG2LNnj+hcSAUHB2PWrFl48OCBEAT3798fjo6OMDU1RVxcHADgnXfewbx586BUKnH8+HFkZWXBwsICo0aNQq9evXD06FFRnW+++Sb09fWRmJgIuVyO27dvw8TEBImJiQAAV1dXyGQyTJw4ETdv3kRycjJKSkowaNAgPP3007h69SpycnKEOqVacn5feeUVmJubC+cGLThu9bXTp08fGBsb49SpU1CpVMJ+Pvvssxg6dCji4+Nx5coVDBgwAKNHjxa139J9tbCwwIgRI9CtWzecOnUKV69eRb9+/TBq1Cjo6enh1KlTMDMzQ1FREXr37o2ioiLExMTgwoULSE5Oxvnz54XzpNbYcx4AfHx8sGbNGnTu3Bl+fn7w8/ODt7c3XnrppWbv6Ybu565du0JXVxeVlZXo1asXTp8+jbNnzyIjIwMJCQkwNzfH5MmTcevWLfz444/AQz7PdnZ2CAkJwcCBA3HmzBmkpKSguLgY5ubmOHv2rHCNED0u2FPdSnPnzpUmAU2kPwxubm7o2bMnnJ2dERAQ0OA4WlNTUyxatAjx8fFwdnZGVFQU7O3tW917aW9vDycnJ6xbtw7Ozs5ISUmBi4sLfHx8gNrg7+OPP4ZSqYSzszOcnZ2RlpaGWbNmCWXU3Nzc0L9/fwQEBDS6/6GhobCxsRHa27VrF2xtbUUTB318fDBkyBChPXVdfn5+cHFxQUxMDKZNmybsr0qlEupzdnbGtGnTREG6nZ0d+vfvj/z8/HrBu1pzbbYXTd5zNblcjqtXr8LY2BijR4+WZrcLMzMzLF26FP/85z+lWY3S19fH7du3ERAQIAoSfH190bNnT2zfvh0zZ86Ev78/vLy88NNPP8HCwgIeHh6ieiwtLXHmzBlMnToVS5YswaJFi7B8+XIUFhbib3/7G1588UUAwNtvv41nn30WSUlJmD59OpYsWYIFCxZg/fr1qKioEMoBwP3797F7926hzgULFuCHH36Anp4enn32WaD2S190dDQqKytx69Yt+Pv7Y9myZYiJiYGjoyN0dXURHh4OPz8/LFmyBK6urnjvvfeENhoyc+ZMTJkyBQqFAt7e3kJAFRgYiIKCAkyePFnoWS4rK8NPP/2EqVOnCuW+/PJLlJeXw97eXuhBXbhwIV588UXk5+dj8eLFmDdvHvz9/TFv3jy4ubkJQTVqA724uDh4eXnB398f3t7e+OOPP2BiYoLx48cL5RrSkvMr1ZLjRu21U11djbfeegtLliyBl5cXkpKS0Lt3bwwZMgQbNmyAn58fFixYgAMHDsDAwAD29vbC9i3d165du6K4uFhob8GCBQgPDwcATJw4EQCwbds2/Oc//0FJSQnu378Pf39/+Pv7Y//+/aK6NGVgYIC5c+fizp07cHZ2xrp161o9tEsul2PFihXIzs5GdXU1fv/9d/j7+2PNmjVNTkx8WOf5+eefR+/evZGSkgJvb2/4+/tj1qxZmD17tuj6JHpcMKhupUGDBkmTgCbSH4aCggJ88cUXQJ0AytDQEKampqJyUVFRCA4OBmonsRUUFGDEiBGiMpoqKCjAhx9+KASb586dA2qDdwCYOnUqAOD7778XtvnPf/6DwsJCvPDCC0Iaautat24d5HI55HI5zpw5IwoAfXx8YGlpifj4eKG9sLAwpKWlwcbGRghew8LCsHDhQqFedV2GhoatCiZHjx4NY2PjBnuV1Nq6TU1p+p6rSd+f9nbo0CEcP34c8+bNa9EXtwsXLkCpVAr/d3Z2xrBhw3Djxo16wUhCQgLKysowePBgUfq9e/fw008/idKio6Mhl8shk8kwfPhwAMCECRNQUVGB6OhoUZsHDhzA7du3YWpqKgw/Wbt2LVatWiWUAYD09HSUlpZqdE4LCwuhq6sLe3t7mJubC+lpaWmiclLjx4+HTCYTemrV4uLioFAoYGJiIhz/V199hYCAANGxZGZmoqioCDKZTAhCJ06cCB0dHezatUvo7W3MnTt3cODAAeH/SqUScrkcNTU1za6B3JLzK9WS41b7/fffRWXPnz+PqqoqXLp0SfTXgLS0NJSWloreh5bua0VFhTAkRk0ul+PBgwfo2rVrg8Nt2sKVK1cQGBgI1A7tys/Ph0wma/DLdHt5GOf57t27qKyshJWVlahzIjs7u8leeaJHhUF1KzX053U0kf4wXL16FXK5XJosolKpkJqaKvxfLpdDqVS2+oGs/nBVCwsLg6urK4KDgxvt4W2sTen+FxQUAHUCwJEjR6K8vFy0/wBw69YtGBgYwNLSUpReV0FBASorK6XJGlG3r94fTWnTpqak56w5eXl5KC8vR+/evaVZLbJ7924oaseGNveaMWMGDA0NMWfOHLz66qvSquqpqKio94FpZGSELl26YMCAAYiNjRXV/9lnn8HQ0BBmZmaibQoLC3H69GlRGgDcvXsX+vr6Qvlu3brB0NAQH330kaje9PR0DB48GN26dRMCAplMhvnz52Pfvn2Ii4tDeno61q9fr3HwFBkZicuXL8PBwQGxsbHYtWsXXF1dpcXq6dGjB3R1deHr61vv/Do6OsLAwAADBw4Uys+cORM7d+5EbGwsUlNT8e2334qCGtT+FeHBgwfIysoSpTekuLi43nVWUlKC6upq9O3bV5Qu1ZLzK9XS466oqMCNGzdEdaj3s7S0VJReWVlZ70tBS/e1vLwcCskz/969eygtLRV9gWlrTX3Bfxge1nmOjIzE6dOnYWZmhq+++grR0dFYuHChxvcb0cPGoLqVdu3aJU0Cmkh/EpmamsLQ0FAIhOq+BgwYIC3erJ49e8LQ0BDvvfeeqC43NzdpUYSGhorKzJ07F3p6etJibepRtPmozJkzB4MGDdLoFRERgQcPHuC7777DDz/8IK2qQdXV1dIkAMDly5cRGRnZ4KvuWGHU1lG3F6yu6upqlJWVCf8vLi7GL7/8Uq/OyMhIHDp0CJcvX4a1tTX27duH5cuXw9raGiqVCidPnkR0dDRKSkpE9TcmLi4O06dPx4YNG3Dz5k04ODhgy5YtGq17XlZWhtjY2Hr7FxkZiYMHDyIjIwMymQw7d+7EJ598gjFjxqCyshJnzpxBdHQ07t27J60SVVVVovPQmKbOpSY0Ob+N0eS425I2+0qa0+Q8K5VK+Pr64p133oFcLkffvn0RGBiIffv2wdraWlol0SPHoLqVIiIisHr1aqGXQqFQYPXq1YiIiJAWfWIVFBRApVLhypUrwljjuq/XX3+9Xu9XU+7cuVNv/LP65erqKqygEBoaCktLS+zatUvI37VrV7v2Gj+KNjsCT09PODk5ISwsDJ9//rk0W2NlZWWoqKiAjo4OtmzZIoxLrfuSBqbdunVrcFjBkCFDUF5eLvS0lZWVQVdXF8nJyfXq9Pf3x4oVKyCXy/Hyyy9jyJAhSEpKwsSJE/Hiiy8K8xNqamqkzTRKqVRiy5YtcHZ2xooVK3Dv3j24urrCy8tLWlSgUqmgp6eH3NzcevvnX2fMtpubG+zs7HDp0iV4enrC1dUVvr6++OGHH1BRUSGqs6ysDEZGRhg5cqQova1pen4boulxtxVt9pU019LzHB0djddeew1z5syBXC6HjY2NMOme6HHCoFoLERER8PDwgK2tLTw8PDpkQO3i4gIzM7MGhxEEBAQgNjYWe/fubdXQkMaGeWhKOtxDk2Ee6uPJy8vTaJkyTeqUDkORammb6l9ljI2NbdE447ag/kGSW7duSbPaxc2bN/H5559rFVADQHx8PPLy8mBhYdFk8FmXqampMKZfzcfHBzY2NsjPz0dycjIAIDU1FV26dBFWuWiMqakp9PT0cOPGDVGv7QsvvICuXbuKyqr17NlT9H8bGxtRG/v27UN2djb09PTqla1LLpejsrISTk5OTfbQWVhYwMDAAAUFBaLxrk5OTujRo4eobFJSEvT09DB9+vQm69SWpue3IZoed1vRZl810a1bN4wbN06a/FjQ09Nr9BnX1jQ9z/3790f//v2F/8vlciQmJqKysrLJVVKIHhUG1U+4WbNmAUCDvxConryozWoRx48fh7GxcYtnpvv4+MDW1hYXLlwQeqJiY2NRWFiIGTNmNLqihrp33MzMTCgTEBDQ6FAMdcAsnTRZV2pqKgoLCxudzNnSNtXDYgBg3LhxrfrC0VrqXsmWjg9vrcTERGE1BG0olUqEh4ejpKQEb7/9Ng4dOoSQkBCEhIRg//79OHXqFDw9PUXblJaW4tVXX8X+/fsREhKCnTt34l//+hd0dXVx+PBh4Uvkd999h6ysLDg4OODIkSPYvHkzQkJCsH37diQkJGDt2rVA7WS/kpISuLm5ITQ0FCEhIYiKisL48eNRXl4uavvmzZsoLi7GwIEDsWPHDoSGhuLvf/87VqxYgbi4OGzdulXYJ3t7e9y8eRO//fabqI66vvvuO5w9exZDhgxBeHi4sP3WrVtx7NgxfPvtt0DtpLD79+9j7NixCA8PF86Pl5dXvSEqGzduRFJSEoYNGyaqc8+ePYiKimqwl781ND2/DdH0uNuKNvvalLS0NBQXFwur4ezYsQPvv/++tNgjc+vWLVRWVmLKlCnYuHEjdu7c2Wbvf0M0Pc8zZszAwYMH8f333yMkJASbN2/GzJkzUVFRISzb+tlnnyE7O7vNrwWi1mBQ/YSRjkmWyWSi1TvqUk+GKSwsrDc5UFNhYWEIDg6GmZmZaLxxQ7209vb2ovHIMTExwgx31PZSvP7668jPz683rjo0NFQos337dgAQyowbNw4//vhjg0MxwsLCEBMTIxr3Lf3Zcnntqhp1g+a6Wtqmep3ah009cVTTHvXHzZ49e7B27VpcunQJw4cPh6enJ9zd3WFlZQW5XF5vbO2ff/6Jb775BgMGDICHhwfGjx+P/Px8BAcHC6vfoHYlgRUrViA+Ph7du3fHyy+/DA8PDzg4OOD27ds4efIkUDs5Mzw8HOXl5XBycoK7uztqamrwzTff1HufExMTsXfvXpSWlmLy5MkYO3YsysrKcOnSJejq6mLq1Knw9PTE2LFjIZfL8f7774t6lqWUSiUCAwNx8OBBdOrUSdjeyckJ5eXlwuodcXFx2LZtG+7evYtx48bBw8MDZmZm+Oabb+qNia5bp46ODqZOnQoPDw+MGjUK169frzdZtLU0Pb8N0fS424o2+9oUpVKJ7du3o6CgAM8995yw8srj4uuvvxY6QKZNmwZLS8t610tb0vQ8X758GUVFRRg7diw8PT3h5uaG4uJiBAUFdchnGP316VhZWWk+GJAeKSsrK2lSiwQFBcHGxgabN29uMIh+VFxcXODn54cLFy6IgujHiXof8/PzMW/ePGl2i/n4+GDWrFnIy8trk/o0ERAQABcXF3z//fcafSA1tU7t48zR0REhISEoLi7WaGUNoseJts/5xnTU+5moI2FPNZEG1L3LbfEz33Z2dnBzc0N5eblo/e725OLiAicnpw7bS01ERPS4Y1DdgbRkhQFqe4GBgbhy5Qpc6vxiZEsFBQUJQw8aG3bT1uzs7ODr6wuVSiX8UExzeK0RPRrtce+1R51EVB+D6g5Ek/VkqX198cUXKCwsbPUyZIGBga1aTlAbzs7OMDQ0xPbt2zVuk9ca0aPRHvdee9RJRPVxTHUHIpPJ0KtXL2kyUZu7fft2u05Uak8cU00dWXs85zvy/UzUkTCo7mB69OiB7t27S5OJ2kxRURHu3r0rTSaih6Qtn/O8n4keHgbVHZBMJoORkRE6d+78WC3LRB1XTU0NysrKcP/+ffZoET0GtHnO834mejQYVBMRERERaYkTFYmIiIiItMSgmoiIiIhISwyqiYiIiIi0xKCaiIiIiEhLDKqJiIiIiLTEoJqIiIiISEsMqomIiIiItMSgmoiIiIhIS/zxlw5Im1/aor8O/moa0V+TNs94PheIHh0G1R1Mjx490L17d2kyPeGKiopw9+5daTIRdTBt+Yznc4Ho4eLwjw5EJpO12cOW/lq6d+8OmUwmTSaiDqStn/F8LhA9XAyqOxAjIyNpEpGA1wdRx9Ye93B71ElEDWNQ3YF07txZmkQk4PXRcXh6eiI9PR27d++WZj1Wdu/ejfT0dHh6ekqztLZu3TpcvHgRS5culWY9sdrjHm5tnf/+979x8eJFrFu3TppFRI1gUN2BtHTCCj1ZeH0QdWztcQ+3ts7WBuNETzIG1fRQ+Pj4IDo6GocPH4aLi4s0G6GhoYiNjRVeAQEB0iKt5uLigsOHD7dpne0tNDQUoaGh0mRqR++++y5OnToFPz8/aVarffrppzhx4gTc3d2lWUSPhcau0TfffBPDhg3De++9J0onosYxqCathIaGYu/evbCzs5Nmtci8efPg7OyMXbt2obKyUprdanZ2dvD19YVKpUJsbKw0+7F1/PhxWFpaIigoSJpF7aRPnz4wNTWFrq6uNKvV+vXrB2Nj4zatk6gt8RolajsMqumhCAsLg6urK6ZNm4aYmBhpdrtZvHgxDA0NsX37dsjlcmn2YyssLAwxMTGwt7fvUD3sRERETyoG1VqYMWMGDhw4gLS0NBw4cAAzZsyQFqFHyMfHB5aWloiPj3+ogXxbCQ4OxpUrV+Dk5NTgkJnHhXoy25IlS/Dbb78hJycH0dHRQr6HhweioqKQnZ0NhUKBjIwM7NixA9bW1kKZuhP35s+fj+PHjyM7Oxs5OTlISkrC8uXLhbJqDg4OiIiIQGZmJhQKBTIzMxEREQEHBwdRuRdeeAERERE4d+4cFAoFsrOzERsbCw8PD6BO26+99hr09fWxePFiKBQKJCQkwNHREQAwf/58xMfHC8eQmZmJsLAwUTt1LV26FBcvXsT48eMhk8kQEhIChUIhOi9qCxcuRGJiInJycurtW13Lly9HUlIScnJymjwvdS1YsADnz5/H/v37ReleXl5IS0vD8ePHYWtrK6S/+uqryMjIqFe+W7du2LVrl3CuMzIysGHDhnrLtclkMqxcuRKnT58WztWFCxcQFRXV4DE1RJPrpTHm5ub4/PPPkZKSIpynlJQUrFy5UlSuqWu2qbzm6reyssLRo0dx/vx5LFiwQNQmACxbtgxZWVnYsWOHNOuha+4abWgiqfrczJs3DwcPHhTu0aNHj8LFxQUODg6i9KSkJMyfP79Oq/+l6b3b0vuO6FFjUN1KM2bMwKpVqzBo0CAAwKBBg7Bq1apHEljXHTMcFBQkjEuWjl8OCgrC3r174eXlhcOHDwvlWjrEQD0+OjY2FgMGDICpqSmCg4OF+uoOB6lbVprXWnWPsan9f+GFF1BYWNjksA/pWO72HMfs4+ODw4cPw8fHR9RuU+fk+PHjMDAwwNSpU6VZ7cbLywuTJk2SJjdJT08Pr732Gk6dOgVbW1u4uroCAGbPno2PPvoI/fr1w4kTJxAZGYlr165h0qRJCA4OrheU9ejRA4sWLUJhYSEOHTqE+Ph4yGQyvPHGG6Ie+0mTJuHzzz/H008/jdTUVERGRuLcuXOwtbXFZ599JjqfK1aswIgRI5CWlobIyEikpqaif//+CAwMhKOjIy5fvoxDhw5BLpejqqoKCQkJiIyMRFRUFG7evImFCxfC398fhoaGiIqKwqFDh3D16lX06tVLaEMqIyMDBw8eRE5ODsrKynDkyBFERkbi6NGjonL9+vXDwoULkZWVhQMHDkChUGDgwIHw8/MTBZHBwcGYN28eqqqq8PPPP+Pnn39Gp06dMG/ePKxevVpUZ13Jycm4c+cOLCwshC8IADBq1CgYGhqiR48eeOaZZ4T0p59+Gvr6+khJSRHSOnXqhLfeegv9+vVDdHQ0YmJiUFNTg5deeglLliwRyslkMnz11Vd48803oa+vj6NHjyIyMhJZWVkYMmQIPvroI8yePVso35CWXi9SS5YswfTp01FQUIDDhw/j6NGj0NfXx+zZs/Huu++KyjZ2zTaV11z9ubm5SExMhIGBAcaMGVOntf+aOHEiysvLcezYMWlWs9rq+a2m6TUq1alTJ/j4+MDAwACHDh1CVlYWrKysEBgYiNWrV8PExAQ///wzTp48CWNjY/zjH//AtGnThO01vXdbc98RPWoMqltp7ty50iSgifSHwc3NDT179oSzszMCAgKgUqng6+srCjBMTU2xaNEixMfHw9nZGVFRUS0eYqAeyuHs7IwrV66goKAAAQEBcHZ2hrOzM15//XVhqIW0rLZCQ0NhY2ODdevWCWOwbW1t632wuLi4wMzMDFevXm102EdQUBDOnz8v7PeuXbtgaWnZroG1gYEB5s6dizt37sDZ2Rnr1q2DoaEhFi9eLC0KAEhNTUVhYSH69+/faODd1uzs7PDxxx+3KLDu3LkzMjMz8cEHHwg/jWxlZYU5c+ZAR0cHn376KebNmwd/f394eXnh9OnTsLa2xpw5c0T1DB48GHv37oW7uzv8/f0xb948BAcHo6qqCu7u7kKvqq+vL3r27Int27dj5syZQr0//fQTLCwsRL2i165dw/LlyzFr1iz4+/vD29sbaWlpMDU1xfjx4yGXy7FixQpkZ2ejuroav//+O/z9/bFmzRrk5ubC0dERurq6CA8Ph5+fH5YsWQJXV9cmJ3DFxMRg2bJluHXrFiorKxEdHQ1/f/9612mvXr2we/dueHt7w9/fH++88w6uXLkCc3Nz/O1vfwMAzJw5E1OmTIFCoYC3tzf8/Pzg5+eHwMBAFBQUYPLkyaLe5rrkcjmuXLkCY2NjURk7OzsUFRWhU6dOGDlypJA+cuRIKJVK/PHHH0Ja165dUVxcjLfeegtLlizBggULEB4eDgB47rnnhHJvv/02HBwccPHiRcycOROLFi2Cv78/3N3dsW3bNnTu3BkzZ85sNDBuzfUidf/+fezevRtTp04V9vWHH36Anp4enn32WVHZhq7Z5vI0qT82NhZ3797F8OHDRfesu7s7+vXrh9zcXERGRgrpLWFqaoq33noLERERrX5+q2l6jUp17doVt27dgpeXF/z9/fH3v/9d+OLUrVs3fPjhh1iyZAm8vb1x8uRJGBkZYezYscL2mt67rbnviB41BtWtpO6hlmos/WEoKCjAF198AdR+mF69ehWGhoYwNTUVlYuKikJwcDBQ+wFQUFCAESNGiMo8jhoazhEWFoa0tDTY2NiIeuVHjx4NAwMDnDt3rk4NYoGBgcJ5QG1deXl5MDMza9fhFleuXEFgYCBQ+8GWn58PmUzWYNDc1PvYXsLCwlBcXIxPPvlE48C6oqIC58+fF6U9//zz6NevH7Kzs7Fnzx4hXalUIiUlBbq6urCyshJtc+PGjXpDD8LCwqBQKNCjRw8MGzYMzs7OGDZsWINlExISUFZWhsGDBwtpvr6+OHDggPB/pVKJ7Oxs6Ovrw8zMTEhvTGFhIXR1dWFvbw9zc3MhPS0tTVSuNa5fv46tW7cK/8/OzkZGRgZ0dXVhaGgIAMKf59V/BleLi4uDQqGAiYmJ6Hil0tLSoKenJwTPzs7O6NOnD1JSUlBYWIjhw4cDtUGMhYUF8vLyEB8fL2xfUVGB2NhYUdunT59GUVGRaNm1CRMmoLq6GocPHxaVBYCtW7fi6tWr6N+/P5ydnUV5aq25XqTWrl2LVatWidLS09NRWlpa7/5p6JpVayxPk/rj4uKQlZUFU1NT0XCGCRMmwNDQECdOnKgXxLdETEyMMAQiNTUVKpUKvXv3lhZrNxUVFTh9+rRwDLm5ucL7ffbsWcTFxQllz58/j6qqKvTp0weovfY0vXfb874jai8MqltJoVBIk4Am0h+Gpnpl1VQqFVJTU4X/y+VyKJXKRoO6x8nIkSNRXl4u2n8AuHXrFgwMDGBpaSmk9e7dG+Xl5cjLyxOVbc6dO3ekSW2uoQ/rpjR0fC3l6OiIhIQEKBSKZl/R0dEYPnw4+vTpg3/961/o37+/tLp6KioqcPXqVVFaz549oa+vD3t7+3pt/OMf/4C+vj769u0r2ubGjRvIzc0VpaG2h1Bd3sjICF26dMGAAQMQGxsrqvezzz6DoaGhKFi2trbGxx9/jEOHDiE5ORkZGRl49dVXRfU3JTIyEpcvX4aDgwNiY2Oxa9cu0VABbdy+fbtegKVSqaCvry8ESj169ICuri58fX3rnUdHR0cYGBhg4MCBojrq+v3331FUVIRhw4ZBJpPhueeeg4GBAU6cOIEbN26gT58+cHZ2hq2tLYyNjXH+/HnRPjX03qpUKlRUVKBbt27CsJJu3brhwYMHyMrKEpVFbWCcn5+Pzp07N7qvrblepGQyGebPn499+/YhLi4O6enpWL9+fYO94w0dl1pjeZrWf+rUKaA2kEZtL/yYMWNw584dnDhxQlS2JaTP70ehvLwcCsnnnEqlEv2rVl1dDQDCF8SW3Lvted8RtRcG1a20a9cuaRLQRDppr2fPnjA0NMR7770nGgft5uYmLaoR9Vj0unXZ29tLi/0lJCYmYvz48Rg0aFCzL1dXV2RmZuL69ev47LPPGgwupGpqahpdClE9lrmhlzTAqKmpEf2/rqqqKtGH9uXLl+vVp36px4XOnj0be/fuxaxZs2Bqaorr16/j6NGjSE5OrlNz0+Li4jB9+nRs2LABN2/ehIODA7Zs2dLsn8k10dTx1lVWVobY2Nh6xxkZGYmDBw8iIyNDuokgNjYWf/75J8zMzODk5IQRI0agqKgIf/zxB86dOweZTAZbW1sMGTIE1dXV9f6609R72x5acr3UZW1tjX379mH58uWwtraGSqXCyZMnER0djZKSEmnxJo+robyW1P/rr78iLy8PQ4cOxaRJk/D888/D3NwcmZmZSExMFJV9Emly77bnfUfUXhhUt1JERARWr14tfGNXKBRYvXo1IiIipEWpjdy5cwcqlUoYT1335erq2qJZ4S4uLvDz84NKpRKNB687QetJNX/+fBgZGeHDDz8U/Sm3pVQqFaqqqlBZWQl/f/8GX9u2bRNtY2ZmVq/Xz8rKCpaWligtLcW1a9dQVlaGiooK6OjoYMuWLfXqrDsu1M3NDTKZDF9//TXGjx+PV155BUuWLMH169dFbTRHqVRiy5YtcHZ2xooVK3Dv3j24urrCy8tLWrTNqVQq6OnpITc3t95x+vv7Y9myZc2ubiOXyyGTyTBhwgQMGjQIFy5cQFpaGpKSklBaWorhw4dj2LBhyM/PbzJwbUpxcTGeeuopDB06VJoFmUwGMzMzqFQqXLp0SZoNtPJ6qevll1/GkCFDkJSUhIkTJ+LFF18U5o9o+uWlKS2pXz1h0cjICM8++yycnJwAoFUTFP9KWnLv4hHfd0StwaBaCxEREfDw8ICtrS08PDw6ZEDd1IS+gIAAxDazOsWdO3ce2njflgyDaK7s6NGjYWhoiDNnztQ77oY094uQ7am1Q1la6+zZs/jggw+0CqhRZ+UJa2vrZld9ULO0tKxX9n//939haWmJa9euIT4+HvHx8cjLy4OFhUWzH649e/ZERUUFLl++LKRZW1s3uDIDald9kF7LNjY2okB/3759yM7Ohp6eHnr27Ckq2xB9fX3069dPmqwxuVyOyspKODk5abSsXEPS09NRVlaGsWPHomvXrsI1Hx8fj/z8fIwYMQIWFhbIzs5ucPiNJpKTk6Grq4tp06bV289Fixahf//+wnvYkNZcL3WZmppCT08PN27cEA1feeGFF9C1a1dR2dZoaf1nzpxBSUkJnn/+eQwfPlyrCYrtTdtrVFMtuXe1ve+IHgUG1U+4WbNmAQCOHDkizRImLxobG2P06NHSbKA2eDU0NHwoS77FxsaisLAQM2bMaDawTU1NRXl5uWhlg7oKCgpQWVkpmqAZGhra6PAP9QfqwzpWNTs7O/Tv3x8qlQoFBQXS7Haxf/9+rQNq1AaDBw8ehIGBAVauXInvv/8eISEh2LhxIw4dOoTY2FjRMm+o7cl69913sXPnToSEhGD//v3w8fGBSqXCvn37oFQqoVQqER4ejpKSErz99ts4dOgQQkJChPKnTp2Cp6cnACArKwtdu3bF0qVLsXnzZmzevBl79uxBly5dRO2i9lqurKzElClTsHHjRuzcuROOjo5YsWIF4uLisHXrVoSEhGDnzp2wt7fHzZs38dtvv0mrEcnLy4O+vj48PT2xcePGVq0s89133+Hs2bMYMmQIwsPDhf3YunUrjh07hm+//Va6ST1RUVH4888/YW1tjZKSEmF1D6VSiYsXL6J3794wNDREZmamdFONffnll0hKSsKwYcNE+3no0CEsWLAA9+7dw4YNG+qNIVdrzfVSV2ZmJkpKSuDm5obQ0FCEhIQgKioK48ePR3l5ubR4i7W0fvVyc0OHDoWJiYnWExTbS1tco5pqyb3b3H1nZWWFn3/+GefPn4efn5+0KaJHgkH1E0Y6Jlkmk+HDDz9s8M/H6gl1hYWFjU6OCQ4ORkpKCuzt7YU66/Zs111TWrqmtfrPfHXHNs+dOxd6enpwc3NDrGStbblcjtdffx35+fn1xlVLPwjUq2o0thSd+hcL1RNmYmNjcefOnUaHf8TWrpLysI0ePRrGxsYa96g/boKDg7Fp0ybk5+dj7Nix8PT0xEsvvYRevXohMTGx3kz+Cxcu4MCBA3jmmWfg6emJ0aNH49KlS/joo49EK0Ls2bMHa9euxaVLlzB8+HB4enrC3d0dVlZWkMvlwhjjLVu24OTJkzAxMcHLL78sDPE5efJknVb/6+uvv8bx48dhbGyMadOmwdLSEkqlEpcuXYKuri6mTp0KT09PjB07FnK5HO+//369VS6k1L/k2bdvX0ybNg1GRkbSIs1SKpUIDAzEwYMH0alTJ2E/nJycUF5ertEXIHXwjNqhanXH9Z47dw4VFRUoLCzE6dOn62zVMkqlEgsXLsS+ffsAQNjPQYMG4fTp0/jnP//Z7L629Hqpa/fu3QgPD0d5eTmcnJzg7u6OmpoafPPNN/XGR7dGa+qPi4tDdXU1iouLWzSO/2Fqi2u0JTS9d7W574geFR0rKyvtB5vRQ9HcclLNCQoKgo2NDTZv3txgEP1X4+Pjg1mzZiEtLU1Ywk4bQUFBsLe3Fy1J2N5CQ0Mhk8mwbt06jYLq1v7p/lHz9PTExx9/jNTU1GbXIibqKBYtWgQ/Pz8kJCQ0+MuCUto+4xvTUZ8LRB0Ne6rpL0u97rStrS18fHyk2S3i4+MDW1tbXLly5aEF1AEBARgwYECH7aUmetJNmjQJVVVVT/wERaInBYPqDkQ6w5ya98UXX2g8DrshdnZ22Lt3L+bOnYu0tDTMmzdPWqRd+Pj4wMXFBSkpKRoH8bw+iB4f7u7uGDp0aIsmKLbHPdwedRJRwxhUdyBlZWXSJGqGXC7H9u3bgdrxyS2lHsft7OzcJkNINPXCCy8gLy+vRW3y+iB69DZu3Iht27bhgw8+QKdOnRAeHq7xBMX2uIfbo04iahjHVHcgMpkMvXr1kiYTAY38Ol9HwTHV9Fexc+dOPP/88ygqKkJYWBg2bdokLdKo9njGd+TnAlFHw6C6g+nRowe6d+8uTaYnXFFREe7evStNJqIOpi2f8XwuED1cDKo7IJlMBiMjI3Tu3Bk6OjrSbHpC1NTUoKysDPfv32dPFNFfiDbPeD4XiB4dBtVERERERFriREUiIiIiIi0xqCYiIiIi0hKDaiIiIiIiLTGoJiIiIiLSEoNqIiIiIiItMagmIiIiItISg2oiIiIiIi0xqCYiIiIi0hKDaiIiIiIiLTGoJiIiIiLSEoNqIiIiIiItMagmIiIiItISg2oiIiIiIi0xqCYiIiIi0hKDaiIiIiIiLTGoJiIiIiLSEoNqIiIiIiItMagmIiIiItISg2oiIiIiIi0xqCYiIiIi0hKDaiIiIiIiLTGoJiIiIiLSEoNqIiIiIiItMagmIiIiItISg2oiIiIiIi0xqCYiIiIi0hKDaiIiIiIiLTGoJiIiIiLSEoNqIiIiIiItMagmIiIiItISg2oiIiIiIi0xqCYiIiIi0hKDaiIiIiIiLTGoJiIiIiLSEoNqIiIiIiItMagmIiIiItISg2oiIiIiIi3pWFlZ1UgTn1RWVlbSJCIiIiKiZjGoJiIiIiLSEod/EBERERFpiUE1EREREZGWGFQTEREREWmJQTURERERkZYYVBMRERERaYlBNRERERGRlhhUExERERFpiUE1EREREZGW/h8QuQLqIYE/jAAAAABJRU5ErkJggg==)"
      ],
      "metadata": {
        "id": "OLzRUBSQJcyI"
      }
    }
  ]
}