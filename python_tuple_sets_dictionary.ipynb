{
  "nbformat": 4,
  "nbformat_minor": 0,
  "metadata": {
    "colab": {
      "provenance": [],
      "authorship_tag": "ABX9TyN2OSf2f/DeBMeeNJ/MP3AV",
      "include_colab_link": true
    },
    "kernelspec": {
      "name": "python3",
      "display_name": "Python 3"
    },
    "language_info": {
      "name": "python"
    }
  },
  "cells": [
    {
      "cell_type": "markdown",
      "metadata": {
        "id": "view-in-github",
        "colab_type": "text"
      },
      "source": [
        "<a href=\"https://colab.research.google.com/github/UKD1211/DataScience_Slogbook_ISI_placement_prep/blob/main/python_tuple_sets_dictionary.ipynb\" target=\"_parent\"><img src=\"https://colab.research.google.com/assets/colab-badge.svg\" alt=\"Open In Colab\"/></a>"
      ]
    },
    {
      "cell_type": "markdown",
      "source": [
        "# Tuples\n",
        "\n",
        "A tuple in Python is similar to a list. The difference between the two is that we cannot change the elements of a tuple once it is assigned whereas we can change the elements of a list.\n",
        "\n",
        "In short, a tuple is an immutable list. A tuple can not be changed in any way once it is created.\n",
        "\n",
        "Characterstics\n",
        "\n",
        "- Ordered\n",
        "- Unchangeble\n",
        "- Allows duplicate"
      ],
      "metadata": {
        "id": "Tke2InUa7zpL"
      }
    },
    {
      "cell_type": "markdown",
      "source": [
        "### Plan of attack\n",
        "\n",
        "- Creating a Tuple\n",
        "- Accessing items\n",
        "- Editing items\n",
        "- Adding items\n",
        "- Deleting items\n",
        "- Operations on Tuples\n",
        "- Tuple Functions"
      ],
      "metadata": {
        "id": "A7Yfw5Gb8uXC"
      }
    },
    {
      "cell_type": "code",
      "source": [
        "# Creating tuple\n",
        "\n",
        "t1=()\n",
        "\n",
        "#single item\n",
        "t2 = (2,)\n",
        "print(t2)    #this is only diff from List\n",
        "type(t2)\n",
        "\n",
        "#homo\n",
        "t3 = (2,3,4,5)\n",
        "t3\n",
        "\n",
        "#hetro\n",
        "t4 = (2,True)\n",
        "t4\n",
        "\n",
        "#2D\n",
        "t5 = (1,2,4,(2,3))\n",
        "t5\n",
        "\n",
        "#using type conversion\n",
        "t6 = tuple('hello')\n",
        "t6"
      ],
      "metadata": {
        "colab": {
          "base_uri": "https://localhost:8080/"
        },
        "id": "oP3tVlDi8QQI",
        "outputId": "d4b9cbae-a72e-42e1-f3fa-2ad1ccad5d1a"
      },
      "execution_count": 8,
      "outputs": [
        {
          "output_type": "stream",
          "name": "stdout",
          "text": [
            "(2,)\n"
          ]
        },
        {
          "output_type": "execute_result",
          "data": {
            "text/plain": [
              "('h', 'e', 'l', 'l', 'o')"
            ]
          },
          "metadata": {},
          "execution_count": 8
        }
      ]
    },
    {
      "cell_type": "code",
      "source": [],
      "metadata": {
        "id": "K7FXqat-9Mti"
      },
      "execution_count": null,
      "outputs": []
    },
    {
      "cell_type": "markdown",
      "source": [
        "### Accessing Items\n",
        "\n",
        "- Indexing\n",
        "- Slicing"
      ],
      "metadata": {
        "id": "cUCkogiZAuAj"
      }
    },
    {
      "cell_type": "code",
      "source": [
        "t6"
      ],
      "metadata": {
        "colab": {
          "base_uri": "https://localhost:8080/"
        },
        "id": "Lb7FuSxuAu1g",
        "outputId": "15e1a8df-6bdc-483b-9260-8ce585e9c84a"
      },
      "execution_count": 9,
      "outputs": [
        {
          "output_type": "execute_result",
          "data": {
            "text/plain": [
              "('h', 'e', 'l', 'l', 'o')"
            ]
          },
          "metadata": {},
          "execution_count": 9
        }
      ]
    },
    {
      "cell_type": "code",
      "source": [
        "t6[0]"
      ],
      "metadata": {
        "colab": {
          "base_uri": "https://localhost:8080/",
          "height": 35
        },
        "id": "dlYFR-7UAySF",
        "outputId": "47078771-b871-45ea-85fd-d80531543d93"
      },
      "execution_count": 10,
      "outputs": [
        {
          "output_type": "execute_result",
          "data": {
            "text/plain": [
              "'h'"
            ],
            "application/vnd.google.colaboratory.intrinsic+json": {
              "type": "string"
            }
          },
          "metadata": {},
          "execution_count": 10
        }
      ]
    },
    {
      "cell_type": "code",
      "source": [
        "t6[-1]"
      ],
      "metadata": {
        "colab": {
          "base_uri": "https://localhost:8080/",
          "height": 35
        },
        "id": "-NWb1UKlBYXe",
        "outputId": "99bed260-c991-4950-8ecf-81aa8ec6808d"
      },
      "execution_count": 11,
      "outputs": [
        {
          "output_type": "execute_result",
          "data": {
            "text/plain": [
              "'o'"
            ],
            "application/vnd.google.colaboratory.intrinsic+json": {
              "type": "string"
            }
          },
          "metadata": {},
          "execution_count": 11
        }
      ]
    },
    {
      "cell_type": "code",
      "source": [
        "print(t6[0:2])"
      ],
      "metadata": {
        "colab": {
          "base_uri": "https://localhost:8080/"
        },
        "id": "B6Igjej6BblT",
        "outputId": "a771fa01-fed9-4e6e-8e12-a6eb6f82d962"
      },
      "execution_count": 12,
      "outputs": [
        {
          "output_type": "stream",
          "name": "stdout",
          "text": [
            "('h', 'e')\n"
          ]
        }
      ]
    },
    {
      "cell_type": "code",
      "source": [
        "print(t6[::-1])"
      ],
      "metadata": {
        "colab": {
          "base_uri": "https://localhost:8080/"
        },
        "id": "16x_GKbIBmDa",
        "outputId": "6e6a53ff-9d4d-4566-999c-62c3e7b67a03"
      },
      "execution_count": 13,
      "outputs": [
        {
          "output_type": "stream",
          "name": "stdout",
          "text": [
            "('o', 'l', 'l', 'e', 'h')\n"
          ]
        }
      ]
    },
    {
      "cell_type": "code",
      "source": [
        "print(t6[-3:-1])"
      ],
      "metadata": {
        "colab": {
          "base_uri": "https://localhost:8080/"
        },
        "id": "8qXP9YWuBxId",
        "outputId": "30506190-8c76-45bb-e6ea-7a715fddbe72"
      },
      "execution_count": 14,
      "outputs": [
        {
          "output_type": "stream",
          "name": "stdout",
          "text": [
            "('l', 'l')\n"
          ]
        }
      ]
    },
    {
      "cell_type": "code",
      "source": [],
      "metadata": {
        "id": "Azfp9l9OB2y8"
      },
      "execution_count": null,
      "outputs": []
    }
  ]
}