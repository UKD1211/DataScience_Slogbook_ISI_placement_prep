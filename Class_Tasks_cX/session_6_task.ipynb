{
  "nbformat": 4,
  "nbformat_minor": 0,
  "metadata": {
    "colab": {
      "provenance": [],
      "include_colab_link": true
    },
    "kernelspec": {
      "name": "python3",
      "display_name": "Python 3"
    },
    "language_info": {
      "name": "python"
    }
  },
  "cells": [
    {
      "cell_type": "markdown",
      "metadata": {
        "id": "view-in-github",
        "colab_type": "text"
      },
      "source": [
        "<a href=\"https://colab.research.google.com/github/UKD1211/DataScience_Slogbook_ISI_placement_prep/blob/main/Class_Tasks_cX/session_6_task.ipynb\" target=\"_parent\"><img src=\"https://colab.research.google.com/assets/colab-badge.svg\" alt=\"Open In Colab\"/></a>"
      ]
    },
    {
      "cell_type": "markdown",
      "source": [
        "### **`Problem-1:`** Write a Python function that takes a list and returns a new list with unique elements of the first list.\n",
        "\n",
        "**Exercise 1:**\n",
        "\n",
        "Input:\n",
        "\n",
        "```bash\n",
        "[1,2,3,3,3,3,4,5]\n",
        "```\n",
        "\n",
        "Output:\n",
        "\n",
        "```bash\n",
        "[1, 2, 3, 4, 5]\n",
        "```"
      ],
      "metadata": {
        "id": "h6dDSW5XGZFi"
      }
    },
    {
      "cell_type": "code",
      "source": [
        "def list_new(L):\n",
        "  a = set(L)\n",
        "  b = list(a)\n",
        "  return b"
      ],
      "metadata": {
        "id": "R5pq1C9LGe1y"
      },
      "execution_count": null,
      "outputs": []
    },
    {
      "cell_type": "code",
      "source": [
        "list_new([1,2,3,3,3,3,4,5])"
      ],
      "metadata": {
        "id": "AAts2m5zGwiQ",
        "outputId": "5c7095d6-fcc4-4b9e-c44a-bb407d8ccfca",
        "colab": {
          "base_uri": "https://localhost:8080/"
        }
      },
      "execution_count": null,
      "outputs": [
        {
          "output_type": "execute_result",
          "data": {
            "text/plain": [
              "[1, 2, 3, 4, 5]"
            ]
          },
          "metadata": {},
          "execution_count": 4
        }
      ]
    },
    {
      "cell_type": "markdown",
      "source": [
        "### **`Problem-2:`** Write a Python function that accepts a hyphen-separated sequence of words as parameter and returns the words in a hyphen-separated sequence after sorting them alphabetically.\n",
        "\n",
        "**Example 1:**\n",
        "\n",
        "Input:\n",
        "```bash\n",
        "green-red-yellow-black-white\n",
        "```\n",
        "\n",
        "Output:\n",
        "```bash\n",
        "black-green-red-white-yellow\n",
        "```"
      ],
      "metadata": {
        "id": "UxQ_VoyJGwHj"
      }
    },
    {
      "cell_type": "code",
      "source": [
        "def seq(string):\n",
        "  a = string.split('-')\n",
        "  b = sorted(a)\n",
        "  return '-'.join(b)\n",
        "\n",
        "seq('green-red-yellow-black-white')"
      ],
      "metadata": {
        "id": "BHxDRhOUQ2Ml",
        "outputId": "69b8c3f1-1041-4d05-f372-9b782845929c",
        "colab": {
          "base_uri": "https://localhost:8080/",
          "height": 35
        }
      },
      "execution_count": null,
      "outputs": [
        {
          "output_type": "execute_result",
          "data": {
            "text/plain": [
              "'black-green-red-white-yellow'"
            ],
            "application/vnd.google.colaboratory.intrinsic+json": {
              "type": "string"
            }
          },
          "metadata": {},
          "execution_count": 9
        }
      ]
    },
    {
      "cell_type": "markdown",
      "source": [
        "### **`Problem 3:`** Write a Python function that accepts a string and calculate the number of upper case letters and lower case letters.\n",
        "\n",
        "```\n",
        "Sample String : 'CampusX is an Online Mentorship Program fOr EnginEering studentS.'\n",
        "Expected Output :\n",
        "No. of Upper case characters :  9\n",
        "No. of Lower case Characters :  47\n",
        "```"
      ],
      "metadata": {
        "id": "IRGH62S7Gx_n"
      }
    },
    {
      "cell_type": "code",
      "source": [
        "def count_up_low(string):\n",
        "  count_up = 0\n",
        "  count_low = 0                 #not Correct code here\n",
        "  for i in string:\n",
        "    if i.upper() == i:\n",
        "      count_up += 1\n",
        "    else:\n",
        "      count_low += 1\n",
        "  return f'No of Upper cases: {count_up}' , f'No of Lower Cases: {count_low}'\n",
        "\n",
        "\n",
        "count_up_low('CampusX is an Online Mentorship Program fOr EnginEering studentS.')"
      ],
      "metadata": {
        "id": "qx1-_BgeWYhs",
        "outputId": "006221d3-631c-4152-bbe9-b8f60574bf6b",
        "colab": {
          "base_uri": "https://localhost:8080/"
        }
      },
      "execution_count": null,
      "outputs": [
        {
          "output_type": "execute_result",
          "data": {
            "text/plain": [
              "('No of Upper cases: 18', 'No of Lower Cases: 47')"
            ]
          },
          "metadata": {},
          "execution_count": 14
        }
      ]
    },
    {
      "cell_type": "code",
      "source": [
        "# string  = \"CampusX is an Online Mentorship Program fOr EnginEering studentS.\"\n",
        "\n",
        "def count_upper_lower(string):\n",
        "  L = []\n",
        "  for i in string:\n",
        "    if i == \" \" or i == \".\":\n",
        "      continue\n",
        "    else:\n",
        "      L.append(i)\n",
        "\n",
        "  count_up = 0\n",
        "  count_low = 0\n",
        "  for j in L:\n",
        "    if j.upper() == j:                   #this might be the worst approach here\n",
        "      count_up += 1\n",
        "    else:\n",
        "      count_low += 1\n",
        "\n",
        "  return f'No of Upper cases: {count_up}' , f'No of Lower Cases: {count_low}'\n",
        "\n",
        "\n",
        "count_upper_lower('CampusX is an Online Mentorship Program fOr EnginEering studentS.')"
      ],
      "metadata": {
        "id": "qfRv1aQTWff5",
        "outputId": "ea703b0c-d6e6-4204-c2ed-349b865221d0",
        "colab": {
          "base_uri": "https://localhost:8080/"
        }
      },
      "execution_count": null,
      "outputs": [
        {
          "output_type": "execute_result",
          "data": {
            "text/plain": [
              "('No of Upper cases: 9', 'No of Lower Cases: 47')"
            ]
          },
          "metadata": {},
          "execution_count": 21
        }
      ]
    },
    {
      "cell_type": "code",
      "source": [
        "def count_up_low(string):\n",
        "    count_up = 0\n",
        "    count_low = 0\n",
        "    for i in string:\n",
        "        if i.isupper():\n",
        "            count_up += 1\n",
        "        elif i.islower():\n",
        "            count_low += 1\n",
        "    return f'No of Upper cases: {count_up}', f'No of Lower Cases: {count_low}'\n",
        "\n",
        "print(count_up_low('CampusX is an Online Mentorship Program fOr EnginEering studentS.'))"
      ],
      "metadata": {
        "id": "EG6EonkhZjCt",
        "outputId": "3acec4b9-4174-4c25-cbff-7dfb23472612",
        "colab": {
          "base_uri": "https://localhost:8080/"
        }
      },
      "execution_count": null,
      "outputs": [
        {
          "output_type": "stream",
          "name": "stdout",
          "text": [
            "('No of Upper cases: 9', 'No of Lower Cases: 47')\n"
          ]
        }
      ]
    },
    {
      "cell_type": "markdown",
      "source": [
        "### **`Problem 4:`** Write a Python program to print the even numbers from a given list.\n",
        "```\n",
        "Sample List : [1, 2, 3, 4, 5, 6, 7, 8, 9]\n",
        "Expected Result : [2, 4, 6, 8]\n",
        "```"
      ],
      "metadata": {
        "id": "V1BFFdYQG7Sn"
      }
    },
    {
      "cell_type": "code",
      "source": [
        "L = [1,2,3,4,5,6,7,8,9]\n",
        "a = list(filter(lambda x:x%2==0,L))\n",
        "a"
      ],
      "metadata": {
        "id": "VvAReLoDG_Z3",
        "colab": {
          "base_uri": "https://localhost:8080/"
        },
        "outputId": "ac56f0e7-2dd0-49c5-9cbc-4d06b0c1a157"
      },
      "execution_count": null,
      "outputs": [
        {
          "output_type": "execute_result",
          "data": {
            "text/plain": [
              "[2, 4, 6, 8]"
            ]
          },
          "metadata": {},
          "execution_count": 3
        }
      ]
    },
    {
      "cell_type": "markdown",
      "source": [
        "### **`Problem 5:`** Write a Python function to check whether a number is perfect or not.\n",
        "\n",
        "A Perfect number is a number that is half the sum of all of its positive divisors (including itself).\n",
        "\n",
        "Example :\n",
        "\n",
        "```\n",
        "The first perfect number is 6, because 1, 2, and 3 are its proper positive divisors, and 1 + 2 + 3 = 6.\n",
        "Equivalently, the number 6 is equal to half the sum of all its positive divisors: ( 1 + 2 + 3 + 6 ) / 2 = 6.\n",
        "\n",
        "The next perfect number is 28 = 1 + 2 + 4 + 7 + 14. This is followed by the perfect numbers 496 and 8128.\n",
        "```\n"
      ],
      "metadata": {
        "id": "qrK39Gn-HHb4"
      }
    },
    {
      "cell_type": "code",
      "source": [
        "# Write code here\n",
        "\n",
        "def perfect(num):\n",
        "  L =[]\n",
        "  for i in range(1,num):\n",
        "    if num%i == 0:\n",
        "      L.append(i)\n",
        "  sum = 0\n",
        "  for j in L:\n",
        "    sum = sum+j\n",
        "  count = num\n",
        "  for j in L:\n",
        "    count = count+j\n",
        "\n",
        "  if sum == num and count/2 == num:\n",
        "    return f'{num} is a perfect number'\n",
        "  else:\n",
        "    return f'{num} is not a perfect number'\n",
        "\n",
        "\n",
        "perfect(8128)"
      ],
      "metadata": {
        "id": "P-OI7H78HICs",
        "colab": {
          "base_uri": "https://localhost:8080/",
          "height": 35
        },
        "outputId": "732b6ce7-aa0c-4534-cf96-4d09f7921d17"
      },
      "execution_count": null,
      "outputs": [
        {
          "output_type": "execute_result",
          "data": {
            "text/plain": [
              "'8128 is a perfect number'"
            ],
            "application/vnd.google.colaboratory.intrinsic+json": {
              "type": "string"
            }
          },
          "metadata": {},
          "execution_count": 8
        }
      ]
    },
    {
      "cell_type": "code",
      "source": [
        "def perfect(num):\n",
        "  L =[]\n",
        "  for i in range(1,num):\n",
        "    if num%i == 0:\n",
        "      L.append(i)\n",
        "  if sum(L) == num:\n",
        "    return 'perfect no'\n",
        "  else:\n",
        "    return 'not a perfect no'\n",
        "\n",
        "perfect(90)"
      ],
      "metadata": {
        "colab": {
          "base_uri": "https://localhost:8080/",
          "height": 35
        },
        "id": "Re3sj85HpvEz",
        "outputId": "4bc53e73-96f8-4c7d-fe7d-09320d636e87"
      },
      "execution_count": null,
      "outputs": [
        {
          "output_type": "execute_result",
          "data": {
            "text/plain": [
              "'not a perfect no'"
            ],
            "application/vnd.google.colaboratory.intrinsic+json": {
              "type": "string"
            }
          },
          "metadata": {},
          "execution_count": 10
        }
      ]
    },
    {
      "cell_type": "markdown",
      "source": [
        "### **`Problem-6:`** Write a Python function to concatenate any no of dictionaries to create a new one.\n",
        "\n",
        "```\n",
        "Sample Dictionary :\n",
        "dic1={1:10, 2:20}\n",
        "dic2={3:30, 4:40}\n",
        "dic3={5:50,6:60}\n",
        "Expected Result : {1: 10, 2: 20, 3: 30, 4: 40, 5: 50, 6: 60}\n",
        "```"
      ],
      "metadata": {
        "id": "oZdpcG77HO-6"
      }
    },
    {
      "cell_type": "code",
      "source": [
        "def concat_dict(*dicts):  # Accept variable number of dictionaries\n",
        "    L = []\n",
        "    for i in dicts:       # i is each dictionary\n",
        "        for j in i:       # j is each key\n",
        "            L.append((j, i[j]))  # Append key-value tuple\n",
        "    d = dict(L)\n",
        "    return d\n",
        "\n",
        "# Example call\n",
        "print(concat_dict({1:10, 2:20}, {3:30, 4:40}, {5:50, 6:60}))\n"
      ],
      "metadata": {
        "colab": {
          "base_uri": "https://localhost:8080/"
        },
        "id": "IcvYqtNqpujY",
        "outputId": "bbb1c18b-99e8-4807-987c-93c0feb3adfa"
      },
      "execution_count": null,
      "outputs": [
        {
          "output_type": "stream",
          "name": "stdout",
          "text": [
            "{1: 10, 2: 20, 3: 30, 4: 40, 5: 50, 6: 60}\n"
          ]
        }
      ]
    },
    {
      "cell_type": "markdown",
      "source": [
        "`Problem-7` Write a python function that accepts a string as input and returns the word with most occurence.\n",
        "\n",
        "```\n",
        "Input:\n",
        "hello how are you i am fine thank you\n",
        "```\n",
        "\n",
        "```\n",
        "Output\n",
        "you -> 2\n",
        "```"
      ],
      "metadata": {
        "id": "jQ6SzbCkHRd0"
      }
    },
    {
      "cell_type": "code",
      "source": [
        "def count_str(string):\n",
        "  L = string.split()\n",
        "  count_L = []\n",
        "  for i in L:\n",
        "    count_L.append(L.count(i))\n",
        "\n",
        "  max_index = count_L.index(max(count_L))\n",
        "  return L[max_index], count_L[max_index]\n",
        "\n",
        "\n",
        "count_str('hello how are you i am fine thank you you you you')"
      ],
      "metadata": {
        "id": "Lh04JHLzIW7Z",
        "colab": {
          "base_uri": "https://localhost:8080/"
        },
        "outputId": "5847b68d-0cce-4df4-825d-d5e4daa18e29"
      },
      "execution_count": null,
      "outputs": [
        {
          "output_type": "execute_result",
          "data": {
            "text/plain": [
              "('you', 5)"
            ]
          },
          "metadata": {},
          "execution_count": 27
        }
      ]
    },
    {
      "cell_type": "markdown",
      "source": [
        "`Problem-8` Write a python function that receives a list of integers and prints out a histogram of bin size 10\n",
        "\n",
        "```\n",
        "Input:\n",
        "[13,42,15,37,22,39,41,50]\n",
        "```\n",
        "\n",
        "```\n",
        "Output:\n",
        "{11-20:2,21-30:1,31-40:2,41-50:3}\n",
        "```"
      ],
      "metadata": {
        "id": "1r8SpVntI-IW"
      }
    },
    {
      "cell_type": "code",
      "source": [
        "# Write code here\n",
        "def histogram(L):\n",
        "  s = {}\n",
        "  for i in L:\n",
        "    lower = (i // 10) * 10 + 1\n",
        "    upper = lower + 9\n",
        "    keys = f'{lower}-{upper}'             #pretty good approach\n",
        "    s[keys] = s.get(keys,0) + 1\n",
        "  return s\n",
        "\n",
        "\n",
        "\n",
        "histogram([13,42,15,37,22,39,41,50])"
      ],
      "metadata": {
        "id": "7W0J8rUjJovg",
        "colab": {
          "base_uri": "https://localhost:8080/"
        },
        "outputId": "b3cbea86-5bbf-431e-ec5e-b5523ecce13c"
      },
      "execution_count": 5,
      "outputs": [
        {
          "output_type": "execute_result",
          "data": {
            "text/plain": [
              "{'11-20': 2, '41-50': 2, '31-40': 2, '21-30': 1, '51-60': 1}"
            ]
          },
          "metadata": {},
          "execution_count": 5
        }
      ]
    },
    {
      "cell_type": "markdown",
      "source": [
        "`Problem-9` Write a python function that accepts a list of 2D co-ordinates and a query point, and then finds the the co-ordinate which is closest in terms of distance from the query point.\n",
        "\n",
        "```\n",
        "List of Coordinates\n",
        "[(1,1),(2,2),(3,3),(4,4)]\n",
        "Query Point\n",
        "(0,0)\n",
        "```\n",
        "\n",
        "```\n",
        "Output\n",
        "Nearest to (0,0) is (1,1)\n",
        "```"
      ],
      "metadata": {
        "id": "1P2-rbgXKE53"
      }
    },
    {
      "cell_type": "code",
      "source": [
        "def distance(L,q):\n",
        "  dis_L = []\n",
        "  a,b = q\n",
        "  for i in L:\n",
        "      dis_L.append(((i[0]-a)**2+(i[1]-b)**2)**0.5)\n",
        "  return min(dis_L)\n",
        "\n",
        "\n",
        "distance([(1,1),(2,2),(3,3),(4,4)],(0,0))"
      ],
      "metadata": {
        "id": "zjn7vSTIJ81G",
        "outputId": "21e8134a-896f-4c65-aa95-58eb34052f0f",
        "colab": {
          "base_uri": "https://localhost:8080/"
        }
      },
      "execution_count": null,
      "outputs": [
        {
          "output_type": "execute_result",
          "data": {
            "text/plain": [
              "1.4142135623730951"
            ]
          },
          "metadata": {},
          "execution_count": 10
        }
      ]
    },
    {
      "cell_type": "code",
      "source": [
        "def distance(L,q):\n",
        "  dis_L = []\n",
        "  a,b = q\n",
        "  for i in L:\n",
        "      dis_L.append(((i[0]-a)**2+(i[1]-b)**2)**0.5)\n",
        "  new_L = list(zip(L,dis_L))\n",
        "\n",
        "\n",
        "\n",
        "  # return new_L\n",
        "  # min(new_L,key = lambda x:x[1])   ##IMP\n",
        "\n",
        "\n",
        "  return min(new_L,key=lambda x:x[1])\n",
        "\n",
        "\n",
        "\n",
        "distance([(1,1),(2,2),(3,3),(4,4)],(0,0))"
      ],
      "metadata": {
        "id": "9u3LNl4ib7ZL",
        "outputId": "7874a08b-cff4-4e23-a8b0-e9db3ba8d73f",
        "colab": {
          "base_uri": "https://localhost:8080/"
        }
      },
      "execution_count": null,
      "outputs": [
        {
          "output_type": "execute_result",
          "data": {
            "text/plain": [
              "((1, 1), 1.4142135623730951)"
            ]
          },
          "metadata": {},
          "execution_count": 15
        }
      ]
    },
    {
      "cell_type": "markdown",
      "source": [
        "![image.png](data:image/png;base64,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)"
      ],
      "metadata": {
        "id": "Yn-wXEDBk6CL"
      }
    },
    {
      "cell_type": "markdown",
      "source": [
        "`Problem-10`:Write a python program that receives a list of strings and performs bag of word operation on those strings\n",
        "\n",
        "https://en.wikipedia.org/wiki/Bag-of-words_model"
      ],
      "metadata": {
        "id": "i-B6igmyK9hB"
      }
    },
    {
      "cell_type": "code",
      "source": [
        "def bow(L):\n",
        "  bow_L = []\n",
        "  for i in L:\n",
        "    in_L = i.split()\n",
        "    for j in in_L:\n",
        "      bow_L.append(j)\n",
        "  return bow_L\n",
        "\n",
        "bow([\n",
        "    \"I love ISI Kolkata\",\n",
        "    \"ISI is great\",\n",
        "    \"Love is powerful\"\n",
        "])"
      ],
      "metadata": {
        "id": "N2l1_AWULT-z",
        "colab": {
          "base_uri": "https://localhost:8080/"
        },
        "outputId": "36275f1c-6c22-48ee-a4ee-29c63613882b"
      },
      "execution_count": null,
      "outputs": [
        {
          "output_type": "execute_result",
          "data": {
            "text/plain": [
              "['I', 'love', 'ISI', 'Kolkata', 'ISI', 'is', 'great', 'Love', 'is', 'powerful']"
            ]
          },
          "metadata": {},
          "execution_count": 2
        }
      ]
    },
    {
      "cell_type": "code",
      "source": [
        "def bow(L):\n",
        "  bow_L = []\n",
        "  for i in L:\n",
        "    in_L = i.split()\n",
        "    for j in in_L:\n",
        "      bow_L.append(j)\n",
        "  lol_L=[]\n",
        "  for k in bow_L:\n",
        "    lol_L.append(bow_L.count(k))\n",
        "  b = list(zip(bow_L,lol_L))\n",
        "  c = set(b)\n",
        "  return dict(set(b))\n",
        "\n",
        "\n",
        "bow([\n",
        "    \"I love ISI Kolkata\",\n",
        "    \"ISI is great\",\n",
        "    \"Love is powerful\"\n",
        "])"
      ],
      "metadata": {
        "colab": {
          "base_uri": "https://localhost:8080/"
        },
        "id": "2ZNU2KJRe6el",
        "outputId": "9b28dec8-8c47-437a-866c-377c06d295c8"
      },
      "execution_count": null,
      "outputs": [
        {
          "output_type": "execute_result",
          "data": {
            "text/plain": [
              "{'powerful': 1,\n",
              " 'great': 1,\n",
              " 'Love': 1,\n",
              " 'ISI': 2,\n",
              " 'is': 2,\n",
              " 'I': 1,\n",
              " 'love': 1,\n",
              " 'Kolkata': 1}"
            ]
          },
          "metadata": {},
          "execution_count": 12
        }
      ]
    },
    {
      "cell_type": "code",
      "source": [
        "def bow(L):\n",
        "  bow_L = []\n",
        "  for i in L:\n",
        "    in_L = i.split()\n",
        "    for j in in_L:\n",
        "      bow_L.append(j.lower())\n",
        "  lol_L=[]\n",
        "  for k in bow_L:\n",
        "    lol_L.append(bow_L.count(k))\n",
        "  b = list(zip(bow_L,lol_L))\n",
        "  c = set(b)\n",
        "  return dict(set(b))\n",
        "\n",
        "\n",
        "bow([\n",
        "    \"I love ISI Kolkata\",\n",
        "    \"ISI is great\",\n",
        "    \"Love is powerful\"\n",
        "])"
      ],
      "metadata": {
        "colab": {
          "base_uri": "https://localhost:8080/"
        },
        "id": "12zLt5YEhSeV",
        "outputId": "0c6d53bb-5522-4a10-f03f-43bb5854cb9c"
      },
      "execution_count": null,
      "outputs": [
        {
          "output_type": "execute_result",
          "data": {
            "text/plain": [
              "{'i': 1, 'isi': 2, 'powerful': 1, 'great': 1, 'love': 2, 'is': 2, 'kolkata': 1}"
            ]
          },
          "metadata": {},
          "execution_count": 13
        }
      ]
    },
    {
      "cell_type": "code",
      "source": [
        "def bow(L):\n",
        "    bow_dict = {}\n",
        "    for sentence in L:\n",
        "        words = sentence.split()\n",
        "        for word in words:\n",
        "            word = word.lower()  # Optional: make case-insensitive\n",
        "            bow_dict[word] = bow_dict.get(word, 0) + 1\n",
        "    return bow_dict\n",
        "bow([\n",
        "    \"I love ISI Kolkata\",\n",
        "    \"ISI is great\",\n",
        "    \"Love is powerful\"\n",
        "])"
      ],
      "metadata": {
        "colab": {
          "base_uri": "https://localhost:8080/"
        },
        "id": "4bM1qizWhVrN",
        "outputId": "27c9eae1-741d-4524-8153-0cec41b652af"
      },
      "execution_count": null,
      "outputs": [
        {
          "output_type": "execute_result",
          "data": {
            "text/plain": [
              "{'i': 1, 'love': 2, 'isi': 2, 'kolkata': 1, 'is': 2, 'great': 1, 'powerful': 1}"
            ]
          },
          "metadata": {},
          "execution_count": 15
        }
      ]
    },
    {
      "cell_type": "markdown",
      "source": [
        "###`Problem 11:` Write a Python program to add three given lists using Python map and lambda."
      ],
      "metadata": {
        "id": "dHTRKb-DqMLw"
      }
    },
    {
      "cell_type": "code",
      "source": [
        "def additive(L1,L2,L3):\n",
        "  L = list(zip(L1,L2,L3))\n",
        "  new_L = []\n",
        "  for x,y,z in L:\n",
        "    new_L.append(x+y+z)\n",
        "  return new_L\n",
        "additive([1,2,4],[2,3,5],[2,3,5])"
      ],
      "metadata": {
        "id": "NfJdzyNZqNW-",
        "colab": {
          "base_uri": "https://localhost:8080/"
        },
        "outputId": "08796dd4-264c-41f4-f225-c7612f96d8ac"
      },
      "execution_count": null,
      "outputs": [
        {
          "output_type": "execute_result",
          "data": {
            "text/plain": [
              "[5, 8, 14]"
            ]
          },
          "metadata": {},
          "execution_count": 17
        }
      ]
    },
    {
      "cell_type": "code",
      "source": [
        "def additive(L1,L2,L3):\n",
        "  return list(map(lambda x: x[0]+x[1]+x[2],list(zip(L1,L2,L3))))\n",
        "additive([1,2,4],[2,3,5],[2,3,5])"
      ],
      "metadata": {
        "colab": {
          "base_uri": "https://localhost:8080/"
        },
        "id": "1T2WGS5Pnb3T",
        "outputId": "84110ea9-7d62-4baf-c05d-afa947747597"
      },
      "execution_count": null,
      "outputs": [
        {
          "output_type": "execute_result",
          "data": {
            "text/plain": [
              "[5, 8, 14]"
            ]
          },
          "metadata": {},
          "execution_count": 21
        }
      ]
    },
    {
      "cell_type": "markdown",
      "source": [
        "###`Problem-12:`Write a Python program to create a list containing the power of said number in bases raised to the corresponding number in the index using Python map.\n",
        "`Input:`\n",
        "```\n",
        "list1 = [1,2,3,4,5,6]\n",
        "```\n",
        "`Output:`\n",
        "```\n",
        "[1,2,9,64,625,-]\n",
        "```\n"
      ],
      "metadata": {
        "id": "MgHP7mbUqO8l"
      }
    },
    {
      "cell_type": "code",
      "source": [
        "# normal code\n",
        "\n",
        "def power_ukd(a):\n",
        "  L = []\n",
        "  for i in range(0,len(a)):\n",
        "    L.append(a[i]**a[i-1])\n",
        "  return L\n",
        "power_ukd([1,2,3,4,5,6])"
      ],
      "metadata": {
        "id": "gG3Dc6N3qbvN",
        "outputId": "225be130-ead2-4700-f182-498b5a50ae7a",
        "colab": {
          "base_uri": "https://localhost:8080/"
        }
      },
      "execution_count": null,
      "outputs": [
        {
          "output_type": "execute_result",
          "data": {
            "text/plain": [
              "[1, 2, 9, 64, 625, 7776]"
            ]
          },
          "metadata": {},
          "execution_count": 3
        }
      ]
    },
    {
      "cell_type": "code",
      "source": [
        "list1 = [1, 2, 3, 4, 5, 6]\n",
        "result = list(map(lambda x: x[1] ** x[0], enumerate(list1)))\n",
        "print(result)"
      ],
      "metadata": {
        "id": "UDA5an_tWWxp",
        "outputId": "4fda3ba8-2e15-4dca-d864-aa0c64d2128e",
        "colab": {
          "base_uri": "https://localhost:8080/"
        }
      },
      "execution_count": null,
      "outputs": [
        {
          "output_type": "stream",
          "name": "stdout",
          "text": [
            "[1, 2, 9, 64, 625, 7776]\n"
          ]
        }
      ]
    },
    {
      "cell_type": "markdown",
      "source": [
        "###`Problem-13` Using filter() and list() functions and .lower() method filter all the vowels in a given string.\n",
        "\n"
      ],
      "metadata": {
        "id": "G26SYq6vqdLN"
      }
    },
    {
      "cell_type": "markdown",
      "source": [
        "![image.png](data:image/png;base64,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)"
      ],
      "metadata": {
        "id": "myrZPgGnWzwy"
      }
    },
    {
      "cell_type": "code",
      "source": [
        "def vowels(string):\n",
        "  L = string.split()\n",
        "  new_L =[]\n",
        "  for i in L:\n",
        "    for j in i:\n",
        "      new_L.append(j)\n",
        "  b = list(filter(lambda x: x.lower() in 'aeiou',new_L))\n",
        "  return ''.join(b)\n",
        "\n",
        "vowels(\"Hello World, this is ISI MTech QROR!\")"
      ],
      "metadata": {
        "id": "zurga3DIqmEx",
        "outputId": "08d9cfc1-0202-4699-d19a-f6e0cfe84fa8",
        "colab": {
          "base_uri": "https://localhost:8080/",
          "height": 35
        }
      },
      "execution_count": null,
      "outputs": [
        {
          "output_type": "execute_result",
          "data": {
            "text/plain": [
              "'eooiiIIeO'"
            ],
            "application/vnd.google.colaboratory.intrinsic+json": {
              "type": "string"
            }
          },
          "metadata": {},
          "execution_count": 11
        }
      ]
    },
    {
      "cell_type": "markdown",
      "source": [
        "`Problem-14`: Use reduce to convert a 2D list to 1D"
      ],
      "metadata": {
        "id": "uQrsunZSqoYu"
      }
    },
    {
      "cell_type": "code",
      "source": [
        "def change(L):\n",
        "  new_L = []\n",
        "  for i in L:\n",
        "    if type(i) == list:\n",
        "      for j in i:\n",
        "        new_L.append(j)\n",
        "    else:\n",
        "      new_L.append(i)\n",
        "  return new_L\n",
        "\n",
        "\n",
        "change([1,2,3,[2,4],[2,3,4,5]])\n",
        "# type([1,2,3])"
      ],
      "metadata": {
        "id": "E1YUwnfgqnka",
        "colab": {
          "base_uri": "https://localhost:8080/"
        },
        "outputId": "a304897e-e6b3-444d-d2f4-4a1c05cf052d"
      },
      "execution_count": null,
      "outputs": [
        {
          "output_type": "execute_result",
          "data": {
            "text/plain": [
              "[1, 2, 3, 2, 4, 2, 3, 4, 5]"
            ]
          },
          "metadata": {},
          "execution_count": 11
        }
      ]
    },
    {
      "cell_type": "markdown",
      "source": [
        "`Problem 15`- A dictionary contains following information about 5 employees:\n",
        "- First name\n",
        "- Last name\n",
        "- Age\n",
        "- Grade(Skilled,Semi-skilled,Highly skilled)<br>\n",
        "Write a program using map/filter/reduce to a list of employees(first name + last name) who are highly skilled"
      ],
      "metadata": {
        "id": "8-DLQEawt-_t"
      }
    },
    {
      "cell_type": "code",
      "source": [
        "# Write code here\n",
        "employees = [\n",
        "    {\n",
        "        'fname':'Nitish',\n",
        "        'lname':'Singh',\n",
        "        'age' : 33,\n",
        "        'grade':'skilled'\n",
        "    },\n",
        "    {\n",
        "        'fname':'Ankit',\n",
        "        'lname':'Verma',\n",
        "        'age' : 34,\n",
        "        'grade':'semi-skilled'\n",
        "    },\n",
        "    {\n",
        "        'fname':'Neha',\n",
        "        'lname':'Singh',\n",
        "        'age' : 35,\n",
        "        'grade':'highly-skilled'\n",
        "    },\n",
        "    {\n",
        "        'fname':'Anurag',\n",
        "        'lname':'Kumar',\n",
        "        'age' : 30,\n",
        "        'grade':'skilled'\n",
        "    },\n",
        "    {\n",
        "        'fname':'Abhinav',\n",
        "        'lname':'Sharma',\n",
        "        'age' : 37,\n",
        "        'grade':'highly-skilled'\n",
        "    }\n",
        "\n",
        "]"
      ],
      "metadata": {
        "id": "OLvptttLs6OU"
      },
      "execution_count": null,
      "outputs": []
    },
    {
      "cell_type": "code",
      "source": [
        "# by normal code here\n",
        "\n",
        "L =[]\n",
        "for i in employees:\n",
        "  if i['grade'] == 'highly-skilled':\n",
        "\n",
        "    L.append(i['fname']+' '+i['lname'])\n",
        "\n",
        "print(L)"
      ],
      "metadata": {
        "id": "vLX0FAQkui3y",
        "colab": {
          "base_uri": "https://localhost:8080/"
        },
        "outputId": "6112d1d2-0e5b-44b8-e891-188a21d44238"
      },
      "execution_count": null,
      "outputs": [
        {
          "output_type": "stream",
          "name": "stdout",
          "text": [
            "['Neha Singh', 'Abhinav Sharma']\n"
          ]
        }
      ]
    },
    {
      "cell_type": "code",
      "source": [
        "list(map(lambda x:x['fname']+' '+x['lname'] if x['grade'] =='highly-skilled' else \"\",employees))"
      ],
      "metadata": {
        "id": "ldMjGfkgAMr9",
        "colab": {
          "base_uri": "https://localhost:8080/"
        },
        "outputId": "8b49b640-c6b0-442d-a6af-18b57f859bc8"
      },
      "execution_count": null,
      "outputs": [
        {
          "output_type": "execute_result",
          "data": {
            "text/plain": [
              "['', '', 'Neha Singh', '', 'Abhinav Sharma']"
            ]
          },
          "metadata": {},
          "execution_count": 34
        }
      ]
    },
    {
      "cell_type": "code",
      "source": [
        "list(map(lambda x: x['fname'] + ' ' + x['lname'], filter(lambda x: x['grade'] == 'highly-skilled', employees)))\n"
      ],
      "metadata": {
        "colab": {
          "base_uri": "https://localhost:8080/"
        },
        "id": "b6UZ4MaLMrXS",
        "outputId": "504ef2c1-d4ef-4c96-beb0-3a6d7adaed2d"
      },
      "execution_count": null,
      "outputs": [
        {
          "output_type": "execute_result",
          "data": {
            "text/plain": [
              "['Neha Singh', 'Abhinav Sharma']"
            ]
          },
          "metadata": {},
          "execution_count": 35
        }
      ]
    },
    {
      "cell_type": "code",
      "source": [
        "def fact(n):\n",
        "  multiply=1\n",
        "  for i in range(1,n+1):\n",
        "    multiply = multiply*i\n",
        "  return multiply\n",
        "\n",
        "fact(6)\n"
      ],
      "metadata": {
        "id": "z8spW6bzNH6O",
        "outputId": "b5799b59-0de9-499f-b57a-5a4cf5394a8e",
        "colab": {
          "base_uri": "https://localhost:8080/"
        }
      },
      "execution_count": null,
      "outputs": [
        {
          "output_type": "execute_result",
          "data": {
            "text/plain": [
              "720"
            ]
          },
          "metadata": {},
          "execution_count": 1
        }
      ]
    }
  ]
}