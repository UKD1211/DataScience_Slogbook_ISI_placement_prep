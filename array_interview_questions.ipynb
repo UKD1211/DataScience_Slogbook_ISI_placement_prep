{
  "nbformat": 4,
  "nbformat_minor": 0,
  "metadata": {
    "colab": {
      "provenance": [],
      "authorship_tag": "ABX9TyP3snHYQ7ufduO3Qh1V7Khp",
      "include_colab_link": true
    },
    "kernelspec": {
      "name": "python3",
      "display_name": "Python 3"
    },
    "language_info": {
      "name": "python"
    }
  },
  "cells": [
    {
      "cell_type": "markdown",
      "metadata": {
        "id": "view-in-github",
        "colab_type": "text"
      },
      "source": [
        "<a href=\"https://colab.research.google.com/github/UKD1211/DataScience_Slogbook_ISI_placement_prep/blob/main/array_interview_questions.ipynb\" target=\"_parent\"><img src=\"https://colab.research.google.com/assets/colab-badge.svg\" alt=\"Open In Colab\"/></a>"
      ]
    },
    {
      "cell_type": "code",
      "execution_count": null,
      "metadata": {
        "colab": {
          "base_uri": "https://localhost:8080/"
        },
        "id": "tPkIy57K2M-T",
        "outputId": "bfd4f45d-4cf9-40d8-cd65-9ba3bcd58e07"
      },
      "outputs": [
        {
          "output_type": "execute_result",
          "data": {
            "text/plain": [
              "6"
            ]
          },
          "metadata": {},
          "execution_count": 6
        }
      ],
      "source": [
        "# Find the Kth Largest/smallest item from a list\n",
        "def largest(l:list,k:int):\n",
        "    return sorted(l,reverse =True)[k-1]\n",
        "largest([14,2,5,6,7,1],3)"
      ]
    },
    {
      "cell_type": "code",
      "source": [
        "def largest(l:list,k:int):\n",
        "    return sorted(l)[-k]\n",
        "largest([14,2,5,6,7,1],3)"
      ],
      "metadata": {
        "id": "C5cZA2x94yA_",
        "colab": {
          "base_uri": "https://localhost:8080/"
        },
        "outputId": "bbd2c136-a1f6-4a35-a380-45c6562df771"
      },
      "execution_count": 3,
      "outputs": [
        {
          "output_type": "execute_result",
          "data": {
            "text/plain": [
              "6"
            ]
          },
          "metadata": {},
          "execution_count": 3
        }
      ]
    },
    {
      "cell_type": "code",
      "source": [
        "def smallest(l:list,k:int):\n",
        "  return sorted(l)[k-1]\n",
        "smallest([14,2,5,6,7,1],1)"
      ],
      "metadata": {
        "colab": {
          "base_uri": "https://localhost:8080/"
        },
        "id": "pW_uxk4teVVG",
        "outputId": "24edee54-d587-4f0a-9e3a-7d583e1088aa"
      },
      "execution_count": 5,
      "outputs": [
        {
          "output_type": "execute_result",
          "data": {
            "text/plain": [
              "1"
            ]
          },
          "metadata": {},
          "execution_count": 5
        }
      ]
    },
    {
      "cell_type": "code",
      "source": [
        "#Input the integers 12, 112, 100, 44, 1987, 1000 and print the maximum and the serial number of its occurrence.\n",
        "import numpy as np\n",
        "x = np.array([12,112,100,44,1987,1000])\n",
        "print(np.max(x))\n",
        "print(np.argmax(x)+1)"
      ],
      "metadata": {
        "colab": {
          "base_uri": "https://localhost:8080/"
        },
        "id": "nyNGjXTLehqM",
        "outputId": "f92a8801-3aa7-4283-abd8-bf23070e281b"
      },
      "execution_count": 10,
      "outputs": [
        {
          "output_type": "stream",
          "name": "stdout",
          "text": [
            "1987\n",
            "5\n"
          ]
        }
      ]
    },
    {
      "cell_type": "code",
      "source": [
        "def serial(l:list):\n",
        "  ind_l = []\n",
        "  for i in range(1,len(l)+1):\n",
        "    ind_l.append(i)\n",
        "  d = dict(zip(ind_l,l))\n",
        "  for i in d:\n",
        "    if d[i] == max(l):\n",
        "      return (i,d[i])\n",
        "serial([12,112,100,44,1987,1000])"
      ],
      "metadata": {
        "colab": {
          "base_uri": "https://localhost:8080/"
        },
        "id": "amPRdaFne8EE",
        "outputId": "f518e5c5-6760-4b1e-e291-97659e63aa87"
      },
      "execution_count": 14,
      "outputs": [
        {
          "output_type": "execute_result",
          "data": {
            "text/plain": [
              "(5, 1987)"
            ]
          },
          "metadata": {},
          "execution_count": 14
        }
      ]
    },
    {
      "cell_type": "code",
      "source": [],
      "metadata": {
        "id": "8hpB7d4ih4hz"
      },
      "execution_count": null,
      "outputs": []
    }
  ]
}