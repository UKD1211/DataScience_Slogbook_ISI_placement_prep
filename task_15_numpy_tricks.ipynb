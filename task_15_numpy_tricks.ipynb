{
  "nbformat": 4,
  "nbformat_minor": 0,
  "metadata": {
    "colab": {
      "provenance": [],
      "include_colab_link": true
    },
    "kernelspec": {
      "name": "python3",
      "display_name": "Python 3"
    },
    "language_info": {
      "name": "python"
    }
  },
  "cells": [
    {
      "cell_type": "markdown",
      "metadata": {
        "id": "view-in-github",
        "colab_type": "text"
      },
      "source": [
        "<a href=\"https://colab.research.google.com/github/UKD1211/DataScience_Slogbook_ISI_placement_prep/blob/main/task_15_numpy_tricks.ipynb\" target=\"_parent\"><img src=\"https://colab.research.google.com/assets/colab-badge.svg\" alt=\"Open In Colab\"/></a>"
      ]
    },
    {
      "cell_type": "markdown",
      "source": [
        "###`Q-1:` Create a random 3x4 matrix with value between 0-100. And perform below tasks\n",
        "\n",
        "    i. Sort this matrix. np.sort()\n",
        "    ii. Sort this matrix based on values in 2nd column.\n",
        "    iii. Sort this matrix based on max value in each row.\n",
        "    iv. Sort based on elements value.\n"
      ],
      "metadata": {
        "id": "J88qfqQEk_sT"
      }
    },
    {
      "cell_type": "code",
      "source": [
        "import numpy as np\n",
        "x = np.random.randint(1,100,12).reshape(4,3)\n",
        "x"
      ],
      "metadata": {
        "id": "_YJzz3jP5aAA",
        "outputId": "057edc3f-2bbf-4c75-dc06-adc0de60bba8",
        "colab": {
          "base_uri": "https://localhost:8080/"
        }
      },
      "execution_count": 2,
      "outputs": [
        {
          "output_type": "execute_result",
          "data": {
            "text/plain": [
              "array([[93, 89, 85],\n",
              "       [67, 52, 13],\n",
              "       [87, 31, 72],\n",
              "       [34, 49, 84]])"
            ]
          },
          "metadata": {},
          "execution_count": 2
        }
      ]
    },
    {
      "cell_type": "markdown",
      "source": [
        "See examples:\n",
        "```\n",
        "arr =\n",
        "    [[92 90 74]\n",
        "    [ 6 63 93]\n",
        "    [15 93 96]\n",
        "    [70 60 48]]\n",
        "```\n",
        "```\n",
        "i. np.sort\n",
        "[[74 90 92]\n",
        " [ 6 63 93]\n",
        " [15 93 96]\n",
        " [48 60 70]]\n",
        "\n",
        "ii. based on 2nd column\n",
        "[[70 60 48]\n",
        " [ 6 63 93]\n",
        " [92 90 74]\n",
        " [15 93 96]]\n",
        "\n",
        "iii. based on row max- ascending\n",
        "[[15 93 96]\n",
        " [ 6 63 93]\n",
        " [92 90 74]\n",
        " [70 60 48]]\n",
        "\n",
        "iv. based on elements value\n",
        "[[ 6 15 48]\n",
        " [60 63 70]\n",
        " [74 90 92]\n",
        " [93 93 96]]\n",
        "\n",
        "```"
      ],
      "metadata": {
        "id": "xpOwOdhqlE9R"
      }
    },
    {
      "cell_type": "code",
      "source": [
        "np.sort(x)"
      ],
      "metadata": {
        "id": "pKDlrFzB68Az",
        "outputId": "d072f62b-64f0-4e5c-cfdd-cf4c2d4da94f",
        "colab": {
          "base_uri": "https://localhost:8080/"
        }
      },
      "execution_count": 3,
      "outputs": [
        {
          "output_type": "execute_result",
          "data": {
            "text/plain": [
              "array([[85, 89, 93],\n",
              "       [13, 52, 67],\n",
              "       [31, 72, 87],\n",
              "       [34, 49, 84]])"
            ]
          },
          "metadata": {},
          "execution_count": 3
        }
      ]
    },
    {
      "cell_type": "code",
      "source": [
        "b = x.copy()\n",
        "b[:,1] = np.sort(b[:,1])\n",
        "b"
      ],
      "metadata": {
        "id": "TAamQXJJ7DN9",
        "outputId": "70b976ef-8e86-4865-ada2-92b1adb1bfe6",
        "colab": {
          "base_uri": "https://localhost:8080/"
        }
      },
      "execution_count": 4,
      "outputs": [
        {
          "output_type": "execute_result",
          "data": {
            "text/plain": [
              "array([[93, 31, 85],\n",
              "       [67, 49, 13],\n",
              "       [87, 52, 72],\n",
              "       [34, 89, 84]])"
            ]
          },
          "metadata": {},
          "execution_count": 4
        }
      ]
    },
    {
      "cell_type": "code",
      "source": [
        "b = x[x[:,1].argsort()]\n",
        "b"
      ],
      "metadata": {
        "id": "k8jIEXuC-B90",
        "outputId": "ff70bd91-913f-4ce0-9ecf-7f96c9c7c44d",
        "colab": {
          "base_uri": "https://localhost:8080/"
        }
      },
      "execution_count": 5,
      "outputs": [
        {
          "output_type": "execute_result",
          "data": {
            "text/plain": [
              "array([[87, 31, 72],\n",
              "       [34, 49, 84],\n",
              "       [67, 52, 13],\n",
              "       [93, 89, 85]])"
            ]
          },
          "metadata": {},
          "execution_count": 5
        }
      ]
    },
    {
      "cell_type": "code",
      "source": [
        "np.sort(x,axis=1)"
      ],
      "metadata": {
        "id": "K_zV1H6X-L88",
        "outputId": "016080b8-1f48-4176-f21e-6fea2ab68cc3",
        "colab": {
          "base_uri": "https://localhost:8080/"
        }
      },
      "execution_count": 6,
      "outputs": [
        {
          "output_type": "execute_result",
          "data": {
            "text/plain": [
              "array([[85, 89, 93],\n",
              "       [13, 52, 67],\n",
              "       [31, 72, 87],\n",
              "       [34, 49, 84]])"
            ]
          },
          "metadata": {},
          "execution_count": 6
        }
      ]
    },
    {
      "cell_type": "code",
      "source": [
        "y = np.max(x,axis=1)\n",
        "z = y.argsort()\n",
        "sort_arr = x[z]\n",
        "sort_arr"
      ],
      "metadata": {
        "id": "TWNj-GYO_X1_",
        "outputId": "40c3b2c6-5725-46cb-a967-2dca6342007a",
        "colab": {
          "base_uri": "https://localhost:8080/"
        }
      },
      "execution_count": 7,
      "outputs": [
        {
          "output_type": "execute_result",
          "data": {
            "text/plain": [
              "array([[67, 52, 13],\n",
              "       [34, 49, 84],\n",
              "       [87, 31, 72],\n",
              "       [93, 89, 85]])"
            ]
          },
          "metadata": {},
          "execution_count": 7
        }
      ]
    },
    {
      "cell_type": "markdown",
      "source": [
        "###`Q-2:` There is an array of marks of 5 students in 4 subjects. Further you are asked to perform below task.\n",
        "    i. Add marks every student of an extra subject in the same array.\n",
        "    ii. Add two new students marks in respective 5 subjects.(one subject added in above task)\n",
        "    iii. Add extra column with sum of all subjects(5-subjects) marks\n",
        "    iv. Sort the array(non-ascending order) on total marks column--one added in above task. Show top 2 rows.\n",
        "\n",
        "Note: Change dimension of arrays during concatenation or appending if required."
      ],
      "metadata": {
        "id": "Jx_I3gx9lBay"
      }
    },
    {
      "cell_type": "code",
      "source": [],
      "metadata": {
        "id": "_PBuBj9U_XHN"
      },
      "execution_count": 7,
      "outputs": []
    },
    {
      "cell_type": "markdown",
      "source": [
        "Given Array-\n",
        "```\n",
        "marks = [[13, 10,  9, 33],\n",
        "       [63, 46, 90, 42],\n",
        "       [39, 76, 13, 29],\n",
        "       [82,  9, 29, 78],\n",
        "       [67, 61, 59, 36]]\n",
        "\n",
        "extra_subject = [41, 87, 72, 36, 92]\n",
        "#Two extra students record-\n",
        "rec1 = [77, 83, 98, 95, 89]\n",
        "rec2 = [92, 71, 52, 61, 53]\n",
        "```"
      ],
      "metadata": {
        "id": "lXF-CE6ylNIw"
      }
    },
    {
      "cell_type": "code",
      "source": [
        "# code here"
      ],
      "metadata": {
        "id": "7YKsWO2olMkq"
      },
      "execution_count": 8,
      "outputs": []
    },
    {
      "cell_type": "markdown",
      "source": [
        "###`Q-3:` Find unique arrays from a 2D array column wise and row wise.\n",
        "```\n",
        "arr = np.array([[1,2,3,3,1,1],\n",
        "                [0,9,1,2,8,8],\n",
        "                [1,2,3,8,8,8],\n",
        "                [1,2,3,3,1,1]])\n",
        "```\n",
        "Expected Result-\n",
        "```\n",
        "Row Wise\n",
        "[[0 9 1 2 8 8]\n",
        " [1 2 3 3 1 1]\n",
        " [1 2 3 8 8 8]]\n",
        "\n",
        "Col Wise\n",
        "[[1 1 2 3 3]\n",
        " [0 8 9 1 2]\n",
        " [1 8 2 3 8]\n",
        " [1 1 2 3 3]]\n",
        "```"
      ],
      "metadata": {
        "id": "VmOyK_8klRqR"
      }
    },
    {
      "cell_type": "code",
      "source": [
        "arr = np.array([[1,2,3,3,1,1],\n",
        "                [0,9,1,2,8,8],\n",
        "                [1,2,3,8,8,8],\n",
        "                [1,2,3,3,1,1]])\n",
        "\n",
        "unique_rows = np.unique(arr, axis = 0)\n",
        "print(unique_rows)\n",
        "\n",
        "unique_cols = np.unique(arr, axis = 1)\n",
        "print(unique_cols)\n",
        "\n"
      ],
      "metadata": {
        "id": "LJl10VQrlU5q",
        "colab": {
          "base_uri": "https://localhost:8080/"
        },
        "outputId": "27d4663d-24e1-4e70-ff2d-0aab0c73d892"
      },
      "execution_count": 43,
      "outputs": [
        {
          "output_type": "stream",
          "name": "stdout",
          "text": [
            "[[0 9 1 2 8 8]\n",
            " [1 2 3 3 1 1]\n",
            " [1 2 3 8 8 8]]\n",
            "[[1 1 2 3 3]\n",
            " [0 8 9 1 2]\n",
            " [1 8 2 3 8]\n",
            " [1 1 2 3 3]]\n"
          ]
        }
      ]
    },
    {
      "cell_type": "markdown",
      "source": [
        "###`Q-4:` Flip given 2-D array along both axes at the same time."
      ],
      "metadata": {
        "id": "RaXwVkywlWY2"
      }
    },
    {
      "cell_type": "code",
      "source": [
        "b = np.array([[1, 2, 3],\n",
        "              [4, 5, 6]])\n",
        "\n",
        "print(np.flip(b))        # Flips both axes\n",
        "# [[6 5 4]\n",
        "#  [3 2 1]]\n",
        "\n",
        "print(np.flip(b, axis=0))  # Flip rows (up-down)\n",
        "# [[4 5 6]\n",
        "#  [1 2 3]]\n",
        "\n",
        "print(np.flip(b, axis=1))  # Flip columns (left-right)\n",
        "# [[3 2 1]\n",
        "#  [6 5 4]]\n"
      ],
      "metadata": {
        "id": "mN7-4G8Kleeq",
        "colab": {
          "base_uri": "https://localhost:8080/"
        },
        "outputId": "81c0b470-b696-4231-f240-0ffac3687ed6"
      },
      "execution_count": 34,
      "outputs": [
        {
          "output_type": "stream",
          "name": "stdout",
          "text": [
            "[[6 5 4]\n",
            " [3 2 1]]\n",
            "[[4 5 6]\n",
            " [1 2 3]]\n",
            "[[3 2 1]\n",
            " [6 5 4]]\n"
          ]
        }
      ]
    },
    {
      "cell_type": "markdown",
      "source": [
        "### `Q-5:` Get row numbers of NumPy array having element larger than X.\n",
        "```\n",
        "arr = [[1,2,3,4,5],\n",
        "      [10,-3,30,4,5],\n",
        "      [3,2,5,-4,5],\n",
        "      [9,7,3,6,5]]\n",
        "\n",
        "X = 6\n",
        "```"
      ],
      "metadata": {
        "id": "X0S7BUNTlfoq"
      }
    },
    {
      "cell_type": "code",
      "source": [
        "arr = np.array([[1,2,3,4,5],[10,-3,30,4,5],[3,2,5,-4,5],[9,7,3,6,5]])\n",
        "np.unique(np.where(arr>6)[0])"
      ],
      "metadata": {
        "id": "bi8jRmWhlkBU",
        "colab": {
          "base_uri": "https://localhost:8080/"
        },
        "outputId": "4a0d1bd5-959d-446c-f8d4-0bcce3f8ae37"
      },
      "execution_count": 33,
      "outputs": [
        {
          "output_type": "execute_result",
          "data": {
            "text/plain": [
              "array([1, 3])"
            ]
          },
          "metadata": {},
          "execution_count": 33
        }
      ]
    },
    {
      "cell_type": "markdown",
      "source": [
        "### `Q-6:` How to convert an array of arrays into a flat 1d array?\n"
      ],
      "metadata": {
        "id": "DSCQMo4mlnDG"
      }
    },
    {
      "cell_type": "code",
      "source": [
        "# These arrays are given.\n",
        "arr1 = np.arange(3)\n",
        "arr2 = np.arange(3,7)\n",
        "arr3 = np.arange(7,10)"
      ],
      "metadata": {
        "id": "QZhSkUT2lsJW"
      },
      "execution_count": 12,
      "outputs": []
    },
    {
      "cell_type": "code",
      "source": [
        "import numpy as np\n",
        "np.concatenate((arr1,arr2,arr3))"
      ],
      "metadata": {
        "id": "f42OXNrFls0I",
        "colab": {
          "base_uri": "https://localhost:8080/"
        },
        "outputId": "f18f2e49-ec4f-4e12-edae-6dd298bfc870"
      },
      "execution_count": 25,
      "outputs": [
        {
          "output_type": "execute_result",
          "data": {
            "text/plain": [
              "array([0, 1, 2, 3, 4, 5, 6, 7, 8, 9])"
            ]
          },
          "metadata": {},
          "execution_count": 25
        }
      ]
    },
    {
      "cell_type": "markdown",
      "source": [
        "### `Q-7:` You are given a array. You have to find the minimum and maximum array element and remove that from the array.\n",
        "\n",
        "```python\n",
        "import numpy as np\n",
        "\n",
        "np.random.seed(400)\n",
        "arr = np.random.randint(100, 1000, 200).reshape((1, 200))\n",
        "```"
      ],
      "metadata": {
        "id": "A1J4oOVCluqO"
      }
    },
    {
      "cell_type": "code",
      "source": [
        "import numpy as np\n",
        "\n",
        "np.random.seed(400)\n",
        "arr = np.random.randint(100, 1000, 200).reshape((1, 200))\n",
        "arr\n"
      ],
      "metadata": {
        "id": "c6kmgtUJlybZ",
        "colab": {
          "base_uri": "https://localhost:8080/"
        },
        "outputId": "6473fe6a-a614-499b-b72c-1e978fd342e3"
      },
      "execution_count": 14,
      "outputs": [
        {
          "output_type": "execute_result",
          "data": {
            "text/plain": [
              "array([[448, 563, 418, 240, 507, 362, 345, 236, 719, 291, 298, 639, 458,\n",
              "        387, 262, 613, 267, 882, 181, 425, 790, 635, 889, 818, 872, 967,\n",
              "        277, 470, 336, 920, 917, 295, 557, 830, 506, 385, 353, 975, 592,\n",
              "        997, 137, 340, 222, 215, 472, 459, 617, 649, 935, 956, 914, 932,\n",
              "        645, 952, 921, 490, 527, 972, 278, 307, 840, 958, 246, 449, 251,\n",
              "        957, 103, 627, 920, 824, 356, 825, 173, 323, 372, 960, 710, 464,\n",
              "        244, 782, 763, 635, 436, 774, 171, 469, 178, 458, 624, 211, 771,\n",
              "        270, 308, 231, 952, 514, 699, 702, 433, 900, 373, 318, 998, 265,\n",
              "        503, 320, 230, 324, 922, 967, 620, 743, 527, 117, 566, 804, 123,\n",
              "        946, 587, 227, 853, 757, 944, 328, 855, 930, 325, 729, 426, 514,\n",
              "        296, 879, 575, 936, 705, 209, 191, 743, 510, 513, 628, 559, 658,\n",
              "        528, 395, 525, 922, 136, 496, 225, 895, 975, 263, 908, 420, 711,\n",
              "        800, 976, 786, 235, 930, 859, 618, 226, 695, 460, 218, 483, 490,\n",
              "        803, 621, 453, 193, 607, 677, 637, 728, 724, 534, 748, 291, 194,\n",
              "        761, 875, 687, 569, 228, 482, 781, 554, 654, 739, 885, 197, 266,\n",
              "        228, 892, 207, 883, 588]])"
            ]
          },
          "metadata": {},
          "execution_count": 14
        }
      ]
    },
    {
      "cell_type": "code",
      "source": [
        "l = np.sort(arr)\n",
        "l[:,1:-1]"
      ],
      "metadata": {
        "colab": {
          "base_uri": "https://localhost:8080/"
        },
        "id": "SSxBvLYj6Nmz",
        "outputId": "68b090e7-bc35-4339-df6f-1817c0290263"
      },
      "execution_count": 15,
      "outputs": [
        {
          "output_type": "execute_result",
          "data": {
            "text/plain": [
              "array([[117, 123, 136, 137, 171, 173, 178, 181, 191, 193, 194, 197, 207,\n",
              "        209, 211, 215, 218, 222, 225, 226, 227, 228, 228, 230, 231, 235,\n",
              "        236, 240, 244, 246, 251, 262, 263, 265, 266, 267, 270, 277, 278,\n",
              "        291, 291, 295, 296, 298, 307, 308, 318, 320, 323, 324, 325, 328,\n",
              "        336, 340, 345, 353, 356, 362, 372, 373, 385, 387, 395, 418, 420,\n",
              "        425, 426, 433, 436, 448, 449, 453, 458, 458, 459, 460, 464, 469,\n",
              "        470, 472, 482, 483, 490, 490, 496, 503, 506, 507, 510, 513, 514,\n",
              "        514, 525, 527, 527, 528, 534, 554, 557, 559, 563, 566, 569, 575,\n",
              "        587, 588, 592, 607, 613, 617, 618, 620, 621, 624, 627, 628, 635,\n",
              "        635, 637, 639, 645, 649, 654, 658, 677, 687, 695, 699, 702, 705,\n",
              "        710, 711, 719, 724, 728, 729, 739, 743, 743, 748, 757, 761, 763,\n",
              "        771, 774, 781, 782, 786, 790, 800, 803, 804, 818, 824, 825, 830,\n",
              "        840, 853, 855, 859, 872, 875, 879, 882, 883, 885, 889, 892, 895,\n",
              "        900, 908, 914, 917, 920, 920, 921, 922, 922, 930, 930, 932, 935,\n",
              "        936, 944, 946, 952, 952, 956, 957, 958, 960, 967, 967, 972, 975,\n",
              "        975, 976, 997]])"
            ]
          },
          "metadata": {},
          "execution_count": 15
        }
      ]
    },
    {
      "cell_type": "markdown",
      "source": [
        "### `Q-8:` You are given an arrays. You have to limit this array's elements between 100 to 200. $arr ∈ [100, 700]$. So replace those values accordingly with the minimum and maximum value. Then sort the array and perform the cumulative sum of that array."
      ],
      "metadata": {
        "id": "0dHN1sdnl0Jy"
      }
    },
    {
      "cell_type": "code",
      "source": [],
      "metadata": {
        "id": "oqWqiadw5G8v"
      },
      "execution_count": 15,
      "outputs": []
    },
    {
      "cell_type": "code",
      "source": [
        "import numpy as np\n",
        "\n",
        "a = np.random.randint(100,700,20)\n",
        "\n",
        "def limit(arr: np.ndarray):\n",
        "    # Step 1: Limit values between 100 and 200\n",
        "    clipped = np.clip(arr, 100, 200)\n",
        "\n",
        "    # Step 2: Sort the array\n",
        "    sorted_arr = np.sort(clipped)\n",
        "\n",
        "    # Step 3: Cumulative sum\n",
        "    cumsum_arr = np.cumsum(sorted_arr)\n",
        "\n",
        "    return cumsum_arr\n",
        "\n",
        "print(\"Original array:\", a)\n",
        "print(\"Result:\", limit(a))\n"
      ],
      "metadata": {
        "id": "a3YF_E-Hlza7",
        "colab": {
          "base_uri": "https://localhost:8080/"
        },
        "outputId": "778f5d9b-5d70-4200-de5e-166fc5f7b504"
      },
      "execution_count": 16,
      "outputs": [
        {
          "output_type": "stream",
          "name": "stdout",
          "text": [
            "Original array: [505 381 689 427 478 573 483 394 401 223 644 249 392 454 524 282 632 300\n",
            " 646 249]\n",
            "Result: [ 200  400  600  800 1000 1200 1400 1600 1800 2000 2200 2400 2600 2800\n",
            " 3000 3200 3400 3600 3800 4000]\n"
          ]
        }
      ]
    },
    {
      "cell_type": "markdown",
      "source": [
        "### `Q-9:` You are given a array ($arr ∈ [0, 1]$). First you have round off the elements upto 3 decimal places and compare that\n",
        "- 0th percentile == minimum value of the array\n",
        "- 100th percentile == maximum value of the array\n",
        "- also find the difference betwen 51th percenile and 50th percentile values"
      ],
      "metadata": {
        "id": "cXj90Susl4-I"
      }
    },
    {
      "cell_type": "code",
      "source": [
        "import numpy as np\n",
        "x = np.linspace(0,1,20)\n",
        "x= np.round(x,3)\n",
        "x"
      ],
      "metadata": {
        "id": "SgBEHodgl7Lo",
        "colab": {
          "base_uri": "https://localhost:8080/"
        },
        "outputId": "a99cf2d8-1ae1-4f97-9e95-a178c69f1674"
      },
      "execution_count": 17,
      "outputs": [
        {
          "output_type": "execute_result",
          "data": {
            "text/plain": [
              "array([0.   , 0.053, 0.105, 0.158, 0.211, 0.263, 0.316, 0.368, 0.421,\n",
              "       0.474, 0.526, 0.579, 0.632, 0.684, 0.737, 0.789, 0.842, 0.895,\n",
              "       0.947, 1.   ])"
            ]
          },
          "metadata": {},
          "execution_count": 17
        }
      ]
    },
    {
      "cell_type": "code",
      "source": [
        "np.min(x)"
      ],
      "metadata": {
        "colab": {
          "base_uri": "https://localhost:8080/"
        },
        "id": "osxZcsZBzYs0",
        "outputId": "3ca3149c-98ae-46f5-8f0a-862d2e0337db"
      },
      "execution_count": 18,
      "outputs": [
        {
          "output_type": "execute_result",
          "data": {
            "text/plain": [
              "np.float64(0.0)"
            ]
          },
          "metadata": {},
          "execution_count": 18
        }
      ]
    },
    {
      "cell_type": "code",
      "source": [
        "np.max(x)"
      ],
      "metadata": {
        "colab": {
          "base_uri": "https://localhost:8080/"
        },
        "id": "r_KJc1s50p9N",
        "outputId": "f22d7601-f49f-4c95-a096-0bf98980fcb6"
      },
      "execution_count": 19,
      "outputs": [
        {
          "output_type": "execute_result",
          "data": {
            "text/plain": [
              "np.float64(1.0)"
            ]
          },
          "metadata": {},
          "execution_count": 19
        }
      ]
    },
    {
      "cell_type": "code",
      "source": [
        "np.median(x)"
      ],
      "metadata": {
        "colab": {
          "base_uri": "https://localhost:8080/"
        },
        "id": "_MEeeY2k0t8c",
        "outputId": "5c53c246-624b-4048-940a-4383b77ef203"
      },
      "execution_count": 20,
      "outputs": [
        {
          "output_type": "execute_result",
          "data": {
            "text/plain": [
              "np.float64(0.5)"
            ]
          },
          "metadata": {},
          "execution_count": 20
        }
      ]
    },
    {
      "cell_type": "code",
      "source": [
        "# 51th percentile\n",
        "z = (51/100)*(len(x)+1)\n",
        "print(np.floor(z))"
      ],
      "metadata": {
        "colab": {
          "base_uri": "https://localhost:8080/"
        },
        "id": "pvarta7U0yX-",
        "outputId": "5413b8aa-00f7-4e6b-eb20-01c5e8f7d121"
      },
      "execution_count": 21,
      "outputs": [
        {
          "output_type": "stream",
          "name": "stdout",
          "text": [
            "10.0\n"
          ]
        }
      ]
    },
    {
      "cell_type": "code",
      "source": [
        "x[[9,10]]"
      ],
      "metadata": {
        "colab": {
          "base_uri": "https://localhost:8080/"
        },
        "id": "Fv1Vj3R41aHG",
        "outputId": "71e56210-684c-49cd-e12c-d2dff607ab72"
      },
      "execution_count": 22,
      "outputs": [
        {
          "output_type": "execute_result",
          "data": {
            "text/plain": [
              "array([0.474, 0.526])"
            ]
          },
          "metadata": {},
          "execution_count": 22
        }
      ]
    },
    {
      "cell_type": "code",
      "source": [
        "np.percentile(x,50)"
      ],
      "metadata": {
        "colab": {
          "base_uri": "https://localhost:8080/"
        },
        "id": "ldutNLZQ1rnl",
        "outputId": "85097a99-a744-4bd4-a146-8096cc06a244"
      },
      "execution_count": 23,
      "outputs": [
        {
          "output_type": "execute_result",
          "data": {
            "text/plain": [
              "np.float64(0.5)"
            ]
          },
          "metadata": {},
          "execution_count": 23
        }
      ]
    },
    {
      "cell_type": "code",
      "source": [
        "np.percentile(x,51) - np.percentile(x,50)"
      ],
      "metadata": {
        "colab": {
          "base_uri": "https://localhost:8080/"
        },
        "id": "Z0pDbwB02xeQ",
        "outputId": "3155653f-3303-4daf-ad2b-45cd3b57fa3d"
      },
      "execution_count": 24,
      "outputs": [
        {
          "output_type": "execute_result",
          "data": {
            "text/plain": [
              "np.float64(0.00988)"
            ]
          },
          "metadata": {},
          "execution_count": 24
        }
      ]
    },
    {
      "cell_type": "code",
      "source": [],
      "metadata": {
        "id": "sqk2R-A23ffR"
      },
      "execution_count": 24,
      "outputs": []
    }
  ]
}